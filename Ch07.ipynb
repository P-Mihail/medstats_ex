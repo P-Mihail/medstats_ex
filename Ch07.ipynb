{
 "cells": [
  {
   "cell_type": "code",
   "execution_count": 1,
   "metadata": {},
   "outputs": [],
   "source": [
    "from typing import List, Union\n",
    "\n",
    "import os\n",
    "import numpy as np\n",
    "import pandas as pd\n",
    "\n",
    "import matplotlib.pyplot as plt\n",
    "from matplotlib.transforms import Affine2D\n",
    "\n",
    "from statsmodels.stats.proportion import proportion_confint, confint_proportions_2indep\n",
    "from scipy.stats import t\n",
    "\n",
    "plt.style.use('ggplot')"
   ]
  },
  {
   "cell_type": "code",
   "execution_count": 2,
   "metadata": {},
   "outputs": [],
   "source": [
    "if os.path.exists('src'):\n",
    "    %load_ext autoreload\n",
    "    %autoreload 2\n",
    "\n",
    "    from src.statutils import Sp\n",
    "    from src.utils import add_CI\n",
    "else:\n",
    "    !pip install toleranceinterval\n",
    "    !git clone https://github.com/P-Mihail/medstats_ex.git\n",
    "\n",
    "    from medstats_ex.src.statutils import Sp  # type: ignore\n",
    "    from medstats_ex.src.utils import add_CI  # type: ignore\n",
    "\n",
    "import toleranceinterval as ti"
   ]
  },
  {
   "cell_type": "markdown",
   "metadata": {},
   "source": [
    "### Глава 7\n",
    "#### Доверительные интервалы\n",
    "\n",
    "##### ДОВЕРИТЕЛЬНЫЙ ИНТЕРВАЛ ДЛЯ РАЗНОСТИ СРЕДНИХ\n",
    "\n",
    "$(\\overline{X}_1-\\overline{X}_2)-t_{\\alpha}S_{\\overline{X}_1-\\overline{X}_2} < \\mu_1-\\mu_2 < (\\overline{X}_1-\\overline{X}_2)+t_{\\alpha}S_{\\overline{X}_1-\\overline{X}_2}$, \n",
    "\n",
    "$S_{\\overline{X}_1-\\overline{X}_2}=S\\sqrt{\\cfrac{1}{n_1}+\\cfrac{1}{n_2}}$ - стандартная ошибка разности средних, \n",
    "\n",
    "$S^2=\\cfrac{(n_1-1)s^2_1+(n_2-1)s^2_2}{n_1+n_2-2}$ - объединенная оценка дисперсии.\n",
    "\n",
    "Этот способ определения доверительного интервала, как и критерий Стыодента, на котором он основан, можно применять только тогда, когда совокупность имеет хотя бы приближенно нормальное распределение.\n",
    "\n",
    "##### ДОВЕРИТЕЛЬНЫЙ ИНТЕРВАЛ ДЛЯ СРЕДНЕГО\n",
    "\n",
    "$\\overline{X}-t_{\\alpha}S_{\\overline{X}} < \\mu < \\overline{X}+t_{\\alpha}S_{\\overline{X}}$\n",
    "\n",
    "где $S_{\\overline{X}}$ - стандартная ошибка среднего.\n",
    "\n",
    "##### ДОВЕРИТЕЛЬНЫЙ ИНТЕРВАЛ ДЛЯ РАЗНОСТИ ДОЛЕЙ\n",
    "\n",
    "$(\\hat{p}_1-\\hat{p}_2)-z_{\\alpha}S_{\\hat{p}_1-\\hat{p}_2} < p_1 - p_2 < (\\hat{p}_1-\\hat{p}_2)+z_{\\alpha}S_{\\hat{p}_1-\\hat{p}_2}$,\n",
    "\n",
    "$p_1$ и $p_2$ - истинные доли в каждой из совокупностей, $\\hat{p}_1=\\cfrac{m_1}{n_1}$ и $\\hat{p}_2=\\cfrac{m_2}{n_2}$ - выборочные оценки этих долей,\n",
    "\n",
    "$S_{\\hat{p}_1-\\hat{p}_2} = \\sqrt{\\hat{p}(1-\\hat{p})(\\cfrac{1}{n_1} + \\cfrac{1}{n_2})}$ - стандартная ошибка разности выборочных долей,\n",
    "\n",
    "$\\hat{p}=\\cfrac{m_1 + m_2}{n_1 + n_2}$ - объединенная оценка доли.\n",
    "\n",
    "##### ДОВЕРИТЕЛЬНЫЙ ИНТЕРВАЛ ДЛЯ ДОЛИ\n",
    "\n",
    "$\\hat{p}-z_{\\alpha}S_{\\hat{p}}<p<\\hat{p}+z_{\\alpha}S_{\\hat{p}}$,\n",
    "\n",
    "$S_{\\hat{p}}=\\sqrt{\\cfrac{p(1-p)}{n}}$ - стандартная ошибка доли\n",
    "\n",
    "!!! необходимо, чтобы $np$ и $n(1 – p)$ были больше 5, иначе вместо нормального распределения придется использовать биномиальное.\n",
    "\n",
    "##### ДОВЕРИТЕЛЬНЫЙ ИНТЕРВАЛ ДЛЯ ЗНАЧЕНИЙ (Tolerance interval, Толерантный интервал)\n",
    "\n",
    "Обычно доверительный интервал значений определяют как выборочное среднее плюс-минус два стандартных отклонения. Это хорошо при большом (100+) объеме выборки. \n",
    "\n",
    "По выборкам небольшого объема, нужно брать интервал, более широкий, чем плюс-минус два стандартных отклонения (при выборках большого объема такая страховка не нужна). Этот интервал вычисляют по формуле:\n",
    "\n",
    "$\\overline{X}-K_{\\alpha}S < X < \\overline{X}+K_{\\alpha}S$, где $K_{\\alpha}$ - коэффициент, который зависит от доли $f$ членов совокупности, которые должны попасть в доверительный\n",
    "интервал, от вероятности того, что они действительно туда попали $1 – \\alpha$ и от объема выборки $n$. Этот коэффициент играет примерно ту же роль, что $t_{\\alpha}$ или $Z_{\\alpha}$. (K > t > Z,  поскольку K учитывает не только значение среднего, но и неопределенность оценок среднего и стандартного отклонения).\n",
    "\n",
    "Для нахождения К можно применить специальные диаграммы или воспользоваться сразу пакетом toleranceinterval позволяющим найти интервал толерантности."
   ]
  },
  {
   "cell_type": "markdown",
   "metadata": {},
   "source": [
    "**7.1.**\n",
    "По данным из задачи 2.6 найдите 90 и 95% доверительные интервалы для среднего числа авторов статей, опубликованных в медицинских журналах за 1946, 1956, 1966 и 1976 гг.\n",
    "> **2.6**\n",
    "> Р. Флетчер и С. Флетчер (R. Fletcher, S. Fletcher. Clinical research in general medical journals: a 30-year perspective. N. Engl. J. Med., 301:180–183, 1979) изучили библиографические характеристики 612 случайно выбранных статей, опубликованных в журналах Journal of American Medical Association, New England Journal of Medicine и Lancet с 1946 г. Одним из показателей было число авторов статьи. Было установлено следующее:\n",
    "\n",
    "|Год|Число обследованных статей|Среднее число авторов|Стандартное отклонение|\n",
    "|-|-|-|-|\n",
    "|1946|151|2,0|1,4|\n",
    "|1956|149|2,3|1,6|\n",
    "|1966|157|2,8|1,2|\n",
    "|1976|155|4,9|7,3|\n",
    "\n",
    "> Нарисуйте график среднего числа авторов по годам. Может ли распределение статей по числу авторов быть нормальным?\n",
    "> Почему?"
   ]
  },
  {
   "cell_type": "code",
   "execution_count": 3,
   "metadata": {},
   "outputs": [
    {
     "data": {
      "text/html": [
       "<div>\n",
       "<style scoped>\n",
       "    .dataframe tbody tr th:only-of-type {\n",
       "        vertical-align: middle;\n",
       "    }\n",
       "\n",
       "    .dataframe tbody tr th {\n",
       "        vertical-align: top;\n",
       "    }\n",
       "\n",
       "    .dataframe thead th {\n",
       "        text-align: right;\n",
       "    }\n",
       "</style>\n",
       "<table border=\"1\" class=\"dataframe\">\n",
       "  <thead>\n",
       "    <tr style=\"text-align: right;\">\n",
       "      <th></th>\n",
       "      <th>n_articles</th>\n",
       "      <th>mean_authors</th>\n",
       "      <th>std</th>\n",
       "      <th>MoE_90</th>\n",
       "      <th>90% LB</th>\n",
       "      <th>90% RB</th>\n",
       "      <th>MoE_95</th>\n",
       "      <th>95% LB</th>\n",
       "      <th>95% RB</th>\n",
       "    </tr>\n",
       "    <tr>\n",
       "      <th>year</th>\n",
       "      <th></th>\n",
       "      <th></th>\n",
       "      <th></th>\n",
       "      <th></th>\n",
       "      <th></th>\n",
       "      <th></th>\n",
       "      <th></th>\n",
       "      <th></th>\n",
       "      <th></th>\n",
       "    </tr>\n",
       "  </thead>\n",
       "  <tbody>\n",
       "    <tr>\n",
       "      <th>1946</th>\n",
       "      <td>151</td>\n",
       "      <td>2.0</td>\n",
       "      <td>1.4</td>\n",
       "      <td>0.188563</td>\n",
       "      <td>1.811437</td>\n",
       "      <td>2.188563</td>\n",
       "      <td>0.225116</td>\n",
       "      <td>1.774884</td>\n",
       "      <td>2.225116</td>\n",
       "    </tr>\n",
       "    <tr>\n",
       "      <th>1956</th>\n",
       "      <td>149</td>\n",
       "      <td>2.3</td>\n",
       "      <td>1.6</td>\n",
       "      <td>0.216961</td>\n",
       "      <td>2.083039</td>\n",
       "      <td>2.516961</td>\n",
       "      <td>0.259024</td>\n",
       "      <td>2.040976</td>\n",
       "      <td>2.559024</td>\n",
       "    </tr>\n",
       "    <tr>\n",
       "      <th>1966</th>\n",
       "      <td>157</td>\n",
       "      <td>2.8</td>\n",
       "      <td>1.2</td>\n",
       "      <td>0.158469</td>\n",
       "      <td>2.641531</td>\n",
       "      <td>2.958469</td>\n",
       "      <td>0.189174</td>\n",
       "      <td>2.610826</td>\n",
       "      <td>2.989174</td>\n",
       "    </tr>\n",
       "    <tr>\n",
       "      <th>1976</th>\n",
       "      <td>155</td>\n",
       "      <td>4.9</td>\n",
       "      <td>7.3</td>\n",
       "      <td>0.970297</td>\n",
       "      <td>3.929703</td>\n",
       "      <td>5.870297</td>\n",
       "      <td>1.158328</td>\n",
       "      <td>3.741672</td>\n",
       "      <td>6.058328</td>\n",
       "    </tr>\n",
       "  </tbody>\n",
       "</table>\n",
       "</div>"
      ],
      "text/plain": [
       "      n_articles  mean_authors  std    MoE_90    90% LB    90% RB    MoE_95  \\\n",
       "year                                                                          \n",
       "1946         151           2.0  1.4  0.188563  1.811437  2.188563  0.225116   \n",
       "1956         149           2.3  1.6  0.216961  2.083039  2.516961  0.259024   \n",
       "1966         157           2.8  1.2  0.158469  2.641531  2.958469  0.189174   \n",
       "1976         155           4.9  7.3  0.970297  3.929703  5.870297  1.158328   \n",
       "\n",
       "        95% LB    95% RB  \n",
       "year                      \n",
       "1946  1.774884  2.225116  \n",
       "1956  2.040976  2.559024  \n",
       "1966  2.610826  2.989174  \n",
       "1976  3.741672  6.058328  "
      ]
     },
     "metadata": {},
     "output_type": "display_data"
    }
   ],
   "source": [
    "df = pd.DataFrame(\n",
    "        [[1946, 151, 2, 1.4], \n",
    "        [1956, 149, 2.3, 1.6], \n",
    "        [1966, 157, 2.8, 1.2],  \n",
    "        [1976, 155, 4.9, 7.3]], \n",
    "        columns=[\"year\", \"n_articles\", \"mean_authors\", \"std\"])\\\n",
    "    .set_index(\"year\")\n",
    "\n",
    "df = df.pipe(add_CI, 90, [\"n_articles\", \"mean_authors\", \"std\"]).pipe(add_CI, 95, [\"n_articles\", \"mean_authors\", \"std\"])\n",
    "\n",
    "display(df)"
   ]
  },
  {
   "cell_type": "code",
   "execution_count": 4,
   "metadata": {},
   "outputs": [
    {
     "data": {
      "text/plain": [
       "<matplotlib.legend.Legend at 0x2c295ef5ca0>"
      ]
     },
     "execution_count": 4,
     "metadata": {},
     "output_type": "execute_result"
    },
    {
     "data": {
      "image/png": "[encoded data removed]",
      "text/plain": [
       "<Figure size 432x288 with 1 Axes>"
      ]
     },
     "metadata": {
      "needs_background": "light"
     },
     "output_type": "display_data"
    }
   ],
   "source": [
    "fig, ax = plt.subplots()\n",
    "\n",
    "for i, p in enumerate([90, 95]):\n",
    "    ax.errorbar(x=df.index, \n",
    "                y=df[\"mean_authors\"], \n",
    "                yerr=df[f\"MoE_{p}\"], \n",
    "                fmt=\"o\", \n",
    "                transform=Affine2D().translate(-0.25 + i*0.5, 0.0) + ax.transData,\n",
    "                label=f\"{p}%\")\n",
    "\n",
    "plt.legend(loc='lower right')"
   ]
  },
  {
   "cell_type": "code",
   "execution_count": 5,
   "metadata": {},
   "outputs": [
    {
     "name": "stdout",
     "output_type": "stream",
     "text": [
      "90% доверительные интервалы:\n",
      "\t1946: 2.0 ± 0.189 (1.811, 2.189)\n",
      "\t1956: 2.3 ± 0.217 (2.083, 2.517)\n",
      "\t1966: 2.8 ± 0.158 (2.642, 2.958)\n",
      "\t1976: 4.9 ± 0.970 (3.930, 5.870)\n",
      "95% доверительные интервалы:\n",
      "\t1946: 2.0 ± 0.225 (1.775, 2.225)\n",
      "\t1956: 2.3 ± 0.259 (2.041, 2.559)\n",
      "\t1966: 2.8 ± 0.189 (2.611, 2.989)\n",
      "\t1976: 4.9 ± 1.158 (3.742, 6.058)\n"
     ]
    }
   ],
   "source": [
    "for p in [90, 95]:\n",
    "    print(f\"{p}% доверительные интервалы:\")\n",
    "    for idx, x in df.iterrows():\n",
    "        print(f\"\\t{idx}: {x['mean_authors']} \\u00b1 {x[f'MoE_{p}']:.3f} ({x[f'{p}% LB']:.3f}, {x[f'{p}% RB']:.3f})\")"
   ]
  },
  {
   "cell_type": "markdown",
   "metadata": {},
   "source": [
    "**7.2.**\n",
    "Ранее (задача 3.1) мы познакомились с исследованием Ч. О’Херлихи и Г. Мак-Дональда (С. O’Herlihy, H. MacDonald. Influence of preinduction prostaglandin E2 vaginal gel on cervical\n",
    "ripening and labor. Obstet. Gynecol., 54:708—710, 1979). Как выяснилось, гель с простагландином Е2 сокращает продолжительность родов. Позволяет ли он избежать кесарева сечения? В группе, получавшей гель с простагландином Е2, кесарево сечение потребовалось 15% женщин, в контрольной группе — 23,9%. В обеих группах было по 21 женщине. Найдите 95% доверительные интервалы для доли рожениц, которым требуется кесарево сечение в обеих группах. Найдите 95% доверительный интервал для разности долей. Можно ли утверждать, что простагландин снижает вероятность кесарева сечения?\n",
    "> **3.1** Если  при  родах  шейка  матки  долго  не  раскрывается, то продолжительность родов увеличивается и может возникнуть необходимость кесарева сечения. Ч. О’Херлихи и Г. Мак-Дональд (С. O’Herlihy, H. MacDonaid. Influence of reproduction prostaglandin E2 vaginal gel on cervical ripening and labor. Obstet. Gynесоl., 54: 708—710, 1979) решили выяснить, ускоряет ли гель с простагландином Е2 раскрытие шейки матки. В исследование вошло 2 группы  рожениц.  Роженицам  первой  группы  вводили  в  шейку матки гель с простагландином Е2, роженицам второй группы вводили гель-плацебо. В обеих группах было по 21 роженице возраст, рост и сроки беременности были примерно одинаковы. Роды в группе, получавшей гель с простагландином Е2, длились в среднем 8,5 ч (стандартное отклонение 4,7 ч), в контрольной группе — 13,9 ч (стандартное отклонение — 4,1 ч). Можно ли утверждать, что гель с простагландином Е2 сокращал продолжительность родов?"
   ]
  },
  {
   "cell_type": "code",
   "execution_count": 6,
   "metadata": {},
   "outputs": [
    {
     "data": {
      "text/html": [
       "<div>\n",
       "<style scoped>\n",
       "    .dataframe tbody tr th:only-of-type {\n",
       "        vertical-align: middle;\n",
       "    }\n",
       "\n",
       "    .dataframe tbody tr th {\n",
       "        vertical-align: top;\n",
       "    }\n",
       "\n",
       "    .dataframe thead th {\n",
       "        text-align: right;\n",
       "    }\n",
       "</style>\n",
       "<table border=\"1\" class=\"dataframe\">\n",
       "  <thead>\n",
       "    <tr style=\"text-align: right;\">\n",
       "      <th></th>\n",
       "      <th>+ C-section</th>\n",
       "      <th>- C-section</th>\n",
       "      <th>m</th>\n",
       "      <th>n</th>\n",
       "      <th>CI L</th>\n",
       "      <th>CI R</th>\n",
       "    </tr>\n",
       "  </thead>\n",
       "  <tbody>\n",
       "    <tr>\n",
       "      <th>Treatment group</th>\n",
       "      <td>0.150</td>\n",
       "      <td>0.850</td>\n",
       "      <td>3</td>\n",
       "      <td>21</td>\n",
       "      <td>0.030489</td>\n",
       "      <td>0.363424</td>\n",
       "    </tr>\n",
       "    <tr>\n",
       "      <th>Control group</th>\n",
       "      <td>0.239</td>\n",
       "      <td>0.761</td>\n",
       "      <td>5</td>\n",
       "      <td>21</td>\n",
       "      <td>0.082176</td>\n",
       "      <td>0.471660</td>\n",
       "    </tr>\n",
       "  </tbody>\n",
       "</table>\n",
       "</div>"
      ],
      "text/plain": [
       "                 + C-section  - C-section  m   n      CI L      CI R\n",
       "Treatment group        0.150        0.850  3  21  0.030489  0.363424\n",
       "Control group          0.239        0.761  5  21  0.082176  0.471660"
      ]
     },
     "metadata": {},
     "output_type": "display_data"
    }
   ],
   "source": [
    "N = 21\n",
    "\n",
    "df = pd.DataFrame(\n",
    "    data=[[0.15, 0.85], [0.239, 0.761]], \n",
    "    index=[\"Treatment group\", \"Control group\"], \n",
    "    columns=[\"+ C-section\", \"- C-section\"]\n",
    ")\n",
    "\n",
    "# df[\"SE\"] = (df[\"+ C-section\"]*df[\"- C-section\"]/21)**.5\n",
    "df[\"m\"] = (df[\"+ C-section\"]*N).round().astype(\"int\")\n",
    "df[\"n\"] = N\n",
    "\n",
    "df[[\"CI L\", \"CI R\"]] = df.apply(lambda r: proportion_confint(count=r[\"m\"], nobs=r[\"n\"], alpha=0.05, method='beta'), 1, result_type ='expand')\n",
    "\n",
    "display(df)"
   ]
  },
  {
   "cell_type": "code",
   "execution_count": 7,
   "metadata": {},
   "outputs": [
    {
     "data": {
      "image/png": "[encoded data removed]",
      "text/plain": [
       "<Figure size 432x288 with 1 Axes>"
      ]
     },
     "metadata": {
      "needs_background": "light"
     },
     "output_type": "display_data"
    }
   ],
   "source": [
    "fig, ax = plt.subplots()\n",
    "\n",
    "ax.errorbar(x=df[\"+ C-section\"],\n",
    "            y=df.index,\n",
    "            xerr=(df[\"+ C-section\"] - df[\"CI L\"], df[\"CI R\"] - df[\"+ C-section\"]),\n",
    "            fmt=\"o\")\n",
    "\n",
    "plt.xlim([0, 1]);"
   ]
  },
  {
   "cell_type": "code",
   "execution_count": 8,
   "metadata": {},
   "outputs": [
    {
     "data": {
      "text/plain": [
       "(-0.14052267847608735, 0.3309988689522778)"
      ]
     },
     "execution_count": 8,
     "metadata": {},
     "output_type": "execute_result"
    }
   ],
   "source": [
    "confint_proportions_2indep(5, 21, 3, 21, method=\"wald\")"
   ]
  },
  {
   "cell_type": "markdown",
   "metadata": {},
   "source": [
    "**Ответ:**\n",
    "\n",
    "для контрольной группы CI = 8-47%, для группы, получавшей гель с простагландином Е2 CI = 3-36%. \n",
    "\n",
    "95% доверительный интервал для разности долей: (-14%, 33%). Т.о. разность долей статистически не значима."
   ]
  },
  {
   "cell_type": "markdown",
   "metadata": {},
   "source": [
    "**7.3.**\n",
    "\n",
    "По данным задачи 3.1 найдите 95% доверительный интервал для разности средней продолжительности родов у получавших гель с простагландином Е2 и получавших плацебо. Позволяет ли вычисленный доверительный интервал утверждать, что различия статистически значимы?"
   ]
  },
  {
   "cell_type": "code",
   "execution_count": 9,
   "metadata": {},
   "outputs": [
    {
     "data": {
      "text/html": [
       "<div>\n",
       "<style scoped>\n",
       "    .dataframe tbody tr th:only-of-type {\n",
       "        vertical-align: middle;\n",
       "    }\n",
       "\n",
       "    .dataframe tbody tr th {\n",
       "        vertical-align: top;\n",
       "    }\n",
       "\n",
       "    .dataframe thead th {\n",
       "        text-align: right;\n",
       "    }\n",
       "</style>\n",
       "<table border=\"1\" class=\"dataframe\">\n",
       "  <thead>\n",
       "    <tr style=\"text-align: right;\">\n",
       "      <th></th>\n",
       "      <th>mean</th>\n",
       "      <th>std</th>\n",
       "    </tr>\n",
       "  </thead>\n",
       "  <tbody>\n",
       "    <tr>\n",
       "      <th>Treatment group</th>\n",
       "      <td>8.5</td>\n",
       "      <td>4.7</td>\n",
       "    </tr>\n",
       "    <tr>\n",
       "      <th>Control group</th>\n",
       "      <td>13.9</td>\n",
       "      <td>4.1</td>\n",
       "    </tr>\n",
       "  </tbody>\n",
       "</table>\n",
       "</div>"
      ],
      "text/plain": [
       "                 mean  std\n",
       "Treatment group   8.5  4.7\n",
       "Control group    13.9  4.1"
      ]
     },
     "metadata": {},
     "output_type": "display_data"
    }
   ],
   "source": [
    "N = 21\n",
    "\n",
    "df = pd.DataFrame(\n",
    "    data=[[8.5, 4.7], [13.9, 4.1]], \n",
    "    index=[\"Treatment group\", \"Control group\"], \n",
    "    columns=[\"mean\", \"std\"]\n",
    ")\n",
    "\n",
    "# df[\"MoE_95%\"] = t.ppf(.975, df=20, scale=df[\"std\"]/21**.5)\n",
    "\n",
    "display(df)"
   ]
  },
  {
   "cell_type": "code",
   "execution_count": 10,
   "metadata": {},
   "outputs": [
    {
     "data": {
      "text/plain": [
       "(2.6492718896724883, 8.150728110327513)"
      ]
     },
     "execution_count": 10,
     "metadata": {},
     "output_type": "execute_result"
    }
   ],
   "source": [
    "MoE = t.ppf(0.975, 40) * Sp(21, 21, 4.7, 4.1) * (2/21)**.5\n",
    "\n",
    "13.9 - 8.5 - MoE, 13.9 - 8.5 + MoE"
   ]
  },
  {
   "cell_type": "markdown",
   "metadata": {},
   "source": [
    "**Ответ:**\n",
    "95% доверительный интервал разности средней продолжительности родов — от 2,65 до 8,15. Различия статистически значимы (Р < 0,05)."
   ]
  },
  {
   "cell_type": "markdown",
   "metadata": {},
   "source": [
    "**7.4.**\n",
    "По данным задачи 5.1 найдите 95% доверительные интервалыдля долей больных, которые не чувствовали боли при включенном и выключенном приборе. Можно ли по этим интервалам оценить статистическую значимость различий?\n",
    "> **5.1.** Т. Бишоп (Т. Bishop. High frequency neural modulation in dentistry. J. Am. Dent. Assoc., 112:176—177, 1986) изучил эффективность высокочастотной стимуляции нерва в качестве обезболивающего средства при удалении зуба. Все больные подключались к прибору, но в одних случаях он работал, в других был выключен. Ни стоматолог, ни больной не знали, включен ли прибор. Позволяют ли следующие данные считать высокочастотную стимуляцию нерва действенным анальгезируюшим средством?\n",
    "\n",
    "-|Прибор включен|Прибор выключен\n",
    "-|-|-\n",
    "Боли нет|24|3\n",
    "Боль есть|6|17"
   ]
  },
  {
   "cell_type": "code",
   "execution_count": 11,
   "metadata": {},
   "outputs": [
    {
     "data": {
      "text/html": [
       "<div>\n",
       "<style scoped>\n",
       "    .dataframe tbody tr th:only-of-type {\n",
       "        vertical-align: middle;\n",
       "    }\n",
       "\n",
       "    .dataframe tbody tr th {\n",
       "        vertical-align: top;\n",
       "    }\n",
       "\n",
       "    .dataframe thead th {\n",
       "        text-align: right;\n",
       "    }\n",
       "</style>\n",
       "<table border=\"1\" class=\"dataframe\">\n",
       "  <thead>\n",
       "    <tr style=\"text-align: right;\">\n",
       "      <th></th>\n",
       "      <th>Боли нет</th>\n",
       "      <th>Боль есть</th>\n",
       "    </tr>\n",
       "  </thead>\n",
       "  <tbody>\n",
       "    <tr>\n",
       "      <th>Прибор включен</th>\n",
       "      <td>24</td>\n",
       "      <td>6</td>\n",
       "    </tr>\n",
       "    <tr>\n",
       "      <th>Прибор выключен</th>\n",
       "      <td>3</td>\n",
       "      <td>17</td>\n",
       "    </tr>\n",
       "  </tbody>\n",
       "</table>\n",
       "</div>"
      ],
      "text/plain": [
       "                 Боли нет  Боль есть\n",
       "Прибор включен         24          6\n",
       "Прибор выключен         3         17"
      ]
     },
     "metadata": {},
     "output_type": "display_data"
    }
   ],
   "source": [
    "df = pd.DataFrame(data=[[24, 6], [3, 17]], \n",
    "                  columns=[\"Боли нет\", \"Боль есть\"], \n",
    "                  index=[\"Прибор включен\", \"Прибор выключен\"])\n",
    "\n",
    "display(df)"
   ]
  },
  {
   "cell_type": "code",
   "execution_count": 12,
   "metadata": {},
   "outputs": [
    {
     "name": "stdout",
     "output_type": "stream",
     "text": [
      "Прибор включен:30\n",
      "\tp = 80.00\n",
      "\tДоверительный интервал: (61.43%, 92.29%)\n",
      "Прибор выключен:20\n",
      "\tp = 15.00\n",
      "\tДоверительный интервал: (3.21%, 37.89%)\n"
     ]
    }
   ],
   "source": [
    "for idx, row in df.iterrows():\n",
    "    print(f\"{idx}:{row.sum()}\")\n",
    "    print(f\"\\tp = {row['Боли нет']/row.sum()*100:.2f}\")\n",
    "    ci = proportion_confint(count=row['Боли нет'], nobs=row.sum(), alpha=0.05, method='beta')\n",
    "    print(f\"\\tДоверительный интервал: ({ci[0]*100:.2f}%, {ci[1]*100:.2f}%)\")"
   ]
  },
  {
   "cell_type": "markdown",
   "metadata": {},
   "source": [
    "Доверительные интервалы не перекрываются, поэтому различия статистически значимы."
   ]
  },
  {
   "cell_type": "markdown",
   "metadata": {},
   "source": [
    "**7.5.**\n",
    "Поданным задачи 3.2 найдите 95% доверительные интервалы для каждой из групп. В чем заключаются различия между группами?\n",
    "> **3.2** Курение считают основным фактором, предрасполагающим  к  хроническим  обструктивным  заболеваниям  легких.  Что касается пассивного курения, оно таким фактором обычно не считается. Дж. Уайт  и Г. Фреб усомнились в безвредности пассивного курения и исследовали проходимость дыхательных путей у некурящих,  пассивных  и  активных  курильщиков  (J.  White,  H. Froeb. Small-airways dysfunction in nonsmokers chronically exposed to tobacco smoke. N. Engl. J. Med., 302:720—723, 1980). Для характеристики состояния дыхательных путей взяли один из показателей функции внешнего дыхания — аксимальную объемную скорость середины выдоха которую измеряли во время профилактического  осмотра  сотрудников  Калифорнийского  университета в Сан-Диего. Уменьшение этого показателя — признак нарушения проходимости дыхательных путей. Данные обследования представлены в таблице. Размер каждой группы - 200 человек. <br>\n",
    "> **Максимальная объемная скорость средины выдоха, л/с**\n",
    "\n",
    "Группа|Среднее|Стандартное отклонение\n",
    "-|-|-\n",
    "Некурящие работающие в помещении, где не курят | 3,17 | 0,74\n",
    "Некурящие работающие в накуренном помещении | 2,72 | 0,71\n",
    "Курящие выкуривающие небольшое число сигарет | 2,63 | 0,73\n",
    "Курящие выкуривающие среднее число сигарет | 2,29 | 0,70\n",
    "Курящие выкуривающие большое число сигарет | 2,12 | 0,72\n",
    "\n",
    "> Можно  ли считать максимальную объемную скорость середины выдоха одинаковой во всех группах?"
   ]
  },
  {
   "cell_type": "code",
   "execution_count": 13,
   "metadata": {},
   "outputs": [
    {
     "data": {
      "text/html": [
       "<div>\n",
       "<style scoped>\n",
       "    .dataframe tbody tr th:only-of-type {\n",
       "        vertical-align: middle;\n",
       "    }\n",
       "\n",
       "    .dataframe tbody tr th {\n",
       "        vertical-align: top;\n",
       "    }\n",
       "\n",
       "    .dataframe thead th {\n",
       "        text-align: right;\n",
       "    }\n",
       "</style>\n",
       "<table border=\"1\" class=\"dataframe\">\n",
       "  <thead>\n",
       "    <tr style=\"text-align: right;\">\n",
       "      <th></th>\n",
       "      <th></th>\n",
       "      <th>mean</th>\n",
       "      <th>std</th>\n",
       "      <th>MoE_95</th>\n",
       "      <th>95% LB</th>\n",
       "      <th>95% RB</th>\n",
       "    </tr>\n",
       "  </thead>\n",
       "  <tbody>\n",
       "    <tr>\n",
       "      <th rowspan=\"2\" valign=\"top\">Некурящие</th>\n",
       "      <th>работающие в помещении, где не курят</th>\n",
       "      <td>3.17</td>\n",
       "      <td>0.74</td>\n",
       "      <td>0.103184</td>\n",
       "      <td>3.066816</td>\n",
       "      <td>3.273184</td>\n",
       "    </tr>\n",
       "    <tr>\n",
       "      <th>работающие в накуренном помещении</th>\n",
       "      <td>2.72</td>\n",
       "      <td>0.71</td>\n",
       "      <td>0.099001</td>\n",
       "      <td>2.620999</td>\n",
       "      <td>2.819001</td>\n",
       "    </tr>\n",
       "    <tr>\n",
       "      <th rowspan=\"3\" valign=\"top\">Курящие</th>\n",
       "      <th>выкуривающие небольшое число сигарет</th>\n",
       "      <td>2.63</td>\n",
       "      <td>0.73</td>\n",
       "      <td>0.101790</td>\n",
       "      <td>2.528210</td>\n",
       "      <td>2.731790</td>\n",
       "    </tr>\n",
       "    <tr>\n",
       "      <th>выкуривающие среднее число сигарет</th>\n",
       "      <td>2.29</td>\n",
       "      <td>0.70</td>\n",
       "      <td>0.097607</td>\n",
       "      <td>2.192393</td>\n",
       "      <td>2.387607</td>\n",
       "    </tr>\n",
       "    <tr>\n",
       "      <th>выкуривающие большое число сигарет</th>\n",
       "      <td>2.12</td>\n",
       "      <td>0.72</td>\n",
       "      <td>0.100396</td>\n",
       "      <td>2.019604</td>\n",
       "      <td>2.220396</td>\n",
       "    </tr>\n",
       "  </tbody>\n",
       "</table>\n",
       "</div>"
      ],
      "text/plain": [
       "                                                mean   std    MoE_95  \\\n",
       "Некурящие работающие в помещении, где не курят  3.17  0.74  0.103184   \n",
       "          работающие в накуренном помещении     2.72  0.71  0.099001   \n",
       "Курящие   выкуривающие небольшое число сигарет  2.63  0.73  0.101790   \n",
       "          выкуривающие среднее число сигарет    2.29  0.70  0.097607   \n",
       "          выкуривающие большое число сигарет    2.12  0.72  0.100396   \n",
       "\n",
       "                                                  95% LB    95% RB  \n",
       "Некурящие работающие в помещении, где не курят  3.066816  3.273184  \n",
       "          работающие в накуренном помещении     2.620999  2.819001  \n",
       "Курящие   выкуривающие небольшое число сигарет  2.528210  2.731790  \n",
       "          выкуривающие среднее число сигарет    2.192393  2.387607  \n",
       "          выкуривающие большое число сигарет    2.019604  2.220396  "
      ]
     },
     "metadata": {},
     "output_type": "display_data"
    }
   ],
   "source": [
    "N = 200\n",
    "\n",
    "df = pd.DataFrame(\n",
    "    data=[[3.17, 0.74],[2.72, 0.71],[2.63, 0.73],[2.29, 0.70],[2.12, 0.72]], \n",
    "    index=pd.MultiIndex.from_tuples([\n",
    "        (\"Некурящие\", \"работающие в помещении, где не курят\"), \n",
    "        (\"Некурящие\", \"работающие в накуренном помещении\"), \n",
    "        (\"Курящие\", \"выкуривающие небольшое число сигарет\"), \n",
    "        (\"Курящие\", \"выкуривающие среднее число сигарет\"), \n",
    "        (\"Курящие\", \"выкуривающие большое число сигарет\")\n",
    "        ]), \n",
    "    columns=[\"mean\", \"std\"]\n",
    ")\n",
    "\n",
    "df = df.pipe(add_CI, 95, [200, \"mean\", \"std\"])\n",
    "\n",
    "display(df)"
   ]
  },
  {
   "cell_type": "code",
   "execution_count": 14,
   "metadata": {},
   "outputs": [
    {
     "data": {
      "image/png": "[encoded data removed]",
      "text/plain": [
       "<Figure size 432x288 with 1 Axes>"
      ]
     },
     "metadata": {
      "needs_background": "light"
     },
     "output_type": "display_data"
    }
   ],
   "source": [
    "fig, ax = plt.subplots()\n",
    "\n",
    "ax.errorbar(x=df[\"mean\"], \n",
    "            y=[' '.join(col) for col in df.index], \n",
    "            xerr=df[f\"MoE_95\"], \n",
    "            fmt=\"o\");"
   ]
  },
  {
   "cell_type": "code",
   "execution_count": 15,
   "metadata": {},
   "outputs": [
    {
     "name": "stdout",
     "output_type": "stream",
     "text": [
      "95% доверительные интервалы:\n",
      "\tНекурящиеработающие в помещении, где не курят: 3.17 ± 0.103 (3.067, 3.273)\n",
      "\tНекурящиеработающие в накуренном помещении: 2.72 ± 0.099 (2.621, 2.819)\n",
      "\tКурящиевыкуривающие небольшое число сигарет: 2.63 ± 0.102 (2.528, 2.732)\n",
      "\tКурящиевыкуривающие среднее число сигарет: 2.29 ± 0.098 (2.192, 2.388)\n",
      "\tКурящиевыкуривающие большое число сигарет: 2.12 ± 0.100 (2.020, 2.220)\n"
     ]
    }
   ],
   "source": [
    "print(\"95% доверительные интервалы:\")\n",
    "for idx, x in df.iterrows():\n",
    "    print(f\"\\t{''.join(idx)}: {x['mean']} \\u00b1 {x[f'MoE_95']:.3f} ({x[f'95% LB']:.3f}, {x[f'95% RB']:.3f})\")"
   ]
  },
  {
   "cell_type": "markdown",
   "metadata": {},
   "source": [
    "Объединив группы с перекрывающимися доверительными интервалами, получим 3 категории: \n",
    "1. некурящие, работающие в помещении, где не курят\n",
    "2. пассивные курильщики и выкуривающие небольшое число сигарет\n",
    "3. выкуривающие среднее и большое число сигарет\n"
   ]
  },
  {
   "cell_type": "markdown",
   "metadata": {},
   "source": [
    "**7.6.**\n",
    "\n",
    "По данным задачи 5.6 найдите 95% доверительные интервалы для доли работ, где данные были получены до планирования исследования.\n",
    "\n",
    "> **5.6**\n",
    "\n",
    "> Как правило, качество исследования выше, а соответствие собираемых данных поставленному вопросу точнее, если данные собираются специально для этого исследования после его планирования. Р. и С. Флетчеры (R. Fletcher, S. Fletcher. Clinical research in general medical journals: а 30-year perspective. N. Engl. J. Med., 301:180—183, 1979) исследовали 612 работ, случайным образом выбранных из журналов Journal of American Medical Association, Lancet и New England Journal of Medicine, чтобы определить, собирали ли их авторы свои данные до или после планирования исследования. Вот что удалось обнаружить:\n",
    "\n",
    "_|1946|1956|1966|1976\n",
    "-|-|-|-|-\n",
    "Число рассмотренных работ|151|149|157|155\n",
    "Процент работ, где данные собирали после планирования исследования|76|71|49|44\n",
    "Процент работ, где данные собирали до планирования исследования|24|29|51|56\n",
    "\n",
    "\n",
    "> Оцените статистическую значимость различия долей. Если различия есть, то можно ли сказать, что положение меняется к лучшему?\n"
   ]
  },
  {
   "cell_type": "code",
   "execution_count": 16,
   "metadata": {},
   "outputs": [
    {
     "data": {
      "text/html": [
       "<div>\n",
       "<style scoped>\n",
       "    .dataframe tbody tr th:only-of-type {\n",
       "        vertical-align: middle;\n",
       "    }\n",
       "\n",
       "    .dataframe tbody tr th {\n",
       "        vertical-align: top;\n",
       "    }\n",
       "\n",
       "    .dataframe thead th {\n",
       "        text-align: right;\n",
       "    }\n",
       "</style>\n",
       "<table border=\"1\" class=\"dataframe\">\n",
       "  <thead>\n",
       "    <tr style=\"text-align: right;\">\n",
       "      <th></th>\n",
       "      <th>N</th>\n",
       "      <th>P</th>\n",
       "      <th>95% LB</th>\n",
       "      <th>95% RB</th>\n",
       "    </tr>\n",
       "  </thead>\n",
       "  <tbody>\n",
       "    <tr>\n",
       "      <th>1946</th>\n",
       "      <td>151</td>\n",
       "      <td>24</td>\n",
       "      <td>17.290802</td>\n",
       "      <td>31.446672</td>\n",
       "    </tr>\n",
       "    <tr>\n",
       "      <th>1956</th>\n",
       "      <td>149</td>\n",
       "      <td>29</td>\n",
       "      <td>21.737383</td>\n",
       "      <td>36.842380</td>\n",
       "    </tr>\n",
       "    <tr>\n",
       "      <th>1966</th>\n",
       "      <td>157</td>\n",
       "      <td>51</td>\n",
       "      <td>42.864679</td>\n",
       "      <td>59.009409</td>\n",
       "    </tr>\n",
       "    <tr>\n",
       "      <th>1976</th>\n",
       "      <td>155</td>\n",
       "      <td>56</td>\n",
       "      <td>47.296879</td>\n",
       "      <td>63.457161</td>\n",
       "    </tr>\n",
       "  </tbody>\n",
       "</table>\n",
       "</div>"
      ],
      "text/plain": [
       "        N   P     95% LB     95% RB\n",
       "1946  151  24  17.290802  31.446672\n",
       "1956  149  29  21.737383  36.842380\n",
       "1966  157  51  42.864679  59.009409\n",
       "1976  155  56  47.296879  63.457161"
      ]
     },
     "metadata": {},
     "output_type": "display_data"
    }
   ],
   "source": [
    "df = pd.DataFrame(data=[[151, 24], [149, 29], [157, 51], [155, 56]], \n",
    "                  columns=[\"N\", \"P\"],\n",
    "                  index=[1946, 1956, 1966, 1976])\n",
    "\n",
    "\n",
    "df[[\"95% LB\", \"95% RB\"]] = df.apply(lambda row: [100*x for x in proportion_confint(count=int(row[\"N\"]*row[\"P\"]/100), \n",
    "                                                                                   nobs=row[\"N\"], alpha=0.05, method='beta')],\n",
    "                                    axis=1,\n",
    "                                    result_type='expand')\n",
    "\n",
    "display(df)"
   ]
  },
  {
   "cell_type": "code",
   "execution_count": 17,
   "metadata": {},
   "outputs": [
    {
     "data": {
      "image/png": "[encoded data removed]",
      "text/plain": [
       "<Figure size 432x288 with 1 Axes>"
      ]
     },
     "metadata": {
      "needs_background": "light"
     },
     "output_type": "display_data"
    }
   ],
   "source": [
    "fig, ax = plt.subplots()\n",
    "\n",
    "ax.errorbar(x=df[\"P\"],\n",
    "            y=df.index,\n",
    "            xerr=(df[\"P\"] - df[\"95% LB\"], df[\"95% RB\"] - df[\"P\"]),\n",
    "            fmt=\"o\")\n",
    "\n",
    "plt.xlim([0, 100]);"
   ]
  },
  {
   "cell_type": "code",
   "execution_count": 18,
   "metadata": {},
   "outputs": [
    {
     "name": "stdout",
     "output_type": "stream",
     "text": [
      "95% доверительные интервалы:\n",
      "\t 1946 - (17.29%; 31.45%)\n",
      "\t 1956 - (21.74%; 36.84%)\n",
      "\t 1966 - (42.86%; 59.01%)\n",
      "\t 1976 - (47.30%; 63.46%)\n"
     ]
    }
   ],
   "source": [
    "print(\"95% доверительные интервалы:\")\n",
    "for idx, row in df.iterrows():\n",
    "    print(f\"\\t {idx} - ({row['95% LB']:.2f}%; {row['95% RB']:.2f}%)\")"
   ]
  },
  {
   "cell_type": "markdown",
   "metadata": {},
   "source": [
    "**7.7.**\n",
    "\n",
    "По данным задачи 2.2 найдите 95% доверительные интервалы для 90 и 95% значений. Результаты представьте на одном рисунке с исходными данными.\n",
    "\n",
    "> Найдите среднее, стандартное отклонение, медиану, 25-й и 75-й процентили для следующих данных 289, 203, 359, 243, 232,  210,  251,  246,  224,  239,  220,  211.  Можно  ли  считать,  что выборка извлечена из совокупности с нормальным распределением? Обоснуйте свой ответ. (Эти числа — продолжительность (в секундах) физической нагрузки до развития приступа стенокардии у 12 человек с ишемической болезнью сердца. Данные заимствованы  из работы: W. Aronow. Effect of nonnicotine cigaretts and carbon monoxide on angina. Circulation, 61:262–265, 1979. Более подробно эта работа описана в задаче 9.5.)"
   ]
  },
  {
   "cell_type": "code",
   "execution_count": 19,
   "metadata": {},
   "outputs": [
    {
     "name": "stdout",
     "output_type": "stream",
     "text": [
      "90% толерантный интервал: 128 - 358\n",
      "95% толерантный интервал: 107 - 380\n"
     ]
    }
   ],
   "source": [
    "inp = np.array([289, 203, 359, 243, 232,  210,  251,  246,  224,  239,  220,  211])\n",
    "\n",
    "ti90 = ti.twoside.normal(inp, 0.9, 0.95)\n",
    "ti95 = ti.twoside.normal(inp, 0.95, 0.95)\n",
    "\n",
    "print(f\"90% толерантный интервал: {int(ti90[0][0])} - {int(ti90[0][1])}\")\n",
    "print(f\"95% толерантный интервал: {int(ti95[0][0])} - {int(ti95[0][1])}\")"
   ]
  },
  {
   "cell_type": "code",
   "execution_count": 20,
   "metadata": {},
   "outputs": [
    {
     "data": {
      "image/png": "[encoded data removed]",
      "text/plain": [
       "<Figure size 576x432 with 2 Axes>"
      ]
     },
     "metadata": {
      "needs_background": "light"
     },
     "output_type": "display_data"
    }
   ],
   "source": [
    "fig, axs = plt.subplots(2, 1, figsize=(8, 6), gridspec_kw={\"height_ratios\": [2, 1]}, sharex=True)\n",
    "\n",
    "axs[0].hlines(\"90%\", ti90[0][0], ti90[0][1])\n",
    "axs[0].hlines(\"95%\", ti95[0][0], ti95[0][1])\n",
    "\n",
    "axs[1].eventplot(inp);"
   ]
  }
 ],
 "metadata": {
  "kernelspec": {
   "display_name": "Python 3.9.7 ('kaggle')",
   "language": "python",
   "name": "python3"
  },
  "language_info": {
   "codemirror_mode": {
    "name": "ipython",
    "version": 3
   },
   "file_extension": ".py",
   "mimetype": "text/x-python",
   "name": "python",
   "nbconvert_exporter": "python",
   "pygments_lexer": "ipython3",
   "version": "3.9.7"
  },
  "orig_nbformat": 4,
  "vscode": {
   "interpreter": {
    "hash": "c87114ee6b6cf384294f90c5f2b9fb4cb1520b5534c8c2c109b7c3f59f5d4f57"
   }
  }
 },
 "nbformat": 4,
 "nbformat_minor": 2
}
