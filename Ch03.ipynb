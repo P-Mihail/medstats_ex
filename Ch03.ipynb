{
 "cells": [
  {
   "cell_type": "code",
   "execution_count": 1,
   "metadata": {},
   "outputs": [],
   "source": [
    "from IPython.display import display\n",
    "\n",
    "from itertools import product\n",
    "import os\n",
    "\n",
    "import pandas as pd\n",
    "\n",
    "import matplotlib.pyplot as plt\n",
    "plt.style.use('ggplot')"
   ]
  },
  {
   "cell_type": "code",
   "execution_count": 2,
   "metadata": {},
   "outputs": [],
   "source": [
    "if os.path.exists('./__notebook_source__.ipynb'):\n",
    "    !git clone https://github.com/P-Mihail/medstats_ex.git\n",
    "    from medstats_ex.src.stattests import f_test  # type: ignore\n",
    "else:\n",
    "    %load_ext autoreload\n",
    "    %autoreload 2\n",
    "\n",
    "    from src.stattests import f_test"
   ]
  },
  {
   "cell_type": "markdown",
   "metadata": {},
   "source": [
    "#### Глава 3\n",
    "##### Сравнение нескольких групп: дисперсионный анализ"
   ]
  },
  {
   "cell_type": "markdown",
   "metadata": {},
   "source": [
    "ANOVA (Aalysis of Variance)\n",
    "\n",
    "### Формулы\n",
    "\n",
    "Однофакторный дисперсионный анализ является обобщением критерия Стьюдента для проверки равенства средних двух ГС на случай нескольких ГС.\n",
    "\n",
    "Гипотезы:\n",
    "* $H_0: m_1=m_2=...=m_k$ все средние равны (исслед. факторы не оказ. никакого влияния и полученные различия случайны)\n",
    "* $H_1$: не все средние равны\n",
    "\n",
    "Анализ основан на сравнении межгрупповой и внутригрупповой дисперсий.\n",
    "\n",
    "$k$ - число исследуемых групп\n",
    "\n",
    "$n=\\displaystyle\\sum_{i=1}^{k} n_i$, где $n_i$ - численность i-й группы.\n",
    "\n",
    "Межгрупповая сумма квадратов отклонений (Sum Square Between Groups):\n",
    "\n",
    "$SS_b = \\displaystyle\\sum_{i=1}^{k} n_i(\\overline x_i - \\overline{\\overline x})^2$\n",
    "\n",
    "Внутригрупповая сумма квадратов отклонений (Sum Square Within Groups):\n",
    "\n",
    "$SS_w = \\displaystyle\\sum_{i=1}^{k} \\displaystyle\\sum_{j=1}^{n_i} (x_{ij} - \\overline x_i)^2$\n",
    "\n",
    "Общая сумма квадратов отклонений (Sum Square):\n",
    "\n",
    "$SS = \\displaystyle\\sum_{i=1}^{k} \\displaystyle\\sum_{j=1}^{n_i} (x_{ij} - \\overline{\\overline x})^2 = SS_b + SS_w$\n",
    "\n",
    "Межгрупповая (факторная) дисперсия (Mean Square Between Groups):\n",
    "\n",
    "$MS_b=\\cfrac{SS_b}{k-1}$\n",
    "\n",
    "Внутригрупповая (остаточная) дисперсия (Mean Square Within Groups):\n",
    "\n",
    "$MW_w=\\cfrac{SS_w}{n-k}$\n",
    "\n",
    "F-статистика. $H_0$ - верна если F близка к 1, в противном случае значительно выше 1:\n",
    "\n",
    "$F=\\cfrac{MS_b}{MS_w}$\n",
    "\n",
    "Критическое значение для $F$ определяется уровнем значимости $\\alpha$ (обычно 0.05 или 0.01), межгрупповым числом степеней свободы $\\nu_b=k-1$ и внутригрупповым числом степеней свободы $\\nu_w=n-k$\n",
    "\n"
   ]
  },
  {
   "cell_type": "markdown",
   "metadata": {},
   "source": [
    "**3.1** \n",
    "\n",
    "Если  при  родах  шейка  матки  долго  не  раскрывается, то продолжительность родов увеличивается и может возникнуть необходимость кесарева сечения. Ч. О’Херлихи и Г. Мак-Дональд (С. O’Herlihy, H. MacDonaid. Influence of reproduction prostaglandin E2 vaginal gel on cervical ripening and labor. Obstet. Gynесоl., 54: 708—710, 1979) решили выяснить, ускоряет ли гель с простагландином Е2 раскрытие шейки матки. В исследование вошло 2 группы  рожениц.  Роженицам  первой  группы  вводили  в  шейку матки гель с простагландином Е2, роженицам второй группы вводили гель-плацебо. В обеих группах было по 21 роженице возраст, рост и сроки беременности были примерно одинаковы. Роды в группе, получавшей гель с простагландином Е2, длились в среднем 8,5 ч (стандартное отклонение 4,7 ч), в контрольной группе — 13,9 ч (стандартное отклонение — 4,1 ч). Можно ли утверждать, что гель с простагландином Е2 сокращал продолжительность родов?"
   ]
  },
  {
   "cell_type": "code",
   "execution_count": 3,
   "metadata": {},
   "outputs": [
    {
     "data": {
      "text/html": [
       "<div>\n",
       "<style scoped>\n",
       "    .dataframe tbody tr th:only-of-type {\n",
       "        vertical-align: middle;\n",
       "    }\n",
       "\n",
       "    .dataframe tbody tr th {\n",
       "        vertical-align: top;\n",
       "    }\n",
       "\n",
       "    .dataframe thead th {\n",
       "        text-align: right;\n",
       "    }\n",
       "</style>\n",
       "<table border=\"1\" class=\"dataframe\">\n",
       "  <thead>\n",
       "    <tr style=\"text-align: right;\">\n",
       "      <th></th>\n",
       "      <th>mean</th>\n",
       "      <th>std</th>\n",
       "    </tr>\n",
       "  </thead>\n",
       "  <tbody>\n",
       "    <tr>\n",
       "      <th>Treatment group</th>\n",
       "      <td>8.5</td>\n",
       "      <td>4.7</td>\n",
       "    </tr>\n",
       "    <tr>\n",
       "      <th>Control group</th>\n",
       "      <td>13.9</td>\n",
       "      <td>4.1</td>\n",
       "    </tr>\n",
       "  </tbody>\n",
       "</table>\n",
       "</div>"
      ],
      "text/plain": [
       "                 mean  std\n",
       "Treatment group   8.5  4.7\n",
       "Control group    13.9  4.1"
      ]
     },
     "metadata": {},
     "output_type": "display_data"
    }
   ],
   "source": [
    "N = 21\n",
    "\n",
    "df = pd.DataFrame(\n",
    "    data=[[8.5, 4.7], [13.9, 4.1]], \n",
    "    index=[\"Treatment group\", \"Control group\"], \n",
    "    columns=[\"mean\", \"std\"]\n",
    ")\n",
    "\n",
    "display(df)"
   ]
  },
  {
   "cell_type": "code",
   "execution_count": 4,
   "metadata": {},
   "outputs": [
    {
     "data": {
      "image/png": "[encoded data removed]",
      "text/plain": [
       "<Figure size 432x288 with 1 Axes>"
      ]
     },
     "metadata": {
      "needs_background": "light"
     },
     "output_type": "display_data"
    }
   ],
   "source": [
    "fig, ax = plt.subplots()\n",
    "\n",
    "plt.errorbar(x=df[\"mean\"], y=df.index, xerr=df[\"std\"], fmt='o', capsize=5);\n",
    "ax.set_xlim(0, 20);\n",
    "\n",
    "ax.set_title(\"Среднее \\u00b1 стандартное отклонение\");\n",
    "ax.set_xlabel(\"Продолжительности родов в часах\");"
   ]
  },
  {
   "cell_type": "code",
   "execution_count": 5,
   "metadata": {},
   "outputs": [
    {
     "name": "stdout",
     "output_type": "stream",
     "text": [
      "Межгрупповая дисперсия: MSbg = 306.180\n",
      "Внутригрупповая дисперсия: MSwg = 19.450\n",
      "\n",
      "F = MSbg / MSwg = 15.742\n",
      "\n",
      "P = 0.000\n",
      "\n",
      "Межгрупповое число степеней свободы: vbg = 1\n",
      "Внутригрупповое число степеней свободы: vwg = 40\n",
      "\n",
      "Критический значение для заданного числа степеней сввободы и уровней значимости 0.01 и 0.05: \n",
      "\t F01 = 7.314 \n",
      "\t F05 = 4.085\n",
      "\n",
      "Различия статистически значимы. P = 0.000 < 0.01 (F = 15.742 > F01 = 7.314)\n"
     ]
    }
   ],
   "source": [
    "f_test(N, df[\"mean\"], df[\"std\"])"
   ]
  },
  {
   "cell_type": "markdown",
   "metadata": {},
   "source": [
    "Различия  статистически  значимы. Поскольку полученное значение F (15.742) превышает критическое для данного числа степеней свободы и уровня  значимости  0.01  (7.314).\n",
    "\n",
    "Можно  утверждать,  что  гель  с  простагландином  Е2  сокращает продолжительность родов."
   ]
  },
  {
   "cell_type": "markdown",
   "metadata": {},
   "source": [
    "**3.2** \n",
    "\n",
    "Курение считают основным фактором, предрасполагающим  к  хроническим  обструктивным  заболеваниям  легких.  Что касается пассивного курения, оно таким фактором обычно не считается. Дж. Уайт  и Г. Фреб усомнились в безвредности пассивного курения и исследовали проходимость дыхательных путей у некурящих,  пассивных  и  активных  курильщиков  (J.  White,  H. Froeb. Small-airways dysfunction in nonsmokers chronically exposed to tobacco smoke. N. Engl. J. Med., 302:720—723, 1980). Для характеристики состояния дыхательных путей взяли один из показателей функции внешнего дыхания — аксимальную объемную скорость середины выдоха которую измеряли во время профилактического  осмотра  сотрудников  Калифорнийского  университета в Сан-Диего. Уменьшение этого показателя — признак нарушения проходимости дыхательных путей. Данные обследования представлены в таблице. Размер каждой группы - 200 человек.\n",
    "\n",
    "**Максимальная объемная скорость средины выдоха, л/с**\n",
    "\n",
    "Группа|Среднее|Стандартное отклонение\n",
    "-|-|-\n",
    "Некурящие работающие в помещении, где не курят | 3,17 | 0,74\n",
    "Некурящие работающие в накуренном помещении | 2,72 | 0,71\n",
    "Курящие выкуривающие небольшое число сигарет | 2,63 | 0,73\n",
    "Курящие выкуривающие среднее число сигарет | 2,29 | 0,70\n",
    "Курящие выкуривающие большое число сигарет | 2,12 | 0,72\n",
    "\n",
    "Можно  ли считать максимальную объемную скорость середины выдоха одинаковой во всех группах?"
   ]
  },
  {
   "cell_type": "code",
   "execution_count": 6,
   "metadata": {},
   "outputs": [
    {
     "data": {
      "text/html": [
       "<div>\n",
       "<style scoped>\n",
       "    .dataframe tbody tr th:only-of-type {\n",
       "        vertical-align: middle;\n",
       "    }\n",
       "\n",
       "    .dataframe tbody tr th {\n",
       "        vertical-align: top;\n",
       "    }\n",
       "\n",
       "    .dataframe thead th {\n",
       "        text-align: right;\n",
       "    }\n",
       "</style>\n",
       "<table border=\"1\" class=\"dataframe\">\n",
       "  <thead>\n",
       "    <tr style=\"text-align: right;\">\n",
       "      <th></th>\n",
       "      <th></th>\n",
       "      <th>mean</th>\n",
       "      <th>std</th>\n",
       "    </tr>\n",
       "  </thead>\n",
       "  <tbody>\n",
       "    <tr>\n",
       "      <th rowspan=\"2\" valign=\"top\">Некурящие</th>\n",
       "      <th>работающие в помещении, где не курят</th>\n",
       "      <td>3.17</td>\n",
       "      <td>0.74</td>\n",
       "    </tr>\n",
       "    <tr>\n",
       "      <th>работающие в накуренном помещении</th>\n",
       "      <td>2.72</td>\n",
       "      <td>0.71</td>\n",
       "    </tr>\n",
       "    <tr>\n",
       "      <th rowspan=\"3\" valign=\"top\">Курящие</th>\n",
       "      <th>выкуривающие небольшое число сигарет</th>\n",
       "      <td>2.63</td>\n",
       "      <td>0.73</td>\n",
       "    </tr>\n",
       "    <tr>\n",
       "      <th>выкуривающие среднее число сигарет</th>\n",
       "      <td>2.29</td>\n",
       "      <td>0.70</td>\n",
       "    </tr>\n",
       "    <tr>\n",
       "      <th>выкуривающие большое число сигарет</th>\n",
       "      <td>2.12</td>\n",
       "      <td>0.72</td>\n",
       "    </tr>\n",
       "  </tbody>\n",
       "</table>\n",
       "</div>"
      ],
      "text/plain": [
       "                                                mean   std\n",
       "Некурящие работающие в помещении, где не курят  3.17  0.74\n",
       "          работающие в накуренном помещении     2.72  0.71\n",
       "Курящие   выкуривающие небольшое число сигарет  2.63  0.73\n",
       "          выкуривающие среднее число сигарет    2.29  0.70\n",
       "          выкуривающие большое число сигарет    2.12  0.72"
      ]
     },
     "metadata": {},
     "output_type": "display_data"
    }
   ],
   "source": [
    "N = 200\n",
    "\n",
    "df = pd.DataFrame(\n",
    "    data=[[3.17, 0.74],[2.72, 0.71],[2.63, 0.73],[2.29, 0.70],[2.12, 0.72]], \n",
    "    index=pd.MultiIndex.from_tuples([\n",
    "        (\"Некурящие\", \"работающие в помещении, где не курят\"), \n",
    "        (\"Некурящие\", \"работающие в накуренном помещении\"), \n",
    "        (\"Курящие\", \"выкуривающие небольшое число сигарет\"), \n",
    "        (\"Курящие\", \"выкуривающие среднее число сигарет\"), \n",
    "        (\"Курящие\", \"выкуривающие большое число сигарет\")\n",
    "        ]), \n",
    "    columns=[\"mean\", \"std\"]\n",
    ")\n",
    "\n",
    "display(df)"
   ]
  },
  {
   "cell_type": "code",
   "execution_count": 7,
   "metadata": {},
   "outputs": [
    {
     "data": {
      "image/png": "[encoded data removed]",
      "text/plain": [
       "<Figure size 432x288 with 1 Axes>"
      ]
     },
     "metadata": {
      "needs_background": "light"
     },
     "output_type": "display_data"
    }
   ],
   "source": [
    "fig, ax = plt.subplots()\n",
    "\n",
    "plt.errorbar(x=df[\"mean\"], y=[' '.join(col) for col in df.index], xerr=df[\"std\"], fmt='o', capsize=5);\n",
    "ax.set_xlim(0, 5);\n",
    "\n",
    "ax.set_title(\"Среднее \\u00b1 стандартное отклонение\");\n",
    "ax.set_xlabel(\"Максимальная объемная скорость средины выдоха, л/с\");"
   ]
  },
  {
   "cell_type": "code",
   "execution_count": 8,
   "metadata": {},
   "outputs": [
    {
     "name": "stdout",
     "output_type": "stream",
     "text": [
      "Межгрупповая дисперсия: MSbg = 33.286\n",
      "Внутригрупповая дисперсия: MSwg = 0.519\n",
      "\n",
      "F = MSbg / MSwg = 64.184\n",
      "\n",
      "P = 0.000\n",
      "\n",
      "Межгрупповое число степеней свободы: vbg = 4\n",
      "Внутригрупповое число степеней свободы: vwg = 995\n",
      "\n",
      "Критический значение для заданного числа степеней сввободы и уровней значимости 0.01 и 0.05: \n",
      "\t F01 = 3.338 \n",
      "\t F05 = 2.381\n",
      "\n",
      "Различия статистически значимы. P = 0.000 < 0.01 (F = 64.184 > F01 = 3.338)\n"
     ]
    }
   ],
   "source": [
    "f_test(N, df[\"mean\"], df[\"std\"])"
   ]
  },
  {
   "cell_type": "markdown",
   "metadata": {},
   "source": [
    "Различия статистически значимы.\n",
    "\n",
    "F = 64.184 > F01 = 3.338\n",
    "\n",
    "Максимальную объемную скорость середины выдоха нельзя считать одинаковой во всех группах, Р < 0,01."
   ]
  },
  {
   "cell_type": "markdown",
   "metadata": {},
   "source": [
    "**3.3.**\n",
    "\n",
    "Низкий  уровень  холестерина  липопротеидов  высокой плотности  ( ХЛПВП)    —  фактор  риска  ишемической  болезни сердца. Некоторые исследования свидетельствуют, что физическая нагрузка может повысить уровень ХЛПВП. Дж. Хартунг и соавт. (G. Н. Hartung et al. Relation of diet to hidh-density liрoprotein cholesterol in middle-aged marathon runners, joggles, and inactive men. N. Engl. J. Med., 302:357—361, 1980) исследовали уровень ХЛПВП у бегунов-марафонцев, бегунов трусцой и лиц, не занимающихся спортом. Средний уровень ХЛПВП у лиц, не занимающихся спортом, составил 43,3 мг% (стандартное отклонение 14,2 мг%), у бегунов трусцой — 58,0 мг% (стандартное отклонение 17,7 мг%) и у марафонцев — 64,8 мг% (стандартное отклонение 14,3 мг%). Будем считать, что в каждой группе было по 70 человек. Оцените статистическую значимость различий между группами.\n"
   ]
  },
  {
   "cell_type": "code",
   "execution_count": 9,
   "metadata": {},
   "outputs": [
    {
     "data": {
      "text/html": [
       "<div>\n",
       "<style scoped>\n",
       "    .dataframe tbody tr th:only-of-type {\n",
       "        vertical-align: middle;\n",
       "    }\n",
       "\n",
       "    .dataframe tbody tr th {\n",
       "        vertical-align: top;\n",
       "    }\n",
       "\n",
       "    .dataframe thead th {\n",
       "        text-align: right;\n",
       "    }\n",
       "</style>\n",
       "<table border=\"1\" class=\"dataframe\">\n",
       "  <thead>\n",
       "    <tr style=\"text-align: right;\">\n",
       "      <th></th>\n",
       "      <th>mean</th>\n",
       "      <th>std</th>\n",
       "    </tr>\n",
       "  </thead>\n",
       "  <tbody>\n",
       "    <tr>\n",
       "      <th>Не занимаются спортом</th>\n",
       "      <td>43.3</td>\n",
       "      <td>14.2</td>\n",
       "    </tr>\n",
       "    <tr>\n",
       "      <th>Бегуны трусцой</th>\n",
       "      <td>58.0</td>\n",
       "      <td>17.7</td>\n",
       "    </tr>\n",
       "    <tr>\n",
       "      <th>Марафонцы</th>\n",
       "      <td>64.8</td>\n",
       "      <td>14.3</td>\n",
       "    </tr>\n",
       "  </tbody>\n",
       "</table>\n",
       "</div>"
      ],
      "text/plain": [
       "                       mean   std\n",
       "Не занимаются спортом  43.3  14.2\n",
       "Бегуны трусцой         58.0  17.7\n",
       "Марафонцы              64.8  14.3"
      ]
     },
     "metadata": {},
     "output_type": "display_data"
    }
   ],
   "source": [
    "N = 70\n",
    "\n",
    "df = pd.DataFrame(\n",
    "    data=[[43.3, 14.2], [58.0, 17.7], [64.8, 14.3]], \n",
    "    index=[\"Не занимаются спортом\", \"Бегуны трусцой\", \"Марафонцы\"], \n",
    "    columns=[\"mean\", \"std\"]\n",
    ")\n",
    "\n",
    "display(df)"
   ]
  },
  {
   "cell_type": "code",
   "execution_count": 10,
   "metadata": {},
   "outputs": [
    {
     "data": {
      "image/png": "[encoded data removed]",
      "text/plain": [
       "<Figure size 432x288 with 1 Axes>"
      ]
     },
     "metadata": {
      "needs_background": "light"
     },
     "output_type": "display_data"
    }
   ],
   "source": [
    "fig, ax = plt.subplots()\n",
    "\n",
    "plt.errorbar(x=df[\"mean\"], y=[' '.join(x) for x in df.index], xerr=df[\"std\"], fmt='o', capsize=5);\n",
    "\n",
    "ax.set_title(\"Среднее \\u00b1 стандартное отклонение\");\n",
    "ax.set_xlabel(\"Уровень холестерина  липопротеидов  высокой плотности в мг%\");"
   ]
  },
  {
   "cell_type": "code",
   "execution_count": 11,
   "metadata": {},
   "outputs": [
    {
     "name": "stdout",
     "output_type": "stream",
     "text": [
      "Межгрупповая дисперсия: MSbg = 8453.433\n",
      "Внутригрупповая дисперсия: MSwg = 239.807\n",
      "\n",
      "F = MSbg / MSwg = 35.251\n",
      "\n",
      "P = 0.000\n",
      "\n",
      "Межгрупповое число степеней свободы: vbg = 2\n",
      "Внутригрупповое число степеней свободы: vwg = 207\n",
      "\n",
      "Критический значение для заданного числа степеней сввободы и уровней значимости 0.01 и 0.05: \n",
      "\t F01 = 4.709 \n",
      "\t F05 = 3.040\n",
      "\n",
      "Различия статистически значимы. P = 0.000 < 0.01 (F = 35.251 > F01 = 4.709)\n"
     ]
    }
   ],
   "source": [
    "f_test(N, df[\"mean\"], df[\"std\"])"
   ]
  },
  {
   "cell_type": "markdown",
   "metadata": {},
   "source": [
    "**3.4.**\n",
    "\n",
    "Марихуана  —  наркотик,  поэтому  исследовать  курение марихуаны на добровольцах невозможно. Исследования такого рода проводят на лабораторных животных. Г. Хубер и соавт. (G. Huber et al. Marijuana, tetrahydrocannabinol, and pulmonary arterial antibacterial  defenses.  Chest,  77:403—410,  1980)  изучали  влияние  марихуаны  на  антибактериальную  защиту  у  крыс.  После ингаляционного  введения  бактерий  крыс  помещали  в  камеру, где специальная машина окуривала их сигаретами с марихуа ной. Забив крыс, исследователи извлекали легкие и подсчитывали процент погибших бактерий, который и служил показателем состояния антибактериальной защиты. Чтобы установить, что именно влияет на антибактериальную защиту — тетрагидроканнабинолы (вещества, которые обусловливают наркотическое действие марихуаны) или просто дым одну из групп окуривали сигаретами, из которых тетрагидроканнабинолы были удалены. В каждой группе было по 36 крыс. Являются ли различия статистически значимыми?\n",
    "\n",
    "Число сигарет | Среднее | Стандартная ошибка среднего\n",
    "-|-|-\n",
    "0 (контроль) | 85,1 | 0,3\n",
    "15 | 83,5 | 1,0\n",
    "30 | 80,9 | 0,6\n",
    "50 | 72,6 | 0,7\n",
    "75 | 60 | 1,3\n",
    "75  (тетрагидроканнабинота  удалены) | 73,5 | 0,7\n",
    "150 | 63,8 | 2,6"
   ]
  },
  {
   "cell_type": "code",
   "execution_count": 12,
   "metadata": {},
   "outputs": [
    {
     "data": {
      "text/html": [
       "<div>\n",
       "<style scoped>\n",
       "    .dataframe tbody tr th:only-of-type {\n",
       "        vertical-align: middle;\n",
       "    }\n",
       "\n",
       "    .dataframe tbody tr th {\n",
       "        vertical-align: top;\n",
       "    }\n",
       "\n",
       "    .dataframe thead th {\n",
       "        text-align: right;\n",
       "    }\n",
       "</style>\n",
       "<table border=\"1\" class=\"dataframe\">\n",
       "  <thead>\n",
       "    <tr style=\"text-align: right;\">\n",
       "      <th></th>\n",
       "      <th>mean</th>\n",
       "      <th>SEM</th>\n",
       "      <th>std</th>\n",
       "    </tr>\n",
       "  </thead>\n",
       "  <tbody>\n",
       "    <tr>\n",
       "      <th>0 (контроль)</th>\n",
       "      <td>85.1</td>\n",
       "      <td>0.3</td>\n",
       "      <td>1.8</td>\n",
       "    </tr>\n",
       "    <tr>\n",
       "      <th>15</th>\n",
       "      <td>83.5</td>\n",
       "      <td>1.0</td>\n",
       "      <td>6.0</td>\n",
       "    </tr>\n",
       "    <tr>\n",
       "      <th>30</th>\n",
       "      <td>80.9</td>\n",
       "      <td>0.6</td>\n",
       "      <td>3.6</td>\n",
       "    </tr>\n",
       "    <tr>\n",
       "      <th>50</th>\n",
       "      <td>72.6</td>\n",
       "      <td>0.7</td>\n",
       "      <td>4.2</td>\n",
       "    </tr>\n",
       "    <tr>\n",
       "      <th>75</th>\n",
       "      <td>60.0</td>\n",
       "      <td>1.3</td>\n",
       "      <td>7.8</td>\n",
       "    </tr>\n",
       "    <tr>\n",
       "      <th>75 (тетрагидроканнабинота  удалены)</th>\n",
       "      <td>73.5</td>\n",
       "      <td>0.7</td>\n",
       "      <td>4.2</td>\n",
       "    </tr>\n",
       "    <tr>\n",
       "      <th>150</th>\n",
       "      <td>63.8</td>\n",
       "      <td>2.6</td>\n",
       "      <td>15.6</td>\n",
       "    </tr>\n",
       "  </tbody>\n",
       "</table>\n",
       "</div>"
      ],
      "text/plain": [
       "                                     mean  SEM   std\n",
       "0 (контроль)                         85.1  0.3   1.8\n",
       "15                                   83.5  1.0   6.0\n",
       "30                                   80.9  0.6   3.6\n",
       "50                                   72.6  0.7   4.2\n",
       "75                                   60.0  1.3   7.8\n",
       "75 (тетрагидроканнабинота  удалены)  73.5  0.7   4.2\n",
       "150                                  63.8  2.6  15.6"
      ]
     },
     "metadata": {},
     "output_type": "display_data"
    }
   ],
   "source": [
    "N = 36\n",
    "\n",
    "df = pd.DataFrame(\n",
    "    data=[[85.1, 0.3], [83.5, 1.0], [80.9, 0.6], [72.6, 0.7], [60.0, 1.3], [73.5, 0.7], [63.8, 2.6]],\n",
    "    index=[\"0 (контроль)\", \"15\", \"30\", \"50\", \"75\", \"75 (тетрагидроканнабинота  удалены)\", \"150\"], \n",
    "    columns=[\"mean\", \"SEM\"]\n",
    ")\n",
    "\n",
    "df[\"std\"] = df[\"SEM\"] * 6 # sqrt(36)\n",
    "\n",
    "display(df)"
   ]
  },
  {
   "cell_type": "code",
   "execution_count": 13,
   "metadata": {},
   "outputs": [
    {
     "data": {
      "image/png": "[encoded data removed]",
      "text/plain": [
       "<Figure size 432x288 with 1 Axes>"
      ]
     },
     "metadata": {
      "needs_background": "light"
     },
     "output_type": "display_data"
    }
   ],
   "source": [
    "fig, ax = plt.subplots()\n",
    "\n",
    "plt.errorbar(x=df[\"mean\"], y=df.index, xerr=df[\"std\"], fmt='o', capsize=5);\n",
    "\n",
    "ax.set_title(\"Среднее \\u00b1 стандартное отклонение\");\n",
    "ax.set_xlabel(\"Доля погибших бактерий, %\");"
   ]
  },
  {
   "cell_type": "code",
   "execution_count": 14,
   "metadata": {},
   "outputs": [
    {
     "name": "stdout",
     "output_type": "stream",
     "text": [
      "Межгрупповая дисперсия: MSbg = 3378.240\n",
      "Внутригрупповая дисперсия: MSwg = 55.954\n",
      "\n",
      "F = MSbg / MSwg = 60.375\n",
      "\n",
      "P = 0.000\n",
      "\n",
      "Межгрупповое число степеней свободы: vbg = 6\n",
      "Внутригрупповое число степеней свободы: vwg = 245\n",
      "\n",
      "Критический значение для заданного числа степеней сввободы и уровней значимости 0.01 и 0.05: \n",
      "\t F01 = 2.876 \n",
      "\t F05 = 2.136\n",
      "\n",
      "Различия статистически значимы. P = 0.000 < 0.01 (F = 60.375 > F01 = 2.876)\n"
     ]
    }
   ],
   "source": [
    "f_test(N, df[\"mean\"], df[\"std\"])"
   ]
  },
  {
   "cell_type": "markdown",
   "metadata": {},
   "source": [
    "**3.5.**\n",
    "\n",
    "Стремясь отделить действие тетрагидроканнабинолов от действия дыма, Г. Хубер и соавт. изучили их действие при внутривенном введении. После ингаляционного введения бактерий крысам  вводили  спиртовой  раствор  тетрагидроканнабинолов, контрольной группе вводили этиловый спирт. В обеих группах было по 36 животных. После введения тетрагидроканнабинолов доля погибших бактерий составила в среднем 51,4%, в контрольной группе — 59,4%. Стандартные ошибки среднего составили соответственно 3,2% и 3,9%. Позволяют ли эти данныеутверждать, что тетрагидроканнабинолы ослабляют антибактериальную защиту?"
   ]
  },
  {
   "cell_type": "code",
   "execution_count": 15,
   "metadata": {},
   "outputs": [
    {
     "data": {
      "text/html": [
       "<div>\n",
       "<style scoped>\n",
       "    .dataframe tbody tr th:only-of-type {\n",
       "        vertical-align: middle;\n",
       "    }\n",
       "\n",
       "    .dataframe tbody tr th {\n",
       "        vertical-align: top;\n",
       "    }\n",
       "\n",
       "    .dataframe thead th {\n",
       "        text-align: right;\n",
       "    }\n",
       "</style>\n",
       "<table border=\"1\" class=\"dataframe\">\n",
       "  <thead>\n",
       "    <tr style=\"text-align: right;\">\n",
       "      <th></th>\n",
       "      <th>mean</th>\n",
       "      <th>SEM</th>\n",
       "      <th>std</th>\n",
       "    </tr>\n",
       "  </thead>\n",
       "  <tbody>\n",
       "    <tr>\n",
       "      <th>Treatment group</th>\n",
       "      <td>51.4</td>\n",
       "      <td>3.2</td>\n",
       "      <td>19.2</td>\n",
       "    </tr>\n",
       "    <tr>\n",
       "      <th>Control group</th>\n",
       "      <td>59.4</td>\n",
       "      <td>3.9</td>\n",
       "      <td>23.4</td>\n",
       "    </tr>\n",
       "  </tbody>\n",
       "</table>\n",
       "</div>"
      ],
      "text/plain": [
       "                 mean  SEM   std\n",
       "Treatment group  51.4  3.2  19.2\n",
       "Control group    59.4  3.9  23.4"
      ]
     },
     "metadata": {},
     "output_type": "display_data"
    }
   ],
   "source": [
    "N = 36\n",
    "\n",
    "df = pd.DataFrame(\n",
    "    data=[[51.4, 3.2], [59.4, 3.9]],\n",
    "    index=[\"Treatment group\",  \"Control group\"], \n",
    "    columns=[\"mean\", \"SEM\"]\n",
    ")\n",
    "\n",
    "df[\"std\"] = df[\"SEM\"] * 6 # sqrt(36)\n",
    "\n",
    "display(df)"
   ]
  },
  {
   "cell_type": "code",
   "execution_count": 16,
   "metadata": {},
   "outputs": [
    {
     "data": {
      "image/png": "[encoded data removed]",
      "text/plain": [
       "<Figure size 432x288 with 1 Axes>"
      ]
     },
     "metadata": {
      "needs_background": "light"
     },
     "output_type": "display_data"
    }
   ],
   "source": [
    "fig, ax = plt.subplots()\n",
    "\n",
    "plt.errorbar(x=df[\"mean\"], y=df.index, xerr=df[\"std\"], fmt='o', capsize=5);\n",
    "\n",
    "ax.set_title(\"Среднее \\u00b1 стандартное отклонение\");\n",
    "ax.set_xlabel(\"Доля погибших бактерий, %\");"
   ]
  },
  {
   "cell_type": "code",
   "execution_count": 17,
   "metadata": {},
   "outputs": [
    {
     "name": "stdout",
     "output_type": "stream",
     "text": [
      "Межгрупповая дисперсия: MSbg = 1152.000\n",
      "Внутригрупповая дисперсия: MSwg = 458.100\n",
      "\n",
      "F = MSbg / MSwg = 2.515\n",
      "\n",
      "P = 0.117\n",
      "\n",
      "Межгрупповое число степеней свободы: vbg = 1\n",
      "Внутригрупповое число степеней свободы: vwg = 70\n",
      "\n",
      "Критический значение для заданного числа степеней сввободы и уровней значимости 0.01 и 0.05: \n",
      "\t F01 = 7.011 \n",
      "\t F05 = 3.978\n",
      "\n",
      "Различия статистически не значимы. P = 0.117 > 0.05 (F = 2.515 < F05 = 3.978)\n"
     ]
    }
   ],
   "source": [
    "f_test(N, df[\"mean\"], df[\"std\"])"
   ]
  },
  {
   "cell_type": "markdown",
   "metadata": {},
   "source": [
    "**3.6.**\n",
    "\n",
    "Работа медицинской сестры сопряжена с постоянным напряжением и тяжелыми переживаниями. Груз ответственности, не уравновешенной правом принимать решения, рождает чувство усталости, раздражения и безысходности, интересная некогда работа становится ненавистным бременем. Этот синдром не совсем точно называют опустошенностью. Считается, что его развитию особенно подвержены медицинские сестры, которые работают с наиболее тяжелыми больными. Чтобы проверить это предположение, Э. Кин и соавт. (A. Keane et al. Stress in ICU and non-ICU  nurses.  Nurs.  Res.,  34:231—236,  1985)  провели  опрос медицинских сестер с помощью специально разработанного опросника, позволяющего оценить опустошенность в баллах. Медицинских  сестер  разделили  на  три  группы  в  зависимости  от тяжести состояния больных, с которыми они работали (1-я группа — наиболее тяжелые больные, 3-я — самые легкие). Далее каждую  группу  разделили  на  две  —  медицинские  сестры  хирургических и терапевтических отделений, таким образом, получилось 6 групп по 16 медицинских сестер в каждой. Являются ли различия между 6 группами статистически значимыми?\n",
    "\n",
    "_|Гр.1 Хир.|Гр.1 Тер.|Гр.2 Хир.|Гр.2 Тер.|Гр.3 Хир.|Гр.3 Тер.\n",
    "-|-|-|-|-|-|-\n",
    "Среднее|49.9|51.2|57.3|46.4|43.9|65.2\n",
    "Стандартное отклонение|14.3|13.4|14.9|14.7|16.5|20.5"
   ]
  },
  {
   "cell_type": "code",
   "execution_count": 18,
   "metadata": {},
   "outputs": [
    {
     "data": {
      "text/html": [
       "<div>\n",
       "<style scoped>\n",
       "    .dataframe tbody tr th:only-of-type {\n",
       "        vertical-align: middle;\n",
       "    }\n",
       "\n",
       "    .dataframe tbody tr th {\n",
       "        vertical-align: top;\n",
       "    }\n",
       "\n",
       "    .dataframe thead tr th {\n",
       "        text-align: left;\n",
       "    }\n",
       "</style>\n",
       "<table border=\"1\" class=\"dataframe\">\n",
       "  <thead>\n",
       "    <tr>\n",
       "      <th></th>\n",
       "      <th colspan=\"2\" halign=\"left\">Группа 1</th>\n",
       "      <th colspan=\"2\" halign=\"left\">Группа 2</th>\n",
       "      <th colspan=\"2\" halign=\"left\">Группа 3</th>\n",
       "    </tr>\n",
       "    <tr>\n",
       "      <th></th>\n",
       "      <th>Хир.</th>\n",
       "      <th>Тер.</th>\n",
       "      <th>Хир.</th>\n",
       "      <th>Тер.</th>\n",
       "      <th>Хир.</th>\n",
       "      <th>Тер.</th>\n",
       "    </tr>\n",
       "  </thead>\n",
       "  <tbody>\n",
       "    <tr>\n",
       "      <th>mean</th>\n",
       "      <td>49.9</td>\n",
       "      <td>51.2</td>\n",
       "      <td>57.3</td>\n",
       "      <td>46.4</td>\n",
       "      <td>43.9</td>\n",
       "      <td>65.2</td>\n",
       "    </tr>\n",
       "    <tr>\n",
       "      <th>std</th>\n",
       "      <td>14.3</td>\n",
       "      <td>13.4</td>\n",
       "      <td>14.9</td>\n",
       "      <td>14.7</td>\n",
       "      <td>16.5</td>\n",
       "      <td>20.5</td>\n",
       "    </tr>\n",
       "  </tbody>\n",
       "</table>\n",
       "</div>"
      ],
      "text/plain": [
       "     Группа 1       Группа 2       Группа 3      \n",
       "         Хир.  Тер.     Хир.  Тер.     Хир.  Тер.\n",
       "mean     49.9  51.2     57.3  46.4     43.9  65.2\n",
       "std      14.3  13.4     14.9  14.7     16.5  20.5"
      ]
     },
     "metadata": {},
     "output_type": "display_data"
    }
   ],
   "source": [
    "N = 16\n",
    "\n",
    "df = pd.DataFrame(\n",
    "    data=[[49.9, 51.2, 57.3, 46.4, 43.9, 65.2], [14.3, 13.4, 14.9, 14.7, 16.5, 20.5]],\n",
    "    index=[\"mean\", \"std\"], \n",
    "    columns=pd.MultiIndex.from_tuples(product([f\"Группа {n}\" for n in \"123\"], [\"Хир.\", \"Тер.\"]))\n",
    ")\n",
    "\n",
    "display(df)"
   ]
  },
  {
   "cell_type": "code",
   "execution_count": 19,
   "metadata": {},
   "outputs": [
    {
     "data": {
      "image/png": "[encoded data removed]",
      "text/plain": [
       "<Figure size 432x288 with 1 Axes>"
      ]
     },
     "metadata": {
      "needs_background": "light"
     },
     "output_type": "display_data"
    }
   ],
   "source": [
    "fig, ax = plt.subplots()\n",
    "\n",
    "plt.errorbar(x=df.loc[\"mean\"], y=[\" \".join(x) for x in df.columns], xerr=df.loc[\"std\"], fmt='o', capsize=5);\n",
    "\n",
    "ax.set_title(\"Среднее \\u00b1 стандартное отклонение\");\n",
    "ax.set_xlabel(\"Уровень опустошенности в баллах\");"
   ]
  },
  {
   "cell_type": "code",
   "execution_count": 20,
   "metadata": {},
   "outputs": [
    {
     "name": "stdout",
     "output_type": "stream",
     "text": [
      "Межгрупповая дисперсия: MSbg = 971.995\n",
      "Внутригрупповая дисперсия: MSwg = 252.442\n",
      "\n",
      "F = MSbg / MSwg = 3.850\n",
      "\n",
      "P = 0.003\n",
      "\n",
      "Межгрупповое число степеней свободы: vbg = 5\n",
      "Внутригрупповое число степеней свободы: vwg = 90\n",
      "\n",
      "Критический значение для заданного числа степеней сввободы и уровней значимости 0.01 и 0.05: \n",
      "\t F01 = 3.228 \n",
      "\t F05 = 2.316\n",
      "\n",
      "Различия статистически значимы. P = 0.003 < 0.01 (F = 3.850 > F01 = 3.228)\n"
     ]
    }
   ],
   "source": [
    "f_test(N, df.loc[\"mean\"], df.loc[\"std\"])  #type: ignore (не понимает что это pd.Series)"
   ]
  },
  {
   "cell_type": "markdown",
   "metadata": {},
   "source": [
    "**3.7.**\n",
    "\n",
    "Нитропруссид натрия и дофамин — препараты, которые широко  используют  при  инфаркте  миокарда  (Инфаркт миокарда развивается вследствие закупорки одной из коронарных артерий. Кровь перестает поступать к тому или иному участку миокарда, который в результате отмирает от недостатка кислорода). Считается, что нитропруссид натрия облегчает работу сердца и тем самым снижает потребность миокарда в кислороде; в результате устойчивость миокарда к недостаточному кровоснабжению повышается. Дофамин препятствует падению артериального давления и увеличивает поступление крови к пораженному участку через дополнительные сосуды (так называемые коллатерали). К. Шатни и соавт. (C. Shatney et al. Effects of infusion of dopamine and nitroprusside on size of experimental myocardial infarction. Chest., 73:850—856, 1978) сравнили эффективность этих  препаратов  в  опытах  на  собаках  с  инфарктом  миокарда. Инфаркт миокарда вызывали перевязкой коронарной артерии, после чего вводили препарат (собакам контрольной группы вводили физиологический раствор). Через 6 часов собак забивалии взвешивали пораженный участок миокарда, результат выражали в процентах от веса левого желудочка. Препарат для каждой собаки выбирали случайным образом. Исследователь, взвешивавший  миокард,  не  знал,  какой  препарат  вводили  собаке. Полученные данные приведены в таблице (Вес пораженного участка миокарда (в процентах от веса левого желудочка)):\n",
    "\n",
    "Группа|Число животных|Среднее|Стандартная ошибка среднего\n",
    "-|-|-|-\n",
    "Контроль|30|15|1\n",
    "Дофамин низкая доза|13|15|2\n",
    "Дофамин высокая доза|20|9|2\n",
    "Нитропруссид|20|7|1\n",
    "\n",
    "Можно ли считать различия между группами статистически значимыми?"
   ]
  },
  {
   "cell_type": "code",
   "execution_count": 21,
   "metadata": {},
   "outputs": [
    {
     "data": {
      "text/html": [
       "<div>\n",
       "<style scoped>\n",
       "    .dataframe tbody tr th:only-of-type {\n",
       "        vertical-align: middle;\n",
       "    }\n",
       "\n",
       "    .dataframe tbody tr th {\n",
       "        vertical-align: top;\n",
       "    }\n",
       "\n",
       "    .dataframe thead th {\n",
       "        text-align: right;\n",
       "    }\n",
       "</style>\n",
       "<table border=\"1\" class=\"dataframe\">\n",
       "  <thead>\n",
       "    <tr style=\"text-align: right;\">\n",
       "      <th></th>\n",
       "      <th>n</th>\n",
       "      <th>mean</th>\n",
       "      <th>SME</th>\n",
       "      <th>std</th>\n",
       "    </tr>\n",
       "  </thead>\n",
       "  <tbody>\n",
       "    <tr>\n",
       "      <th>Контроль</th>\n",
       "      <td>30</td>\n",
       "      <td>15</td>\n",
       "      <td>1</td>\n",
       "      <td>5.477226</td>\n",
       "    </tr>\n",
       "    <tr>\n",
       "      <th>Дофамин низкая доза</th>\n",
       "      <td>13</td>\n",
       "      <td>15</td>\n",
       "      <td>2</td>\n",
       "      <td>7.211103</td>\n",
       "    </tr>\n",
       "    <tr>\n",
       "      <th>Дофамин высокая доза</th>\n",
       "      <td>20</td>\n",
       "      <td>9</td>\n",
       "      <td>2</td>\n",
       "      <td>8.944272</td>\n",
       "    </tr>\n",
       "    <tr>\n",
       "      <th>Нитропруссид</th>\n",
       "      <td>20</td>\n",
       "      <td>7</td>\n",
       "      <td>1</td>\n",
       "      <td>4.472136</td>\n",
       "    </tr>\n",
       "  </tbody>\n",
       "</table>\n",
       "</div>"
      ],
      "text/plain": [
       "                       n  mean  SME       std\n",
       "Контроль              30    15    1  5.477226\n",
       "Дофамин низкая доза   13    15    2  7.211103\n",
       "Дофамин высокая доза  20     9    2  8.944272\n",
       "Нитропруссид          20     7    1  4.472136"
      ]
     },
     "metadata": {},
     "output_type": "display_data"
    }
   ],
   "source": [
    "df = pd.DataFrame(\n",
    "    data=[[30, 15, 1], [13, 15, 2], [20, 9, 2], [20, 7, 1]],\n",
    "    index=[\"Контроль\", \"Дофамин низкая доза\", \"Дофамин высокая доза\", \"Нитропруссид\"],\n",
    "    columns=[\"n\", \"mean\", \"SME\"]\n",
    ")\n",
    "\n",
    "df[\"std\"] = df[\"SME\"] * df[\"n\"]**.5\n",
    "\n",
    "display(df)"
   ]
  },
  {
   "cell_type": "code",
   "execution_count": 22,
   "metadata": {},
   "outputs": [
    {
     "data": {
      "image/png": "[encoded data removed]",
      "text/plain": [
       "<Figure size 432x288 with 1 Axes>"
      ]
     },
     "metadata": {
      "needs_background": "light"
     },
     "output_type": "display_data"
    }
   ],
   "source": [
    "fig, ax = plt.subplots()\n",
    "\n",
    "plt.errorbar(x=df[\"mean\"], y=df.index, xerr=df[\"std\"], fmt='o', capsize=5);\n",
    "\n",
    "ax.set_title(\"Среднее \\u00b1 стандартное отклонение\");\n",
    "ax.set_xlabel(\"Вес пораженного участка миокарда (в процентах от веса левого желудочка)\");"
   ]
  },
  {
   "cell_type": "code",
   "execution_count": 23,
   "metadata": {},
   "outputs": [
    {
     "name": "stdout",
     "output_type": "stream",
     "text": [
      "Межгрупповая дисперсия: MSbg = 351.807\n",
      "Внутригрупповая дисперсия: MSwg = 42.962\n",
      "\n",
      "F = MSbg / MSwg = 8.189\n",
      "\n",
      "P = 0.000\n",
      "\n",
      "Межгрупповое число степеней свободы: vbg = 3\n",
      "Внутригрупповое число степеней свободы: vwg = 79\n",
      "\n",
      "Критический значение для заданного числа степеней сввободы и уровней значимости 0.01 и 0.05: \n",
      "\t F01 = 4.040 \n",
      "\t F05 = 2.720\n",
      "\n",
      "Различия статистически значимы. P = 0.000 < 0.01 (F = 8.189 > F01 = 4.040)\n"
     ]
    }
   ],
   "source": [
    "f_test(df[\"n\"], df[\"mean\"], df[\"std\"])"
   ]
  },
  {
   "cell_type": "markdown",
   "metadata": {},
   "source": [
    "**3.8.**\n",
    "\n",
    "Считается, что выработка тромбоцитов (форменных элементов крови, играющих важную роль в ее свертывании) у новорожденных регулируется иначе чем у взрослых. Исследуя эту регуляцию X. Бесслер и соавт. (Н. Bessler et al. Thrombopoietic activity in newborn infants. Biol. Neonate, 49:61—65, 1986) опрeделили содержание тромбоцитов в крови взрослых и грудных детей  разного  возраста.  Можно  ли  говорить  о  существовании различии в количестве тромбоцитов?\n",
    "\n",
    "Группа|Число обследованных|Среднее число тромбоцитов, мкл–1|Стандартное отклонение\n",
    "-|-|-|-\n",
    "Взрослые|15|257|159\n",
    "Дети в возрасте 4 суток|37|196|359\n",
    "Дети в возрасте 1 месяца|31|221|340\n",
    "Дети в возрасте 2 месяцев|13|280|263\n",
    "Дети в возрасте 4 месяцев|10|310|95"
   ]
  },
  {
   "cell_type": "code",
   "execution_count": 24,
   "metadata": {},
   "outputs": [
    {
     "data": {
      "text/html": [
       "<div>\n",
       "<style scoped>\n",
       "    .dataframe tbody tr th:only-of-type {\n",
       "        vertical-align: middle;\n",
       "    }\n",
       "\n",
       "    .dataframe tbody tr th {\n",
       "        vertical-align: top;\n",
       "    }\n",
       "\n",
       "    .dataframe thead th {\n",
       "        text-align: right;\n",
       "    }\n",
       "</style>\n",
       "<table border=\"1\" class=\"dataframe\">\n",
       "  <thead>\n",
       "    <tr style=\"text-align: right;\">\n",
       "      <th></th>\n",
       "      <th>n</th>\n",
       "      <th>mean</th>\n",
       "      <th>std</th>\n",
       "    </tr>\n",
       "  </thead>\n",
       "  <tbody>\n",
       "    <tr>\n",
       "      <th>Взрослые</th>\n",
       "      <td>15</td>\n",
       "      <td>257</td>\n",
       "      <td>159</td>\n",
       "    </tr>\n",
       "    <tr>\n",
       "      <th>Дети в возрасте 4 суток</th>\n",
       "      <td>37</td>\n",
       "      <td>196</td>\n",
       "      <td>359</td>\n",
       "    </tr>\n",
       "    <tr>\n",
       "      <th>Дети в возрасте 1 месяца</th>\n",
       "      <td>31</td>\n",
       "      <td>221</td>\n",
       "      <td>340</td>\n",
       "    </tr>\n",
       "    <tr>\n",
       "      <th>Дети в возрасте 2 месяцев</th>\n",
       "      <td>13</td>\n",
       "      <td>280</td>\n",
       "      <td>263</td>\n",
       "    </tr>\n",
       "    <tr>\n",
       "      <th>Дети в возрасте 4 месяцев</th>\n",
       "      <td>10</td>\n",
       "      <td>310</td>\n",
       "      <td>95</td>\n",
       "    </tr>\n",
       "  </tbody>\n",
       "</table>\n",
       "</div>"
      ],
      "text/plain": [
       "                            n  mean  std\n",
       "Взрослые                   15   257  159\n",
       "Дети в возрасте 4 суток    37   196  359\n",
       "Дети в возрасте 1 месяца   31   221  340\n",
       "Дети в возрасте 2 месяцев  13   280  263\n",
       "Дети в возрасте 4 месяцев  10   310   95"
      ]
     },
     "metadata": {},
     "output_type": "display_data"
    }
   ],
   "source": [
    "df = pd.DataFrame(\n",
    "    data=[[15, 257, 159], [37, 196, 359], [31, 221, 340], [13, 280, 263], [10, 310, 95]],\n",
    "    index=[\"Взрослые\"] + [f\"Дети в возрасте {x}\" for x in [\"4 суток\", \"1 месяца\", \"2 месяцев\", \"4 месяцев\"]],\n",
    "    columns=[\"n\", \"mean\", \"std\"] \n",
    ")\n",
    "\n",
    "display(df)"
   ]
  },
  {
   "cell_type": "code",
   "execution_count": 25,
   "metadata": {},
   "outputs": [
    {
     "data": {
      "image/png": "[encoded data removed]",
      "text/plain": [
       "<Figure size 432x288 with 1 Axes>"
      ]
     },
     "metadata": {
      "needs_background": "light"
     },
     "output_type": "display_data"
    }
   ],
   "source": [
    "fig, ax = plt.subplots()\n",
    "\n",
    "plt.errorbar(x=df[\"mean\"], y=df.index, xerr=df[\"std\"], fmt='o', capsize=5);\n",
    "\n",
    "ax.set_title(\"Среднее \\u00b1 стандартное отклонение\");\n",
    "ax.set_xlabel(\"Число тромбоцитов, мкл–1\");"
   ]
  },
  {
   "cell_type": "code",
   "execution_count": 26,
   "metadata": {},
   "outputs": [
    {
     "name": "stdout",
     "output_type": "stream",
     "text": [
      "Межгрупповая дисперсия: MSbg = 37941.000\n",
      "Внутригрупповая дисперсия: MSwg = 92801.020\n",
      "\n",
      "F = MSbg / MSwg = 0.409\n",
      "\n",
      "P = 0.802\n",
      "\n",
      "Межгрупповое число степеней свободы: vbg = 4\n",
      "Внутригрупповое число степеней свободы: vwg = 101\n",
      "\n",
      "Критический значение для заданного числа степеней сввободы и уровней значимости 0.01 и 0.05: \n",
      "\t F01 = 3.511 \n",
      "\t F05 = 2.462\n",
      "\n",
      "Различия статистически не значимы. P = 0.802 > 0.05 (F = 0.409 < F05 = 2.462)\n"
     ]
    }
   ],
   "source": [
    "f_test(df[\"n\"], df[\"mean\"], df[\"std\"])"
   ]
  }
 ],
 "metadata": {
  "kernelspec": {
   "display_name": "Python 3.10.4 ('medstats')",
   "language": "python",
   "name": "python3"
  },
  "language_info": {
   "codemirror_mode": {
    "name": "ipython",
    "version": 3
   },
   "file_extension": ".py",
   "mimetype": "text/x-python",
   "name": "python",
   "nbconvert_exporter": "python",
   "pygments_lexer": "ipython3",
   "version": "3.9.7"
  },
  "orig_nbformat": 4,
  "vscode": {
   "interpreter": {
    "hash": "7c5ed75e696d67f8ed29aeb679a61edaed6238fef4574aaccead5c65077ee014"
   }
  }
 },
 "nbformat": 4,
 "nbformat_minor": 2
}
