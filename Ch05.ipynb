{
 "cells": [
  {
   "cell_type": "code",
   "execution_count": 1,
   "metadata": {},
   "outputs": [],
   "source": [
    "from IPython.display import Markdown, display\n",
    "\n",
    "import os\n",
    "\n",
    "import numpy as np\n",
    "import pandas as pd\n",
    "import seaborn as sns\n",
    "\n",
    "from scipy.stats import fisher_exact\n",
    "\n",
    "import matplotlib.pyplot as plt\n",
    "plt.style.use('ggplot')"
   ]
  },
  {
   "cell_type": "code",
   "execution_count": 2,
   "metadata": {},
   "outputs": [],
   "source": [
    "if os.path.exists('src'):\n",
    "    %load_ext autoreload\n",
    "    %autoreload 2\n",
    "else:\n",
    "    !git clone https://github.com/P-Mihail/medstats_ex.git\n",
    "\n",
    "from src.chi2_test import chi2_test\n",
    "from src.utils import combine_rows, combine_cols\n",
    "from src.plot import barplot_ct"
   ]
  },
  {
   "cell_type": "markdown",
   "metadata": {},
   "source": [
    "### Глава 5\n",
    "#### Анализ качественных признаков\n",
    "\n",
    "##### ТОЧНОСТЬ ОЦЕНКИ ДОЛЕЙ\n",
    "\n",
    "$\\sigma_{\\hat{p}} = \\cfrac{\\sigma}{\\sqrt n} = \\sqrt{\\cfrac{p(1-p)}{n}}$ - стандартная ошибка доли.\n",
    "\n",
    "$\\sigma = \\sqrt{p(1-p)}$ - стандартное отклонение, $n$ - объем выборки.\n",
    "\n",
    "заменив истинное значениедоли $p$ на её оценку $\\hat p$ получаем оценку стандартной ошибки доли: $S_{\\hat{p}} = \\sqrt{\\cfrac{\\hat{p}(1-\\hat{p})}{n}}$\n",
    "\n",
    "Из ЦПТ следует, что при достаточно большом объеме выборки $\\hat{p}$ приближенно подчиняется нормальному распределению, имеющему среднее $р$ и стандартное отклонение $\\sigma_{\\hat{p}}$. Однако при значениях $р$, близких к 0 или 1, и при малом объеме выборки это не так!\n",
    "\n",
    "Условие применомости оценки: $n\\hat{p} > 5$ и $n(1 - \\hat{p}) > 5$\n",
    "\n",
    "##### СРАВНЕНИЕ ДОЛЕЙ (качественный признак принимает два значения, число выборок тоже равно двум)\n",
    "\n",
    "z - критерий (аналогично t критерию Стьюденты)\n",
    "\n",
    "$z = \\cfrac{Разность\\ выборочных\\ долей}{Стандартная\\ ошибка\\ разности\\ выборочных\\ долей} = \\cfrac{\\hat{p_1}-\\hat{p_2}}{S_{\\hat{p_1}-\\hat{p_2}}} = \\cfrac{\\hat{p_1}-\\hat{p_2}}{\\sqrt{S^2_{\\hat{p_1}} + S^2_{\\hat{p_2}}}} = \\cfrac{\\hat{p_1}-\\hat{p_2}}{\\sqrt{\\cfrac{\\hat{p_1}(1-\\hat{p_1})}{n_1} + \\cfrac{\\hat{p_2}(1-\\hat{p_2})}{n_2}}}$\n",
    "\n",
    "Если нулевая гипотеза верна, то обе выборочные доли $\\hat{p_1}=\\cfrac{m_1}{n_1}$ и $\\hat{p_2}=\\cfrac{m_2}{n_2}$ — это две оценки одной и той же доли $\\hat{p}$, которую, следовательно, можно оценить как: $\\hat{p}=\\cfrac{m_1 + m_2}{n_1 + n_2}$\n",
    "\n",
    "Тогда: $z = \\cfrac{\\hat{p_1}-\\hat{p_2}}{\\sqrt{\\hat{p}(1-\\hat{p})(\\cfrac{1}{n_1} + \\cfrac{1}{n_2})}}$\n",
    "\n",
    "$z$ подчиняется стандартному нормальному распределению => критические значения $z$ для 5% уровня значимости = 1,96, для 1% — 2,58.\n",
    "\n",
    "**поправка Йеитса** называемая также **поправкой на непрерывность**\n",
    "\n",
    "Нормальное распределение служит лишь приближением для распределения $z$. При этом оценка $P$ оказывается заниженной, и нулевая гипотеза будет отвергаться слишком часто. Причина состоит в том, что $z$ принимает только дискретные значения, тогда как приближающее его нормальное распределение непрерывно.\n",
    "\n",
    "Поправка Йейтса слегка уменьшает значение $z$, уменьшая тем самым расхождение с нормальным распределением.\n",
    "\n",
    "$z = \\cfrac{|\\hat{p_1}-\\hat{p_2}| - \\cfrac{1}{2}(\\cfrac{1}{n_1} + \\cfrac{1}{n_2})}{\\sqrt{\\hat{p}(1-\\hat{p})(\\cfrac{1}{n_1} + \\cfrac{1}{n_2})}}$\n",
    "\n",
    "##### ТАБЛИЦЫ СОПРЯЖЕННОСТИ: КРИТЕРИЙ $\\chi^2$\n",
    "\n",
    "число значений признака и число выборок может быть большим двух.\n",
    "\n",
    "\n",
    "Критерий $\\chi^2$ не требует никаких предположений относительно параметров совокупности, из которой извлечены выборки (непараметрический критерий).\n",
    "\n",
    "$\\chi^2 = \\sum\\cfrac{(O - E)^2}{E}$, где $O$ - наблюдаемое число в клетке таблицы сопряженности, $E$ - ожидаемое число в той же клетке. Суммирование проводится по всем клеткам таблицы.\n",
    "\n",
    "\n",
    "Критическое значений $\\chi^2$ зависит от размера матрицы сопряженности, то есть от числа сравниваемых методов (строк таблицы) и числа возможных исходов (столбцов таблицы). Размер таблицы выражается числом степеней свободы $v$: $ν = (r – 1)(c – 1)$, где $r$ — число строк, а $с$ — число столбцов.\n",
    "\n",
    "**Критерии $\\chi^2$ для таблицы 2×2**\n",
    "\n",
    "для таблиц сопряженности размером 2×2 выполняется равенство: $\\chi^2 = z^2$ \n",
    "\n",
    "**поправка Йеитса** (только для таблиц 2х2)\n",
    "\n",
    "$\\chi^2 = \\sum\\cfrac{|O - E| - \\cfrac{1}{2}}{E}$\n",
    "\n",
    "**Общий порядок применения критерия $\\chi^2$**\n",
    "* Постройте по имеющимся данным таблицу сопряженности.\n",
    "* Подсчитайте число объектов в каждой строке и в каждом столбце и найдите, какую долю от общего числа объектов составляют эти величины.\n",
    "* Зная эти доли, подсчитайте с точностью до двух знаков после запятой ожидаемые числа — количество объектов, которое попало бы в каждую клетку таблицы, если бы связь между строками и столбцами отсутствовала.\n",
    "* Найдите величину, характеризующую различия наблюдаемых и ожидаемых значений. Если таблица сопряженности имеет размер 2×2, примените поправку Йеитса.\n",
    "* Вычислите число степеней свободы, выберите уровень значимости и по таблице, определите критическое значение $\\chi^2$. Сравните его с полученным для вашей таблицы.\n",
    "\n",
    "##### Применимость критерия $\\chi^2$:\n",
    "\n",
    "Применение критерия  $\\chi^2$ для таблицы 2х2 правомерно, если ожидаемое число в любой из клеток больше или равно 5.\n",
    "\n",
    "В общем случае критерии  $\\chi^2$ применим, если все ожидаемые числа не меньше 1 и доля клеток с ожидаемыми числами меньше 5 не превышает 20%. Если это не так, то можно попробовать объединить несколько строк или столбцов.\n",
    "\n",
    "##### Преобразование таблиц сопряженности\n",
    "\n",
    "Перед объединением в одну группу надо проверить гипотезу об отсутствии межгрупповых различий.\n",
    "\n",
    "Поскольку осуществляется несколько сравнений с использованием одних и тех же данных, необходимо использовать поправку Бонферрони, умножая уровень значимости на число сравнений!!!\n",
    "\n",
    "##### ТОЧНЫЙ КРИТЕРИЙ ФИШЕРА\n",
    "\n",
    "Когда число наблюдений невелико, невыполняется услование применимости критерия $\\chi^2$. В этом случае используют точный критерий Фишера. Он основан на переборе всех возможных вариантов заполнения таблицы сопряженности при данной численности групп, поэтому, чем она меньше, тем проще его применить.\n",
    "\n",
    "Нулевая гипотеза состоит в том, что между группами и исходом нет никакой связи. Тогда вероятность получить некоторую таблицу равна:\n",
    "\n",
    "$P = \\cfrac{\\cfrac{R_1!R_2!C_1!C_2!}{N!}}{O_{11}!O_{12}!O_{21}!O_{22}!}$, где $R_1$ и $R_2$ — суммы по строкам, $С_1$ и $С_2$ — суммы по столбцам. $O_{11}$, $O_{12}$, $O_{21}$ и $O_{22}$ — числа в клетках, $N$ — общее число наблюдений.\n",
    "\n",
    "Построив все остальные варианты заполнения таблицы, возможные при данных суммах по строкам и столбцам, по этой же формуле рассчитывают их вероятность. Вероятности, которые не превосходят вероятность исходной таблицы (включая саму эту вероятность), суммируют. Полученная сумма — это величина P для двустороннего варианта точного критерия Фишера.\n",
    "\n",
    "Для построения всех вариантов заполнения таблицы в одной из клеток перебираются все целые числа от нуля до максимально возможного, пересчитывая числа в остальных клетках так, чтобы суммы по строкам и столбцам оставались неизменными."
   ]
  },
  {
   "cell_type": "markdown",
   "metadata": {},
   "source": [
    "**5.1.**\n",
    "\n",
    "Т. Бишоп (Т. Bishop. High frequency neural modulation in dentistry. J. Am. Dent. Assoc., 112:176—177, 1986) изучил эффективность высокочастотной стимуляции нерва в качестве обезболивающего средства при удалении зуба. Все больные подключались к прибору, но в одних случаях он работал, в других был выключен. Ни стоматолог, ни больной не знали, включен ли прибор. Позволяют ли следующие данные считать высокочастотную стимуляцию нерва действенным анальгезируюшим средством?\n",
    "\n",
    "-|Прибор включен|Прибор выключен\n",
    "-|-|-\n",
    "Боли нет|24|3\n",
    "Боль есть|6|17"
   ]
  },
  {
   "cell_type": "code",
   "execution_count": 3,
   "metadata": {},
   "outputs": [
    {
     "data": {
      "text/html": [
       "<div>\n",
       "<style scoped>\n",
       "    .dataframe tbody tr th:only-of-type {\n",
       "        vertical-align: middle;\n",
       "    }\n",
       "\n",
       "    .dataframe tbody tr th {\n",
       "        vertical-align: top;\n",
       "    }\n",
       "\n",
       "    .dataframe thead th {\n",
       "        text-align: right;\n",
       "    }\n",
       "</style>\n",
       "<table border=\"1\" class=\"dataframe\">\n",
       "  <thead>\n",
       "    <tr style=\"text-align: right;\">\n",
       "      <th></th>\n",
       "      <th>Боли нет</th>\n",
       "      <th>Боль есть</th>\n",
       "    </tr>\n",
       "  </thead>\n",
       "  <tbody>\n",
       "    <tr>\n",
       "      <th>Прибор включен</th>\n",
       "      <td>24</td>\n",
       "      <td>3</td>\n",
       "    </tr>\n",
       "    <tr>\n",
       "      <th>Прибор выключен</th>\n",
       "      <td>6</td>\n",
       "      <td>17</td>\n",
       "    </tr>\n",
       "  </tbody>\n",
       "</table>\n",
       "</div>"
      ],
      "text/plain": [
       "                 Боли нет  Боль есть\n",
       "Прибор включен         24          3\n",
       "Прибор выключен         6         17"
      ]
     },
     "metadata": {},
     "output_type": "display_data"
    },
    {
     "data": {
      "image/png": "[encoded data removed]",
      "text/plain": [
       "<Figure size 432x288 with 2 Axes>"
      ]
     },
     "metadata": {
      "needs_background": "light"
     },
     "output_type": "display_data"
    },
    {
     "data": {
      "image/png": "[encoded data removed]",
      "text/plain": [
       "<Figure size 720x360 with 1 Axes>"
      ]
     },
     "metadata": {
      "needs_background": "light"
     },
     "output_type": "display_data"
    },
    {
     "name": "stdout",
     "output_type": "stream",
     "text": [
      "chi^2 = 17.878, v=1, P=0.000\n",
      "Отличия статистически значимы.\n"
     ]
    }
   ],
   "source": [
    "df = pd.DataFrame(data=[[24, 3], [6, 17]], columns=[\"Боли нет\", \"Боль есть\"], index=[\"Прибор включен\", \"Прибор выключен\"])\n",
    "\n",
    "display(df)\n",
    "\n",
    "sns.heatmap(df, annot=True, cmap=\"YlOrBr\")\n",
    "barplot_ct(df)\n",
    "\n",
    "chi2_test(df, silent=False)"
   ]
  },
  {
   "cell_type": "markdown",
   "metadata": {},
   "source": [
    "Да, позволяют: $\\chi^2$= 17,878; ν = 1; Р = 2.35e-05 < 0,001."
   ]
  },
  {
   "cell_type": "markdown",
   "metadata": {},
   "source": [
    "**5.2.**\n",
    "\n",
    "Синдром внезапной детской смерти — основная причина смерти детей в возрасте от 1 недели до 1 года. Обычно смерть наступает на фоне полного здоровья незаметно, во сне, поэтому\n",
    "определение факторов риска имеет первостепенное значение.\n",
    "\n",
    "Считается, что синдром внезапной детской смерти чаще случается у недоношенных детей, негров, а также в семьях с низкими доходами. Н. Левак и соавт. (N. Lewak et al. Sudden infant death syndrome risk factors: prospective data review. Clin. Pediatr., 18:404—411, 1979) решили уточнить эти данные. Исследователи собрали сведения о 19047 детях, родившихся в одном из роддомов Окленда, штат Калифорния, с 1960 по 1967 г. Судьбу детей проследили до 1 года. Данных о 48 детях получить не удалось.\n",
    "\n",
    "От синдрома внезапной детской смерти умерли 44 ребенка. Данные о предполагаемых факторах риска представлены в таблице. Найдите признаки, связанные с риском синдрома внезапной детской смерти.\n",
    "\n",
    "\n",
    "Фактор| |+|–\n",
    "-|-|-|-\n",
    "Возраст матери|До 25 лет|29|7301\n",
    "| |25 лет и старше|15|11241\n",
    "Время от окончания предыдущей беременности|Менее 1 года|23|4694\n",
    "||Более 1 года|11|7339\n",
    "Планировалась ли беременность|Нет|23|7654\n",
    "||Да|5|4253\n",
    "Повторная беременность|Нет|36|12987\n",
    "||Да|8|4999\n",
    "Курение во время беременности|Да|24|5228\n",
    "||Нет|10|9595\n",
    "Посещения врача во время беременности|Менее 11 раз|31|10512\n",
    "||11 раз или более|11|8154\n",
    "Самый низкий гемоглобин во время беременности|Менее 12 мг%|26|12613\n",
    "||12 мг% и более|7|2678\n",
    "Раса|Белые|31|12240\n",
    "||Негры|9|4323\n",
    "||Другие|4|2153"
   ]
  },
  {
   "cell_type": "code",
   "execution_count": 4,
   "metadata": {},
   "outputs": [
    {
     "data": {
      "text/html": [
       "<div>\n",
       "<style scoped>\n",
       "    .dataframe tbody tr th:only-of-type {\n",
       "        vertical-align: middle;\n",
       "    }\n",
       "\n",
       "    .dataframe tbody tr th {\n",
       "        vertical-align: top;\n",
       "    }\n",
       "\n",
       "    .dataframe thead th {\n",
       "        text-align: right;\n",
       "    }\n",
       "</style>\n",
       "<table border=\"1\" class=\"dataframe\">\n",
       "  <thead>\n",
       "    <tr style=\"text-align: right;\">\n",
       "      <th></th>\n",
       "      <th></th>\n",
       "      <th>+</th>\n",
       "      <th>-</th>\n",
       "    </tr>\n",
       "  </thead>\n",
       "  <tbody>\n",
       "    <tr>\n",
       "      <th rowspan=\"2\" valign=\"top\">Возраст матери</th>\n",
       "      <th>До 25 лет</th>\n",
       "      <td>29</td>\n",
       "      <td>7301</td>\n",
       "    </tr>\n",
       "    <tr>\n",
       "      <th>25 лет и старше</th>\n",
       "      <td>15</td>\n",
       "      <td>11241</td>\n",
       "    </tr>\n",
       "    <tr>\n",
       "      <th rowspan=\"2\" valign=\"top\">Время от окончания предыдущей беременности</th>\n",
       "      <th>Менее 1 года</th>\n",
       "      <td>23</td>\n",
       "      <td>4694</td>\n",
       "    </tr>\n",
       "    <tr>\n",
       "      <th>Более 1 года</th>\n",
       "      <td>11</td>\n",
       "      <td>7339</td>\n",
       "    </tr>\n",
       "    <tr>\n",
       "      <th rowspan=\"2\" valign=\"top\">Планировалась ли беременность</th>\n",
       "      <th>Нет</th>\n",
       "      <td>23</td>\n",
       "      <td>7654</td>\n",
       "    </tr>\n",
       "    <tr>\n",
       "      <th>Да</th>\n",
       "      <td>5</td>\n",
       "      <td>4253</td>\n",
       "    </tr>\n",
       "    <tr>\n",
       "      <th rowspan=\"2\" valign=\"top\">Повторная беременность</th>\n",
       "      <th>Нет</th>\n",
       "      <td>36</td>\n",
       "      <td>12987</td>\n",
       "    </tr>\n",
       "    <tr>\n",
       "      <th>Да</th>\n",
       "      <td>8</td>\n",
       "      <td>4999</td>\n",
       "    </tr>\n",
       "    <tr>\n",
       "      <th rowspan=\"2\" valign=\"top\">Курение во время беременности</th>\n",
       "      <th>Да</th>\n",
       "      <td>24</td>\n",
       "      <td>5228</td>\n",
       "    </tr>\n",
       "    <tr>\n",
       "      <th>Нет</th>\n",
       "      <td>10</td>\n",
       "      <td>9595</td>\n",
       "    </tr>\n",
       "    <tr>\n",
       "      <th rowspan=\"2\" valign=\"top\">Посещения врача во время беременности</th>\n",
       "      <th>Менее 11 раз</th>\n",
       "      <td>31</td>\n",
       "      <td>10512</td>\n",
       "    </tr>\n",
       "    <tr>\n",
       "      <th>11 раз или более</th>\n",
       "      <td>11</td>\n",
       "      <td>8154</td>\n",
       "    </tr>\n",
       "    <tr>\n",
       "      <th rowspan=\"2\" valign=\"top\">Самый низкий гемоглобин во время беременности</th>\n",
       "      <th>Менее 12 мг%</th>\n",
       "      <td>26</td>\n",
       "      <td>12613</td>\n",
       "    </tr>\n",
       "    <tr>\n",
       "      <th>12 мг% и более</th>\n",
       "      <td>7</td>\n",
       "      <td>2678</td>\n",
       "    </tr>\n",
       "    <tr>\n",
       "      <th rowspan=\"3\" valign=\"top\">Раса</th>\n",
       "      <th>Белые</th>\n",
       "      <td>31</td>\n",
       "      <td>12240</td>\n",
       "    </tr>\n",
       "    <tr>\n",
       "      <th>Негры</th>\n",
       "      <td>9</td>\n",
       "      <td>4323</td>\n",
       "    </tr>\n",
       "    <tr>\n",
       "      <th>Другие</th>\n",
       "      <td>4</td>\n",
       "      <td>2153</td>\n",
       "    </tr>\n",
       "  </tbody>\n",
       "</table>\n",
       "</div>"
      ],
      "text/plain": [
       "                                                                 +      -\n",
       "Возраст матери                                До 25 лет         29   7301\n",
       "                                              25 лет и старше   15  11241\n",
       "Время от окончания предыдущей беременности    Менее 1 года      23   4694\n",
       "                                              Более 1 года      11   7339\n",
       "Планировалась ли беременность                 Нет               23   7654\n",
       "                                              Да                 5   4253\n",
       "Повторная беременность                        Нет               36  12987\n",
       "                                              Да                 8   4999\n",
       "Курение во время беременности                 Да                24   5228\n",
       "                                              Нет               10   9595\n",
       "Посещения врача во время беременности         Менее 11 раз      31  10512\n",
       "                                              11 раз или более  11   8154\n",
       "Самый низкий гемоглобин во время беременности Менее 12 мг%      26  12613\n",
       "                                              12 мг% и более     7   2678\n",
       "Раса                                          Белые             31  12240\n",
       "                                              Негры              9   4323\n",
       "                                              Другие             4   2153"
      ]
     },
     "metadata": {},
     "output_type": "display_data"
    }
   ],
   "source": [
    "df = pd.DataFrame(data=[[29, 7301], [15, 11241], [23, 4694], [11, 7339], [23, 7654],\n",
    "                        [5, 4253], [36, 12987], [8, 4999], [24, 5228], [10, 9595],\n",
    "                        [31, 10512], [11, 8154], [26, 12613], [7, 2678], [31, 12240],\n",
    "                        [9, 4323], [4, 2153]], \n",
    "                 columns=[\"+\", \"-\"], \n",
    "                 index=pd.MultiIndex.from_arrays([[\"Возраст матери\", \"Возраст матери\", \"Время от окончания предыдущей беременности\", \n",
    "                     \"Время от окончания предыдущей беременности\", \"Планировалась ли беременность\", \"Планировалась ли беременность\", \n",
    "                     \"Повторная беременность\", \"Повторная беременность\", \"Курение во время беременности\", \"Курение во время беременности\", \n",
    "                     \"Посещения врача во время беременности\", \"Посещения врача во время беременности\", \"Самый низкий гемоглобин во время беременности\", \n",
    "                     \"Самый низкий гемоглобин во время беременности\", \"Раса\", \"Раса\", \"Раса\"], [\"До 25 лет\", \"25 лет и старше\", \"Менее 1 года\", \n",
    "                     \"Более 1 года\", \"Нет\", \"Да\", \"Нет\", \"Да\", \"Да\", \"Нет\", \"Менее 11 раз\", \"11 раз или более\", \"Менее 12 мг%\", \"12 мг% и более\", \n",
    "                     \"Белые\", \"Негры\", \"Другие\"]]))\n",
    "\n",
    "display(df)"
   ]
  },
  {
   "cell_type": "code",
   "execution_count": 5,
   "metadata": {},
   "outputs": [
    {
     "data": {
      "text/markdown": [
       "##### 1. Возраст матери:"
      ],
      "text/plain": [
       "<IPython.core.display.Markdown object>"
      ]
     },
     "metadata": {},
     "output_type": "display_data"
    },
    {
     "data": {
      "text/html": [
       "<div>\n",
       "<style scoped>\n",
       "    .dataframe tbody tr th:only-of-type {\n",
       "        vertical-align: middle;\n",
       "    }\n",
       "\n",
       "    .dataframe tbody tr th {\n",
       "        vertical-align: top;\n",
       "    }\n",
       "\n",
       "    .dataframe thead th {\n",
       "        text-align: right;\n",
       "    }\n",
       "</style>\n",
       "<table border=\"1\" class=\"dataframe\">\n",
       "  <thead>\n",
       "    <tr style=\"text-align: right;\">\n",
       "      <th></th>\n",
       "      <th>+</th>\n",
       "      <th>-</th>\n",
       "    </tr>\n",
       "  </thead>\n",
       "  <tbody>\n",
       "    <tr>\n",
       "      <th>До 25 лет</th>\n",
       "      <td>29</td>\n",
       "      <td>7301</td>\n",
       "    </tr>\n",
       "    <tr>\n",
       "      <th>25 лет и старше</th>\n",
       "      <td>15</td>\n",
       "      <td>11241</td>\n",
       "    </tr>\n",
       "  </tbody>\n",
       "</table>\n",
       "</div>"
      ],
      "text/plain": [
       "                  +      -\n",
       "До 25 лет        29   7301\n",
       "25 лет и старше  15  11241"
      ]
     },
     "metadata": {},
     "output_type": "display_data"
    },
    {
     "name": "stdout",
     "output_type": "stream",
     "text": [
      "chi^2 = 11.852, v=1, P=0.001\n",
      "Отличия статистически значимы.\n"
     ]
    },
    {
     "data": {
      "text/markdown": [
       "---"
      ],
      "text/plain": [
       "<IPython.core.display.Markdown object>"
      ]
     },
     "metadata": {},
     "output_type": "display_data"
    },
    {
     "data": {
      "text/markdown": [
       "##### 2. Время от окончания предыдущей беременности:"
      ],
      "text/plain": [
       "<IPython.core.display.Markdown object>"
      ]
     },
     "metadata": {},
     "output_type": "display_data"
    },
    {
     "data": {
      "text/html": [
       "<div>\n",
       "<style scoped>\n",
       "    .dataframe tbody tr th:only-of-type {\n",
       "        vertical-align: middle;\n",
       "    }\n",
       "\n",
       "    .dataframe tbody tr th {\n",
       "        vertical-align: top;\n",
       "    }\n",
       "\n",
       "    .dataframe thead th {\n",
       "        text-align: right;\n",
       "    }\n",
       "</style>\n",
       "<table border=\"1\" class=\"dataframe\">\n",
       "  <thead>\n",
       "    <tr style=\"text-align: right;\">\n",
       "      <th></th>\n",
       "      <th>+</th>\n",
       "      <th>-</th>\n",
       "    </tr>\n",
       "  </thead>\n",
       "  <tbody>\n",
       "    <tr>\n",
       "      <th>Менее 1 года</th>\n",
       "      <td>23</td>\n",
       "      <td>4694</td>\n",
       "    </tr>\n",
       "    <tr>\n",
       "      <th>Более 1 года</th>\n",
       "      <td>11</td>\n",
       "      <td>7339</td>\n",
       "    </tr>\n",
       "  </tbody>\n",
       "</table>\n",
       "</div>"
      ],
      "text/plain": [
       "               +     -\n",
       "Менее 1 года  23  4694\n",
       "Более 1 года  11  7339"
      ]
     },
     "metadata": {},
     "output_type": "display_data"
    },
    {
     "name": "stdout",
     "output_type": "stream",
     "text": [
      "chi^2 = 10.506, v=1, P=0.001\n",
      "Отличия статистически значимы.\n"
     ]
    },
    {
     "data": {
      "text/markdown": [
       "---"
      ],
      "text/plain": [
       "<IPython.core.display.Markdown object>"
      ]
     },
     "metadata": {},
     "output_type": "display_data"
    },
    {
     "data": {
      "text/markdown": [
       "##### 3. Курение во время беременности:"
      ],
      "text/plain": [
       "<IPython.core.display.Markdown object>"
      ]
     },
     "metadata": {},
     "output_type": "display_data"
    },
    {
     "data": {
      "text/html": [
       "<div>\n",
       "<style scoped>\n",
       "    .dataframe tbody tr th:only-of-type {\n",
       "        vertical-align: middle;\n",
       "    }\n",
       "\n",
       "    .dataframe tbody tr th {\n",
       "        vertical-align: top;\n",
       "    }\n",
       "\n",
       "    .dataframe thead th {\n",
       "        text-align: right;\n",
       "    }\n",
       "</style>\n",
       "<table border=\"1\" class=\"dataframe\">\n",
       "  <thead>\n",
       "    <tr style=\"text-align: right;\">\n",
       "      <th></th>\n",
       "      <th>+</th>\n",
       "      <th>-</th>\n",
       "    </tr>\n",
       "  </thead>\n",
       "  <tbody>\n",
       "    <tr>\n",
       "      <th>Да</th>\n",
       "      <td>24</td>\n",
       "      <td>5228</td>\n",
       "    </tr>\n",
       "    <tr>\n",
       "      <th>Нет</th>\n",
       "      <td>10</td>\n",
       "      <td>9595</td>\n",
       "    </tr>\n",
       "  </tbody>\n",
       "</table>\n",
       "</div>"
      ],
      "text/plain": [
       "      +     -\n",
       "Да   24  5228\n",
       "Нет  10  9595"
      ]
     },
     "metadata": {},
     "output_type": "display_data"
    },
    {
     "name": "stdout",
     "output_type": "stream",
     "text": [
      "chi^2 = 17.002, v=1, P=0.000\n",
      "Отличия статистически значимы.\n"
     ]
    },
    {
     "data": {
      "text/markdown": [
       "---"
      ],
      "text/plain": [
       "<IPython.core.display.Markdown object>"
      ]
     },
     "metadata": {},
     "output_type": "display_data"
    },
    {
     "data": {
      "text/markdown": [
       "##### 4. Планировалась ли беременность:"
      ],
      "text/plain": [
       "<IPython.core.display.Markdown object>"
      ]
     },
     "metadata": {},
     "output_type": "display_data"
    },
    {
     "data": {
      "text/html": [
       "<div>\n",
       "<style scoped>\n",
       "    .dataframe tbody tr th:only-of-type {\n",
       "        vertical-align: middle;\n",
       "    }\n",
       "\n",
       "    .dataframe tbody tr th {\n",
       "        vertical-align: top;\n",
       "    }\n",
       "\n",
       "    .dataframe thead th {\n",
       "        text-align: right;\n",
       "    }\n",
       "</style>\n",
       "<table border=\"1\" class=\"dataframe\">\n",
       "  <thead>\n",
       "    <tr style=\"text-align: right;\">\n",
       "      <th></th>\n",
       "      <th>+</th>\n",
       "      <th>-</th>\n",
       "    </tr>\n",
       "  </thead>\n",
       "  <tbody>\n",
       "    <tr>\n",
       "      <th>Нет</th>\n",
       "      <td>23</td>\n",
       "      <td>7654</td>\n",
       "    </tr>\n",
       "    <tr>\n",
       "      <th>Да</th>\n",
       "      <td>5</td>\n",
       "      <td>4253</td>\n",
       "    </tr>\n",
       "  </tbody>\n",
       "</table>\n",
       "</div>"
      ],
      "text/plain": [
       "      +     -\n",
       "Нет  23  7654\n",
       "Да    5  4253"
      ]
     },
     "metadata": {},
     "output_type": "display_data"
    },
    {
     "name": "stdout",
     "output_type": "stream",
     "text": [
      "chi^2 = 3.144, v=1, P=0.076\n",
      "Отличия статистически не значимы.\n"
     ]
    },
    {
     "data": {
      "text/markdown": [
       "---"
      ],
      "text/plain": [
       "<IPython.core.display.Markdown object>"
      ]
     },
     "metadata": {},
     "output_type": "display_data"
    },
    {
     "data": {
      "text/markdown": [
       "##### 5. Повторная беременность:"
      ],
      "text/plain": [
       "<IPython.core.display.Markdown object>"
      ]
     },
     "metadata": {},
     "output_type": "display_data"
    },
    {
     "data": {
      "text/html": [
       "<div>\n",
       "<style scoped>\n",
       "    .dataframe tbody tr th:only-of-type {\n",
       "        vertical-align: middle;\n",
       "    }\n",
       "\n",
       "    .dataframe tbody tr th {\n",
       "        vertical-align: top;\n",
       "    }\n",
       "\n",
       "    .dataframe thead th {\n",
       "        text-align: right;\n",
       "    }\n",
       "</style>\n",
       "<table border=\"1\" class=\"dataframe\">\n",
       "  <thead>\n",
       "    <tr style=\"text-align: right;\">\n",
       "      <th></th>\n",
       "      <th>+</th>\n",
       "      <th>-</th>\n",
       "    </tr>\n",
       "  </thead>\n",
       "  <tbody>\n",
       "    <tr>\n",
       "      <th>Нет</th>\n",
       "      <td>36</td>\n",
       "      <td>12987</td>\n",
       "    </tr>\n",
       "    <tr>\n",
       "      <th>Да</th>\n",
       "      <td>8</td>\n",
       "      <td>4999</td>\n",
       "    </tr>\n",
       "  </tbody>\n",
       "</table>\n",
       "</div>"
      ],
      "text/plain": [
       "      +      -\n",
       "Нет  36  12987\n",
       "Да    8   4999"
      ]
     },
     "metadata": {},
     "output_type": "display_data"
    },
    {
     "name": "stdout",
     "output_type": "stream",
     "text": [
      "chi^2 = 1.571, v=1, P=0.210\n",
      "Отличия статистически не значимы.\n"
     ]
    },
    {
     "data": {
      "text/markdown": [
       "---"
      ],
      "text/plain": [
       "<IPython.core.display.Markdown object>"
      ]
     },
     "metadata": {},
     "output_type": "display_data"
    },
    {
     "data": {
      "text/markdown": [
       "##### 6. Посещения врача во время беременности:"
      ],
      "text/plain": [
       "<IPython.core.display.Markdown object>"
      ]
     },
     "metadata": {},
     "output_type": "display_data"
    },
    {
     "data": {
      "text/html": [
       "<div>\n",
       "<style scoped>\n",
       "    .dataframe tbody tr th:only-of-type {\n",
       "        vertical-align: middle;\n",
       "    }\n",
       "\n",
       "    .dataframe tbody tr th {\n",
       "        vertical-align: top;\n",
       "    }\n",
       "\n",
       "    .dataframe thead th {\n",
       "        text-align: right;\n",
       "    }\n",
       "</style>\n",
       "<table border=\"1\" class=\"dataframe\">\n",
       "  <thead>\n",
       "    <tr style=\"text-align: right;\">\n",
       "      <th></th>\n",
       "      <th>+</th>\n",
       "      <th>-</th>\n",
       "    </tr>\n",
       "  </thead>\n",
       "  <tbody>\n",
       "    <tr>\n",
       "      <th>Менее 11 раз</th>\n",
       "      <td>31</td>\n",
       "      <td>10512</td>\n",
       "    </tr>\n",
       "    <tr>\n",
       "      <th>11 раз или более</th>\n",
       "      <td>11</td>\n",
       "      <td>8154</td>\n",
       "    </tr>\n",
       "  </tbody>\n",
       "</table>\n",
       "</div>"
      ],
      "text/plain": [
       "                   +      -\n",
       "Менее 11 раз      31  10512\n",
       "11 раз или более  11   8154"
      ]
     },
     "metadata": {},
     "output_type": "display_data"
    },
    {
     "name": "stdout",
     "output_type": "stream",
     "text": [
      "chi^2 = 4.527, v=1, P=0.033\n",
      "Пограничный случай, есть основания задуматься над наличием различий.\n"
     ]
    },
    {
     "data": {
      "text/markdown": [
       "---"
      ],
      "text/plain": [
       "<IPython.core.display.Markdown object>"
      ]
     },
     "metadata": {},
     "output_type": "display_data"
    },
    {
     "data": {
      "text/markdown": [
       "##### 7. Раса:"
      ],
      "text/plain": [
       "<IPython.core.display.Markdown object>"
      ]
     },
     "metadata": {},
     "output_type": "display_data"
    },
    {
     "data": {
      "text/html": [
       "<div>\n",
       "<style scoped>\n",
       "    .dataframe tbody tr th:only-of-type {\n",
       "        vertical-align: middle;\n",
       "    }\n",
       "\n",
       "    .dataframe tbody tr th {\n",
       "        vertical-align: top;\n",
       "    }\n",
       "\n",
       "    .dataframe thead th {\n",
       "        text-align: right;\n",
       "    }\n",
       "</style>\n",
       "<table border=\"1\" class=\"dataframe\">\n",
       "  <thead>\n",
       "    <tr style=\"text-align: right;\">\n",
       "      <th></th>\n",
       "      <th>+</th>\n",
       "      <th>-</th>\n",
       "    </tr>\n",
       "  </thead>\n",
       "  <tbody>\n",
       "    <tr>\n",
       "      <th>Белые</th>\n",
       "      <td>31</td>\n",
       "      <td>12240</td>\n",
       "    </tr>\n",
       "    <tr>\n",
       "      <th>Негры</th>\n",
       "      <td>9</td>\n",
       "      <td>4323</td>\n",
       "    </tr>\n",
       "    <tr>\n",
       "      <th>Другие</th>\n",
       "      <td>4</td>\n",
       "      <td>2153</td>\n",
       "    </tr>\n",
       "  </tbody>\n",
       "</table>\n",
       "</div>"
      ],
      "text/plain": [
       "         +      -\n",
       "Белые   31  12240\n",
       "Негры    9   4323\n",
       "Другие   4   2153"
      ]
     },
     "metadata": {},
     "output_type": "display_data"
    },
    {
     "name": "stdout",
     "output_type": "stream",
     "text": [
      "chi^2 = 0.527, v=2, P=0.769\n",
      "Отличия статистически не значимы.\n"
     ]
    },
    {
     "data": {
      "text/markdown": [
       "---"
      ],
      "text/plain": [
       "<IPython.core.display.Markdown object>"
      ]
     },
     "metadata": {},
     "output_type": "display_data"
    },
    {
     "data": {
      "text/markdown": [
       "##### 8. Самый низкий гемоглобин во время беременности:"
      ],
      "text/plain": [
       "<IPython.core.display.Markdown object>"
      ]
     },
     "metadata": {},
     "output_type": "display_data"
    },
    {
     "data": {
      "text/html": [
       "<div>\n",
       "<style scoped>\n",
       "    .dataframe tbody tr th:only-of-type {\n",
       "        vertical-align: middle;\n",
       "    }\n",
       "\n",
       "    .dataframe tbody tr th {\n",
       "        vertical-align: top;\n",
       "    }\n",
       "\n",
       "    .dataframe thead th {\n",
       "        text-align: right;\n",
       "    }\n",
       "</style>\n",
       "<table border=\"1\" class=\"dataframe\">\n",
       "  <thead>\n",
       "    <tr style=\"text-align: right;\">\n",
       "      <th></th>\n",
       "      <th>+</th>\n",
       "      <th>-</th>\n",
       "    </tr>\n",
       "  </thead>\n",
       "  <tbody>\n",
       "    <tr>\n",
       "      <th>Менее 12 мг%</th>\n",
       "      <td>26</td>\n",
       "      <td>12613</td>\n",
       "    </tr>\n",
       "    <tr>\n",
       "      <th>12 мг% и более</th>\n",
       "      <td>7</td>\n",
       "      <td>2678</td>\n",
       "    </tr>\n",
       "  </tbody>\n",
       "</table>\n",
       "</div>"
      ],
      "text/plain": [
       "                 +      -\n",
       "Менее 12 мг%    26  12613\n",
       "12 мг% и более   7   2678"
      ]
     },
     "metadata": {},
     "output_type": "display_data"
    },
    {
     "name": "stdout",
     "output_type": "stream",
     "text": [
      "chi^2 = 0.108, v=1, P=0.742\n",
      "Отличия статистически не значимы.\n"
     ]
    },
    {
     "data": {
      "text/markdown": [
       "---"
      ],
      "text/plain": [
       "<IPython.core.display.Markdown object>"
      ]
     },
     "metadata": {},
     "output_type": "display_data"
    }
   ],
   "source": [
    "for i, (factor, new_df) in enumerate(df.groupby(level=0), start=1):\n",
    "    display(Markdown(f\"##### {i}. {factor}:\"))\n",
    "    display(new_df.droplevel(0))\n",
    "    \n",
    "    chi2_test(new_df, silent=False)\n",
    "\n",
    "    display(Markdown(\"---\"))"
   ]
  },
  {
   "cell_type": "markdown",
   "metadata": {},
   "source": [
    "Статистически значимые различия (факторы риска):\n",
    "* Возраст матери до 25 лет\n",
    "* Время от окончания предыдущей беременности менее 1 года\n",
    "* Курение во время беременности\n",
    "\n",
    "Так же стоит обратить внимание на пограничный случай:\n",
    "* Посещения врача во время беременности менее 11 раз"
   ]
  },
  {
   "cell_type": "markdown",
   "metadata": {},
   "source": [
    "**5.3.**\n",
    "\n",
    "Могло ли повлиять отсутствие данных о 48 детях на результаты исследования? Если да, то как?\n",
    "\n",
    "Зависит от причин по которой были утрачены данные об этих детях. Если предполагать, что утрата случайна и они пренадлежат той же ГС, то эта утрата не могла сильно повлиять на результат. Однако в случае если была утрата из группы \"+\" или явная подтасовка результатов, тогда результату нельзя доверять."
   ]
  },
  {
   "cell_type": "markdown",
   "metadata": {},
   "source": [
    "**5.4.**\n",
    "\n",
    "Р. Феннел и соавт. (R. Fennell et al. Urinary tract infections in children effect of short course antibiotic therapy on recurrence rate in children with previous infections. Clin. Pediatr., 19:121—124, 1980) сравнили эффективность трех антибиотиков при рецидивирующей инфекции мочевых путей у девочек 3—16 лет. После короткого курса одного из антибактериальных препаратов (назначенного случайным образом) в течение года делали повторные посевы мочи. При выявлении бактериурии констатировали рецидив. Были получены следующие результаты.\n",
    "\n",
    "||Рецидив \"+\"|Рецидив \"-\"\n",
    "-|-|-\n",
    "Ампициллин|20|7\n",
    "Триметоприм/сульфаметоксазол|24|21\n",
    "Цефалексин|14|2\n",
    "\n",
    "Есть ли основания говорить о разной эффективности препаратов? Если да, то какой лучше?"
   ]
  },
  {
   "cell_type": "code",
   "execution_count": 6,
   "metadata": {},
   "outputs": [
    {
     "data": {
      "text/html": [
       "<div>\n",
       "<style scoped>\n",
       "    .dataframe tbody tr th:only-of-type {\n",
       "        vertical-align: middle;\n",
       "    }\n",
       "\n",
       "    .dataframe tbody tr th {\n",
       "        vertical-align: top;\n",
       "    }\n",
       "\n",
       "    .dataframe thead th {\n",
       "        text-align: right;\n",
       "    }\n",
       "</style>\n",
       "<table border=\"1\" class=\"dataframe\">\n",
       "  <thead>\n",
       "    <tr style=\"text-align: right;\">\n",
       "      <th></th>\n",
       "      <th>Рецидив \"+\"</th>\n",
       "      <th>Рецидив \"-\"</th>\n",
       "    </tr>\n",
       "  </thead>\n",
       "  <tbody>\n",
       "    <tr>\n",
       "      <th>Ампициллин</th>\n",
       "      <td>20</td>\n",
       "      <td>7</td>\n",
       "    </tr>\n",
       "    <tr>\n",
       "      <th>Триметоприм/сульфаметоксазол</th>\n",
       "      <td>24</td>\n",
       "      <td>21</td>\n",
       "    </tr>\n",
       "    <tr>\n",
       "      <th>Цефалексин</th>\n",
       "      <td>14</td>\n",
       "      <td>2</td>\n",
       "    </tr>\n",
       "  </tbody>\n",
       "</table>\n",
       "</div>"
      ],
      "text/plain": [
       "                              Рецидив \"+\"  Рецидив \"-\"\n",
       "Ампициллин                             20            7\n",
       "Триметоприм/сульфаметоксазол           24           21\n",
       "Цефалексин                             14            2"
      ]
     },
     "metadata": {},
     "output_type": "display_data"
    },
    {
     "data": {
      "image/png": "[encoded data removed]",
      "text/plain": [
       "<Figure size 432x288 with 2 Axes>"
      ]
     },
     "metadata": {
      "needs_background": "light"
     },
     "output_type": "display_data"
    },
    {
     "data": {
      "image/png": "[encoded data removed]",
      "text/plain": [
       "<Figure size 720x360 with 1 Axes>"
      ]
     },
     "metadata": {
      "needs_background": "light"
     },
     "output_type": "display_data"
    },
    {
     "name": "stdout",
     "output_type": "stream",
     "text": [
      "chi^2 = 7.288, v=2, P=0.026\n",
      "Пограничный случай, есть основания задуматься над наличием различий.\n"
     ]
    }
   ],
   "source": [
    "df = pd.DataFrame(data=[[20, 7], [24, 21], [14, 2]], \n",
    "                  index=[\"Ампициллин\", \"Триметоприм/сульфаметоксазол\", \"Цефалексин\"],\n",
    "                  columns=[\"Рецидив \\\"+\\\"\", \"Рецидив \\\"-\\\"\"])\n",
    "\n",
    "display(df)\n",
    "\n",
    "sns.heatmap(df, annot=True, cmap=\"YlOrBr\")\n",
    "barplot_ct(df)\n",
    "\n",
    "chi2_test(df, silent=False)"
   ]
  },
  {
   "cell_type": "markdown",
   "metadata": {},
   "source": [
    "Исходя из графиков, можно предположить, о возможноти сгруппировать \"Ампицилин\" и \"Цефаликсин\" в случае отсутствия статистических различий между ними и сравнить полученную группу с группой \"Триметоприм/сульфаметоксазол\".\n",
    "Поскольку надо провести 2 сравнения, то стоит помнить про поправку Бонферрони для множественных сравнения."
   ]
  },
  {
   "cell_type": "code",
   "execution_count": 7,
   "metadata": {},
   "outputs": [
    {
     "name": "stdout",
     "output_type": "stream",
     "text": [
      "Не выполнено условие применимости для матрицы 2х2, в ожидаемой матрице существует элемент < 5\n",
      "Критерий CHI2 не применим для этих данных.\n",
      "Применение точного критерия Фишера.\n",
      "P=0.446\n",
      "Отличия статистически не значимы.\n"
     ]
    }
   ],
   "source": [
    "chi2_test(df.loc[[\"Ампициллин\", \"Цефалексин\"]], bonf=2, silent=False)"
   ]
  },
  {
   "cell_type": "code",
   "execution_count": 8,
   "metadata": {},
   "outputs": [
    {
     "data": {
      "text/html": [
       "<div>\n",
       "<style scoped>\n",
       "    .dataframe tbody tr th:only-of-type {\n",
       "        vertical-align: middle;\n",
       "    }\n",
       "\n",
       "    .dataframe tbody tr th {\n",
       "        vertical-align: top;\n",
       "    }\n",
       "\n",
       "    .dataframe thead th {\n",
       "        text-align: right;\n",
       "    }\n",
       "</style>\n",
       "<table border=\"1\" class=\"dataframe\">\n",
       "  <thead>\n",
       "    <tr style=\"text-align: right;\">\n",
       "      <th></th>\n",
       "      <th>Рецидив \"+\"</th>\n",
       "      <th>Рецидив \"-\"</th>\n",
       "    </tr>\n",
       "  </thead>\n",
       "  <tbody>\n",
       "    <tr>\n",
       "      <th>Триметоприм/сульфаметоксазол</th>\n",
       "      <td>24</td>\n",
       "      <td>21</td>\n",
       "    </tr>\n",
       "    <tr>\n",
       "      <th>Ампициллин + Цефалексин</th>\n",
       "      <td>34</td>\n",
       "      <td>9</td>\n",
       "    </tr>\n",
       "  </tbody>\n",
       "</table>\n",
       "</div>"
      ],
      "text/plain": [
       "                              Рецидив \"+\"  Рецидив \"-\"\n",
       "Триметоприм/сульфаметоксазол           24           21\n",
       "Ампициллин + Цефалексин                34            9"
      ]
     },
     "metadata": {},
     "output_type": "display_data"
    },
    {
     "data": {
      "image/png": "[encoded data removed]",
      "text/plain": [
       "<Figure size 720x360 with 1 Axes>"
      ]
     },
     "metadata": {
      "needs_background": "light"
     },
     "output_type": "display_data"
    },
    {
     "name": "stdout",
     "output_type": "stream",
     "text": [
      "chi^2 = 5.387, v=1, P=0.020\n",
      "Пограничный случай, есть основания задуматься над наличием различий.\n"
     ]
    }
   ],
   "source": [
    "new_df = df.pipe(combine_rows, [\"Ампициллин\", \"Цефалексин\"])\n",
    "\n",
    "display(new_df)\n",
    "\n",
    "barplot_ct(new_df)\n",
    "\n",
    "chi2_test(new_df, bonf=2, silent=False)"
   ]
  },
  {
   "cell_type": "markdown",
   "metadata": {},
   "source": [
    "Итак, Триметоприм/сульфаметоксазол превосходит как ампициллин, так и цефалексин, которые \n",
    "друг от друга не отличаются."
   ]
  },
  {
   "cell_type": "markdown",
   "metadata": {},
   "source": [
    "**5.5.**\n",
    "А. О’Нил и соавт. (A. O’Neil et al. A waterborn epidemic of acute infectious non-bacterial gastroenteritis in Alberta, Canada. Can.J. Public Health, 76:199—203, 1985) недавно сообщили о вспышке гастроэнтерита в маленьком канадском городке. Исследователи предположили, что источником инфекции была водопроводная вода. Они исследовали зависимость между количеством выпитой воды и числом заболевших. Какие выводы можно сделать из приводимых данных?\n",
    "\n",
    "Количество выпитой воды, стаканов в день|Число заболевших|Число не заболевших\n",
    "-|-|-\n",
    "Менее 1|39|121\n",
    "От 1 до 4|264|258\n",
    "5 и более|265|146"
   ]
  },
  {
   "cell_type": "code",
   "execution_count": 9,
   "metadata": {},
   "outputs": [
    {
     "data": {
      "text/html": [
       "<div>\n",
       "<style scoped>\n",
       "    .dataframe tbody tr th:only-of-type {\n",
       "        vertical-align: middle;\n",
       "    }\n",
       "\n",
       "    .dataframe tbody tr th {\n",
       "        vertical-align: top;\n",
       "    }\n",
       "\n",
       "    .dataframe thead th {\n",
       "        text-align: right;\n",
       "    }\n",
       "</style>\n",
       "<table border=\"1\" class=\"dataframe\">\n",
       "  <thead>\n",
       "    <tr style=\"text-align: right;\">\n",
       "      <th></th>\n",
       "      <th>Заболел</th>\n",
       "      <th>Не заболел</th>\n",
       "    </tr>\n",
       "  </thead>\n",
       "  <tbody>\n",
       "    <tr>\n",
       "      <th>Менее 1</th>\n",
       "      <td>39</td>\n",
       "      <td>121</td>\n",
       "    </tr>\n",
       "    <tr>\n",
       "      <th>От 1 до 4</th>\n",
       "      <td>264</td>\n",
       "      <td>258</td>\n",
       "    </tr>\n",
       "    <tr>\n",
       "      <th>5 и более</th>\n",
       "      <td>265</td>\n",
       "      <td>146</td>\n",
       "    </tr>\n",
       "  </tbody>\n",
       "</table>\n",
       "</div>"
      ],
      "text/plain": [
       "           Заболел  Не заболел\n",
       "Менее 1         39         121\n",
       "От 1 до 4      264         258\n",
       "5 и более      265         146"
      ]
     },
     "metadata": {},
     "output_type": "display_data"
    },
    {
     "data": {
      "image/png": "[encoded data removed]",
      "text/plain": [
       "<Figure size 432x288 with 2 Axes>"
      ]
     },
     "metadata": {
      "needs_background": "light"
     },
     "output_type": "display_data"
    },
    {
     "data": {
      "image/png": "[encoded data removed]",
      "text/plain": [
       "<Figure size 720x360 with 1 Axes>"
      ]
     },
     "metadata": {
      "needs_background": "light"
     },
     "output_type": "display_data"
    },
    {
     "name": "stdout",
     "output_type": "stream",
     "text": [
      "chi^2 = 74.973, v=2, P=0.000\n",
      "Отличия статистически значимы.\n"
     ]
    }
   ],
   "source": [
    "df = pd.DataFrame(data=[[39, 121], [264, 258], [265, 146]], index=[\"Менее 1\", \"От 1 до 4\", \"5 и более\"], columns=[\"Заболел\", \"Не заболел\"])\n",
    "\n",
    "display(df)\n",
    "\n",
    "sns.heatmap(df, annot=True, cmap=\"YlOrBr\", fmt='g')\n",
    "barplot_ct(df, idxname=\"Количество выпитой воды, стаканов в день\")\n",
    "\n",
    "chi2_test(df, silent=False)"
   ]
  },
  {
   "cell_type": "markdown",
   "metadata": {},
   "source": [
    "Сравним группы попарно, чтоб убедиться в том, что все группы различны (это видно из последнего графика). Поправка Бонферрони на множественные сравнения = 3."
   ]
  },
  {
   "cell_type": "code",
   "execution_count": 10,
   "metadata": {},
   "outputs": [
    {
     "data": {
      "text/markdown": [
       "#### 1: \"Менее 1\" - \"От 1 до 4\""
      ],
      "text/plain": [
       "<IPython.core.display.Markdown object>"
      ]
     },
     "metadata": {},
     "output_type": "display_data"
    },
    {
     "data": {
      "text/html": [
       "<div>\n",
       "<style scoped>\n",
       "    .dataframe tbody tr th:only-of-type {\n",
       "        vertical-align: middle;\n",
       "    }\n",
       "\n",
       "    .dataframe tbody tr th {\n",
       "        vertical-align: top;\n",
       "    }\n",
       "\n",
       "    .dataframe thead th {\n",
       "        text-align: right;\n",
       "    }\n",
       "</style>\n",
       "<table border=\"1\" class=\"dataframe\">\n",
       "  <thead>\n",
       "    <tr style=\"text-align: right;\">\n",
       "      <th></th>\n",
       "      <th>Заболел</th>\n",
       "      <th>Не заболел</th>\n",
       "    </tr>\n",
       "  </thead>\n",
       "  <tbody>\n",
       "    <tr>\n",
       "      <th>Менее 1</th>\n",
       "      <td>39</td>\n",
       "      <td>121</td>\n",
       "    </tr>\n",
       "    <tr>\n",
       "      <th>От 1 до 4</th>\n",
       "      <td>264</td>\n",
       "      <td>258</td>\n",
       "    </tr>\n",
       "  </tbody>\n",
       "</table>\n",
       "</div>"
      ],
      "text/plain": [
       "           Заболел  Не заболел\n",
       "Менее 1         39         121\n",
       "От 1 до 4      264         258"
      ]
     },
     "metadata": {},
     "output_type": "display_data"
    },
    {
     "name": "stdout",
     "output_type": "stream",
     "text": [
      "chi^2 = 32.995, v=1, P=0.000\n",
      "Отличия статистически значимы.\n"
     ]
    },
    {
     "data": {
      "text/markdown": [
       "---"
      ],
      "text/plain": [
       "<IPython.core.display.Markdown object>"
      ]
     },
     "metadata": {},
     "output_type": "display_data"
    },
    {
     "data": {
      "text/markdown": [
       "#### 2: \"Менее 1\" - \"5 и более\""
      ],
      "text/plain": [
       "<IPython.core.display.Markdown object>"
      ]
     },
     "metadata": {},
     "output_type": "display_data"
    },
    {
     "data": {
      "text/html": [
       "<div>\n",
       "<style scoped>\n",
       "    .dataframe tbody tr th:only-of-type {\n",
       "        vertical-align: middle;\n",
       "    }\n",
       "\n",
       "    .dataframe tbody tr th {\n",
       "        vertical-align: top;\n",
       "    }\n",
       "\n",
       "    .dataframe thead th {\n",
       "        text-align: right;\n",
       "    }\n",
       "</style>\n",
       "<table border=\"1\" class=\"dataframe\">\n",
       "  <thead>\n",
       "    <tr style=\"text-align: right;\">\n",
       "      <th></th>\n",
       "      <th>Заболел</th>\n",
       "      <th>Не заболел</th>\n",
       "    </tr>\n",
       "  </thead>\n",
       "  <tbody>\n",
       "    <tr>\n",
       "      <th>Менее 1</th>\n",
       "      <td>39</td>\n",
       "      <td>121</td>\n",
       "    </tr>\n",
       "    <tr>\n",
       "      <th>5 и более</th>\n",
       "      <td>265</td>\n",
       "      <td>146</td>\n",
       "    </tr>\n",
       "  </tbody>\n",
       "</table>\n",
       "</div>"
      ],
      "text/plain": [
       "           Заболел  Не заболел\n",
       "Менее 1         39         121\n",
       "5 и более      265         146"
      ]
     },
     "metadata": {},
     "output_type": "display_data"
    },
    {
     "name": "stdout",
     "output_type": "stream",
     "text": [
      "chi^2 = 72.793, v=1, P=0.000\n",
      "Отличия статистически значимы.\n"
     ]
    },
    {
     "data": {
      "text/markdown": [
       "---"
      ],
      "text/plain": [
       "<IPython.core.display.Markdown object>"
      ]
     },
     "metadata": {},
     "output_type": "display_data"
    },
    {
     "data": {
      "text/markdown": [
       "#### 3: \"От 1 до 4\" - \"5 и более\""
      ],
      "text/plain": [
       "<IPython.core.display.Markdown object>"
      ]
     },
     "metadata": {},
     "output_type": "display_data"
    },
    {
     "data": {
      "text/html": [
       "<div>\n",
       "<style scoped>\n",
       "    .dataframe tbody tr th:only-of-type {\n",
       "        vertical-align: middle;\n",
       "    }\n",
       "\n",
       "    .dataframe tbody tr th {\n",
       "        vertical-align: top;\n",
       "    }\n",
       "\n",
       "    .dataframe thead th {\n",
       "        text-align: right;\n",
       "    }\n",
       "</style>\n",
       "<table border=\"1\" class=\"dataframe\">\n",
       "  <thead>\n",
       "    <tr style=\"text-align: right;\">\n",
       "      <th></th>\n",
       "      <th>Заболел</th>\n",
       "      <th>Не заболел</th>\n",
       "    </tr>\n",
       "  </thead>\n",
       "  <tbody>\n",
       "    <tr>\n",
       "      <th>От 1 до 4</th>\n",
       "      <td>264</td>\n",
       "      <td>258</td>\n",
       "    </tr>\n",
       "    <tr>\n",
       "      <th>5 и более</th>\n",
       "      <td>265</td>\n",
       "      <td>146</td>\n",
       "    </tr>\n",
       "  </tbody>\n",
       "</table>\n",
       "</div>"
      ],
      "text/plain": [
       "           Заболел  Не заболел\n",
       "От 1 до 4      264         258\n",
       "5 и более      265         146"
      ]
     },
     "metadata": {},
     "output_type": "display_data"
    },
    {
     "name": "stdout",
     "output_type": "stream",
     "text": [
      "chi^2 = 17.540, v=1, P=0.000\n",
      "Отличия статистически значимы.\n"
     ]
    },
    {
     "data": {
      "text/markdown": [
       "---"
      ],
      "text/plain": [
       "<IPython.core.display.Markdown object>"
      ]
     },
     "metadata": {},
     "output_type": "display_data"
    }
   ],
   "source": [
    "from itertools import combinations\n",
    "\n",
    "for i, (idx1, idx2) in enumerate(combinations(df.index, 2), start=1):\n",
    "    display(Markdown(f\"#### {i}: \\\"{idx1}\\\" - \\\"{idx2}\\\"\"))\n",
    "    \n",
    "    display(df.loc[[idx1, idx2]])\n",
    "\n",
    "    chi2_test(df.loc[[idx1, idx2]], silent=False, bonf=3)\n",
    "    \n",
    "    display(Markdown(\"---\"))"
   ]
  },
  {
   "cell_type": "markdown",
   "metadata": {},
   "source": [
    "Связь заболеваемости с количеством выпитой воды статистически значима. \n",
    "\n",
    "Сравнив группы попарно (используя поправку Бонферрони), можно убедиться, что заболеваемость растет с количеством выпитой воды."
   ]
  },
  {
   "cell_type": "markdown",
   "metadata": {},
   "source": [
    "**5.6.**\n",
    "Как правило, качество исследования выше, а соответствие собираемых данных поставленному вопросу точнее, если данные собираются специально для этого исследования после его планирования. Р. и С. Флетчеры (R. Fletcher, S. Fletcher. Clinical research in general medical journals: а 30-year perspective. N. Engl. J. Med., 301:180—183, 1979) исследовали 612 работ, случайным образом выбранных из журналов Journal of American Medical Association, Lancet и New England Journal of Medicine, чтобы определить, собирали ли их авторы свои данные до или после планирования исследования. Вот что удалось обнаружить:\n",
    "\n",
    "_|1946|1956|1966|1976\n",
    "-|-|-|-|-\n",
    "Число рассмотренных работ|151|149|157|155\n",
    "Процент работ, где данные собирали после планирования исследования|76|71|49|44\n",
    "Процент работ, где данные собирали до планирования исследования|24|29|51|56\n",
    "\n",
    "\n",
    "Оцените статистическую значимость различия долей. Если различия есть, то можно ли сказать, что положение меняется к лучшему?"
   ]
  },
  {
   "cell_type": "code",
   "execution_count": 11,
   "metadata": {},
   "outputs": [
    {
     "data": {
      "text/html": [
       "<div>\n",
       "<style scoped>\n",
       "    .dataframe tbody tr th:only-of-type {\n",
       "        vertical-align: middle;\n",
       "    }\n",
       "\n",
       "    .dataframe tbody tr th {\n",
       "        vertical-align: top;\n",
       "    }\n",
       "\n",
       "    .dataframe thead th {\n",
       "        text-align: right;\n",
       "    }\n",
       "</style>\n",
       "<table border=\"1\" class=\"dataframe\">\n",
       "  <thead>\n",
       "    <tr style=\"text-align: right;\">\n",
       "      <th></th>\n",
       "      <th>1946</th>\n",
       "      <th>1956</th>\n",
       "      <th>1966</th>\n",
       "      <th>1976</th>\n",
       "    </tr>\n",
       "  </thead>\n",
       "  <tbody>\n",
       "    <tr>\n",
       "      <th>Процент работ, где данные собирали после планирования исследования</th>\n",
       "      <td>115</td>\n",
       "      <td>106</td>\n",
       "      <td>77</td>\n",
       "      <td>68</td>\n",
       "    </tr>\n",
       "    <tr>\n",
       "      <th>Процент работ, где данные собирали до планирования исследования</th>\n",
       "      <td>36</td>\n",
       "      <td>43</td>\n",
       "      <td>80</td>\n",
       "      <td>87</td>\n",
       "    </tr>\n",
       "  </tbody>\n",
       "</table>\n",
       "</div>"
      ],
      "text/plain": [
       "                                                    1946  1956  1966  1976\n",
       "Процент работ, где данные собирали после планир...   115   106    77    68\n",
       "Процент работ, где данные собирали до планирова...    36    43    80    87"
      ]
     },
     "metadata": {},
     "output_type": "display_data"
    },
    {
     "data": {
      "image/png": "[encoded data removed]",
      "text/plain": [
       "<Figure size 432x288 with 2 Axes>"
      ]
     },
     "metadata": {
      "needs_background": "light"
     },
     "output_type": "display_data"
    },
    {
     "data": {
      "image/png": "[encoded data removed]",
      "text/plain": [
       "<Figure size 720x360 with 1 Axes>"
      ]
     },
     "metadata": {
      "needs_background": "light"
     },
     "output_type": "display_data"
    },
    {
     "name": "stdout",
     "output_type": "stream",
     "text": [
      "chi^2 = 48.698, v=3, P=0.000\n",
      "Отличия статистически значимы.\n"
     ]
    }
   ],
   "source": [
    "df = pd.DataFrame(data=[[151, 149, 157, 155], [76, 71, 49, 44], [24, 29, 51, 56]], \n",
    "                  index=[\"Число рассмотренных работ\", \n",
    "                         \"Процент работ, где данные собирали после планирования исследования\", \n",
    "                         \"Процент работ, где данные собирали до планирования исследования\"], \n",
    "                  columns=[1946, 1956, 1966, 1976])\n",
    "\n",
    "df.loc[\"Процент работ, где данные собирали после планирования исследования\"] = \\\n",
    "       (df.loc[\"Число рассмотренных работ\"] * df.loc[\"Процент работ, где данные собирали после планирования исследования\"] / 100).round()\n",
    "df.loc[\"Процент работ, где данные собирали до планирования исследования\"] = \\\n",
    "       (df.loc[\"Число рассмотренных работ\"] * df.loc[\"Процент работ, где данные собирали до планирования исследования\"] / 100).round()\n",
    "df.drop(\"Число рассмотренных работ\", inplace=True)\n",
    "\n",
    "display(df)\n",
    "sns.heatmap(df, annot=True, cmap=\"YlOrBr\", fmt='g')\n",
    "barplot_ct(df)\n",
    "\n",
    "chi2_test(df, silent=False)"
   ]
  },
  {
   "cell_type": "markdown",
   "metadata": {},
   "source": [
    "Из графиков можно предположить о схожести групп 1946 и 1956, а так же групп 1966 и 1976. Если это так, то можно их сруппировать и сравнить полученные группы между собой. \n",
    "Всего надо сделать 3 сравнени, т.о. поправка Бонферрони = 3."
   ]
  },
  {
   "cell_type": "code",
   "execution_count": 12,
   "metadata": {},
   "outputs": [
    {
     "name": "stdout",
     "output_type": "stream",
     "text": [
      "chi^2 = 0.732, v=1, P=0.392\n",
      "Отличия статистически не значимы.\n"
     ]
    }
   ],
   "source": [
    "chi2_test(df[[1946, 1956]], bonf=3, silent=False)"
   ]
  },
  {
   "cell_type": "code",
   "execution_count": 13,
   "metadata": {},
   "outputs": [
    {
     "name": "stdout",
     "output_type": "stream",
     "text": [
      "chi^2 = 0.644, v=1, P=0.422\n",
      "Отличия статистически не значимы.\n"
     ]
    }
   ],
   "source": [
    "chi2_test(df[[1966, 1976]], bonf=3, silent=False)"
   ]
  },
  {
   "cell_type": "code",
   "execution_count": 14,
   "metadata": {},
   "outputs": [
    {
     "data": {
      "text/html": [
       "<div>\n",
       "<style scoped>\n",
       "    .dataframe tbody tr th:only-of-type {\n",
       "        vertical-align: middle;\n",
       "    }\n",
       "\n",
       "    .dataframe tbody tr th {\n",
       "        vertical-align: top;\n",
       "    }\n",
       "\n",
       "    .dataframe thead th {\n",
       "        text-align: right;\n",
       "    }\n",
       "</style>\n",
       "<table border=\"1\" class=\"dataframe\">\n",
       "  <thead>\n",
       "    <tr style=\"text-align: right;\">\n",
       "      <th></th>\n",
       "      <th>1946 + 1956</th>\n",
       "      <th>1966 + 1976</th>\n",
       "    </tr>\n",
       "  </thead>\n",
       "  <tbody>\n",
       "    <tr>\n",
       "      <th>Процент работ, где данные собирали после планирования исследования</th>\n",
       "      <td>221</td>\n",
       "      <td>145</td>\n",
       "    </tr>\n",
       "    <tr>\n",
       "      <th>Процент работ, где данные собирали до планирования исследования</th>\n",
       "      <td>79</td>\n",
       "      <td>167</td>\n",
       "    </tr>\n",
       "  </tbody>\n",
       "</table>\n",
       "</div>"
      ],
      "text/plain": [
       "                                                    1946 + 1956  1966 + 1976\n",
       "Процент работ, где данные собирали после планир...          221          145\n",
       "Процент работ, где данные собирали до планирова...           79          167"
      ]
     },
     "metadata": {},
     "output_type": "display_data"
    },
    {
     "data": {
      "image/png": "[encoded data removed]",
      "text/plain": [
       "<Figure size 720x360 with 1 Axes>"
      ]
     },
     "metadata": {
      "needs_background": "light"
     },
     "output_type": "display_data"
    },
    {
     "name": "stdout",
     "output_type": "stream",
     "text": [
      "chi^2 = 45.920, v=1, P=0.000\n",
      "Отличия статистически значимы.\n"
     ]
    }
   ],
   "source": [
    "new_df = df.pipe(combine_cols, [1946, 1956]).pipe(combine_cols, [1966, 1976])\n",
    "\n",
    "display(new_df)\n",
    "\n",
    "barplot_ct(new_df)\n",
    "\n",
    "chi2_test(new_df, bonf=3, silent=False)"
   ]
  },
  {
   "cell_type": "markdown",
   "metadata": {},
   "source": [
    "Разбиение таблицы показывает, что не отличаются 1946 от 1956 г. и 1966 от 1976 г.\n",
    "\n",
    "Объединенная группа 1946 и 1956 гг. отличается в лучшую сторону от объединенной группы 1966 и 1976 гг. Таким образом, между 1956 и 1966 г. ситуация изменилась к худшему."
   ]
  },
  {
   "cell_type": "markdown",
   "metadata": {},
   "source": [
    "**5.7.**\n",
    "\n",
    "Одна из причин инсульта — окклюзия сонной артерии. Чтобы выяснить, какое лечение — медикаментозное или хирургическое — дает в этом случае лучшие результаты, У. Филдс и соавт. (W. Fields et al. Joint study of extracranial arterial occlusion, V: Progress report of prognosis following surgery or nonsurginal treatment for transient ishemic attacks and cervical carotid artery lesions. JAMA, 211:1993—2003, 1970) сравнили долгосрочный прогноз у леченных двумя методами.\n",
    "\n",
    "\n",
    "Лечение|Повторный инсульт или смерть|Долгосрочное выживание\n",
    "-|-|-\n",
    "Хирургическое|43|36\n",
    "Медикаментозное|53|19\n",
    "\n",
    "Можно ли говорить о превосходстве одного из видов лечения?"
   ]
  },
  {
   "cell_type": "code",
   "execution_count": 15,
   "metadata": {},
   "outputs": [
    {
     "data": {
      "text/html": [
       "<div>\n",
       "<style scoped>\n",
       "    .dataframe tbody tr th:only-of-type {\n",
       "        vertical-align: middle;\n",
       "    }\n",
       "\n",
       "    .dataframe tbody tr th {\n",
       "        vertical-align: top;\n",
       "    }\n",
       "\n",
       "    .dataframe thead th {\n",
       "        text-align: right;\n",
       "    }\n",
       "</style>\n",
       "<table border=\"1\" class=\"dataframe\">\n",
       "  <thead>\n",
       "    <tr style=\"text-align: right;\">\n",
       "      <th></th>\n",
       "      <th>Повторный инсульт или смерть</th>\n",
       "      <th>Долгосрочное выживание</th>\n",
       "    </tr>\n",
       "  </thead>\n",
       "  <tbody>\n",
       "    <tr>\n",
       "      <th>Хирургическое</th>\n",
       "      <td>43</td>\n",
       "      <td>36</td>\n",
       "    </tr>\n",
       "    <tr>\n",
       "      <th>Медикаментозное</th>\n",
       "      <td>53</td>\n",
       "      <td>19</td>\n",
       "    </tr>\n",
       "  </tbody>\n",
       "</table>\n",
       "</div>"
      ],
      "text/plain": [
       "                 Повторный инсульт или смерть  Долгосрочное выживание\n",
       "Хирургическое                              43                      36\n",
       "Медикаментозное                            53                      19"
      ]
     },
     "metadata": {},
     "output_type": "display_data"
    },
    {
     "data": {
      "image/png": "[encoded data removed]",
      "text/plain": [
       "<Figure size 432x288 with 2 Axes>"
      ]
     },
     "metadata": {
      "needs_background": "light"
     },
     "output_type": "display_data"
    },
    {
     "data": {
      "image/png": "[encoded data removed]",
      "text/plain": [
       "<Figure size 720x360 with 1 Axes>"
      ]
     },
     "metadata": {
      "needs_background": "light"
     },
     "output_type": "display_data"
    },
    {
     "name": "stdout",
     "output_type": "stream",
     "text": [
      "chi^2 = 5.185, v=1, P=0.023\n",
      "Пограничный случай, есть основания задуматься над наличием различий.\n"
     ]
    }
   ],
   "source": [
    "df = pd.DataFrame(data=[[43, 36], [53, 19]],\n",
    "                  columns=[\"Повторный инсульт или смерть\", \"Долгосрочное выживание\"],\n",
    "                  index=[\"Хирургическое\", \"Медикаментозное\"])\n",
    "\n",
    "display(df)\n",
    "sns.heatmap(df, annot=True, cmap=\"YlOrBr\", fmt='g')\n",
    "barplot_ct(df)\n",
    "\n",
    "chi2_test(df, silent=False)"
   ]
  },
  {
   "cell_type": "markdown",
   "metadata": {},
   "source": [
    "Различия (в пользу хирургического лечения) статистически значимы."
   ]
  },
  {
   "cell_type": "markdown",
   "metadata": {},
   "source": [
    "**5.8.**\n",
    "В диагностике ишемической болезни сердца используют нагрузочную пробу, с помощью физической нагрузки вызывают ишемию миокарда, которую выявляют на ЭКГ. Существует другой метод, ишемию вызывают внутривенным введением дипиридамола, а выявляют с помощью эхокардиографии. Ф. Латтанци и соавт. (F. Lattanzi et al. Inhibition of dipyndamole-induced ishemia by\n",
    "antianginal therapy in humans: correlation with exercise electrocardiography. Circulation, 83:1256—1262, 1991) сравнили результаты двух методов у больных, получавших и не получавших антиангинальную терапию. Результаты приведены в таблице.\n",
    "\n",
    "Без антиангинальной терапии:\n",
    "\n",
    "_|Дипиридамол + эхокардиография \"+\"|\"-\"\n",
    "-|-|-\n",
    "**Нагрузка + ЭКГ \"+\"**|38|2\n",
    "\"-\"|14|3\n",
    "\n",
    "На фоне антиангинальной терапии:\n",
    "_|Дипиридамол + эхокардиография \"+\"|\"-\"\n",
    "-|-|-\n",
    "**Нагрузка + ЭКГ \"+\"**|21|6\n",
    "\"-\"|16|14\n",
    "\n",
    "Оцените различия между результатами двух методов."
   ]
  },
  {
   "cell_type": "code",
   "execution_count": 16,
   "metadata": {},
   "outputs": [
    {
     "data": {
      "text/plain": [
       "MultiIndex([(    'Без антиангинальной терапии', ...),\n",
       "            (    'Без антиангинальной терапии', ...),\n",
       "            ('На фоне антиангинальной терапии', ...),\n",
       "            ('На фоне антиангинальной терапии', ...)],\n",
       "           )"
      ]
     },
     "execution_count": 16,
     "metadata": {},
     "output_type": "execute_result"
    }
   ],
   "source": [
    "pd.MultiIndex.from_product([[\"Без антиангинальной терапии\", \"На фоне антиангинальной терапии\"], [\"Дипиридамол + эхокардиография\"], [\"+\", \"-\"]])"
   ]
  },
  {
   "cell_type": "code",
   "execution_count": 17,
   "metadata": {},
   "outputs": [],
   "source": [
    "df = pd.DataFrame(data=[[38, 2, 21, 6], [14, 3, 16, 14]], \n",
    "                  columns=pd.MultiIndex.from_product([[\"Без антиангинальной терапии\", \"На фоне антиангинальной терапии\"], [\"impact \\\"+\\\"\", \"impact \\\"-\\\"\"]]),\n",
    "                  index=[\"Нагрузка + ЭКГ \\\"+\\\"\", \"Нагрузка + ЭКГ \\\"-\\\"\"])"
   ]
  },
  {
   "cell_type": "code",
   "execution_count": 18,
   "metadata": {},
   "outputs": [
    {
     "data": {
      "text/html": [
       "<div>\n",
       "<style scoped>\n",
       "    .dataframe tbody tr th:only-of-type {\n",
       "        vertical-align: middle;\n",
       "    }\n",
       "\n",
       "    .dataframe tbody tr th {\n",
       "        vertical-align: top;\n",
       "    }\n",
       "\n",
       "    .dataframe thead tr th {\n",
       "        text-align: left;\n",
       "    }\n",
       "</style>\n",
       "<table border=\"1\" class=\"dataframe\">\n",
       "  <thead>\n",
       "    <tr>\n",
       "      <th></th>\n",
       "      <th colspan=\"2\" halign=\"left\">Без антиангинальной терапии</th>\n",
       "      <th colspan=\"2\" halign=\"left\">На фоне антиангинальной терапии</th>\n",
       "    </tr>\n",
       "    <tr>\n",
       "      <th></th>\n",
       "      <th>impact \"+\"</th>\n",
       "      <th>impact \"-\"</th>\n",
       "      <th>impact \"+\"</th>\n",
       "      <th>impact \"-\"</th>\n",
       "    </tr>\n",
       "  </thead>\n",
       "  <tbody>\n",
       "    <tr>\n",
       "      <th>Нагрузка + ЭКГ \"+\"</th>\n",
       "      <td>38</td>\n",
       "      <td>2</td>\n",
       "      <td>21</td>\n",
       "      <td>6</td>\n",
       "    </tr>\n",
       "    <tr>\n",
       "      <th>Нагрузка + ЭКГ \"-\"</th>\n",
       "      <td>14</td>\n",
       "      <td>3</td>\n",
       "      <td>16</td>\n",
       "      <td>14</td>\n",
       "    </tr>\n",
       "  </tbody>\n",
       "</table>\n",
       "</div>"
      ],
      "text/plain": [
       "                   Без антиангинальной терапии             \\\n",
       "                                    impact \"+\" impact \"-\"   \n",
       "Нагрузка + ЭКГ \"+\"                          38          2   \n",
       "Нагрузка + ЭКГ \"-\"                          14          3   \n",
       "\n",
       "                   На фоне антиангинальной терапии             \n",
       "                                        impact \"+\" impact \"-\"  \n",
       "Нагрузка + ЭКГ \"+\"                              21          6  \n",
       "Нагрузка + ЭКГ \"-\"                              16         14  "
      ]
     },
     "execution_count": 18,
     "metadata": {},
     "output_type": "execute_result"
    }
   ],
   "source": [
    "df"
   ]
  },
  {
   "cell_type": "code",
   "execution_count": 19,
   "metadata": {},
   "outputs": [
    {
     "data": {
      "text/markdown": [
       "#### 1. Без антиангинальной терапии"
      ],
      "text/plain": [
       "<IPython.core.display.Markdown object>"
      ]
     },
     "metadata": {},
     "output_type": "display_data"
    },
    {
     "data": {
      "image/png": "[encoded data removed]",
      "text/plain": [
       "<Figure size 432x288 with 2 Axes>"
      ]
     },
     "metadata": {
      "needs_background": "light"
     },
     "output_type": "display_data"
    },
    {
     "data": {
      "image/png": "[encoded data removed]",
      "text/plain": [
       "<Figure size 720x360 with 1 Axes>"
      ]
     },
     "metadata": {
      "needs_background": "light"
     },
     "output_type": "display_data"
    },
    {
     "name": "stdout",
     "output_type": "stream",
     "text": [
      "Не выполнено условие применимости для матрицы 2х2, в ожидаемой матрице существует элемент < 5\n",
      "Критерий CHI2 не применим для этих данных.\n",
      "Применение точного критерия Фишера.\n",
      "P=0.151\n",
      "Отличия статистически не значимы.\n"
     ]
    },
    {
     "data": {
      "text/markdown": [
       "---"
      ],
      "text/plain": [
       "<IPython.core.display.Markdown object>"
      ]
     },
     "metadata": {},
     "output_type": "display_data"
    },
    {
     "data": {
      "text/markdown": [
       "#### 2. На фоне антиангинальной терапии"
      ],
      "text/plain": [
       "<IPython.core.display.Markdown object>"
      ]
     },
     "metadata": {},
     "output_type": "display_data"
    },
    {
     "data": {
      "image/png": "[encoded data removed]",
      "text/plain": [
       "<Figure size 432x288 with 2 Axes>"
      ]
     },
     "metadata": {
      "needs_background": "light"
     },
     "output_type": "display_data"
    },
    {
     "data": {
      "image/png": "[encoded data removed]",
      "text/plain": [
       "<Figure size 720x360 with 1 Axes>"
      ]
     },
     "metadata": {
      "needs_background": "light"
     },
     "output_type": "display_data"
    },
    {
     "name": "stdout",
     "output_type": "stream",
     "text": [
      "chi^2 = 2.732, v=1, P=0.098\n",
      "Отличия статистически не значимы.\n"
     ]
    },
    {
     "data": {
      "text/markdown": [
       "---"
      ],
      "text/plain": [
       "<IPython.core.display.Markdown object>"
      ]
     },
     "metadata": {},
     "output_type": "display_data"
    }
   ],
   "source": [
    "for i, (factor, new_df) in enumerate(df.groupby(level=0, axis=1), start=1):\n",
    "    display(Markdown(f\"#### {i}. {factor}\"))\n",
    "    sns.heatmap(new_df.droplevel(0,1), annot=True, cmap=\"YlOrBr\", fmt='g')\n",
    "    plt.show()\n",
    "    barplot_ct(new_df.droplevel(0,1))\n",
    "\n",
    "    chi2_test(new_df.droplevel(0,1), silent=False)\n",
    "\n",
    "    display(Markdown(\"---\"))"
   ]
  },
  {
   "cell_type": "markdown",
   "metadata": {},
   "source": [
    "Для единообразия, можно использовать точный критерий Фишера и для случая \"На фоне антиангинальной терапии\". Что даст весьма схожий результат."
   ]
  },
  {
   "cell_type": "code",
   "execution_count": 20,
   "metadata": {},
   "outputs": [
    {
     "name": "stdout",
     "output_type": "stream",
     "text": [
      "P=0.094\n"
     ]
    }
   ],
   "source": [
    "_, p = fisher_exact(df[\"На фоне антиангинальной терапии\"], alternative='two-sided')\n",
    "print(f\"P={p:.3f}\")"
   ]
  },
  {
   "cell_type": "markdown",
   "metadata": {},
   "source": [
    "Вывод: В обоих случаях различия статистически не значимы."
   ]
  },
  {
   "cell_type": "markdown",
   "metadata": {},
   "source": [
    "**5.9.**\n",
    "Д. Сакетт и М. Гент (D. Sackett, M. Gent. Controversy in counting and attributing events in clinical trials. N. Engl. J. Med., 301:1410—1412, 1979) сделали важное замечание относительно методики сбора данных в исследовании результатов медикаментозного и хирургического лечения окклюзии сонной артерии (задача 5.7). Так как изучался «долгосрочный прогноз», в исследование включали только тех больных, которые не умерли и у которых не было повторного инсульта во время госпитализации. В результате из рассмотрения были исключены 15 оперированных (5 из них умерли, а у 10 инсульт произошел вскоре после операции) и только 1 больной, лечившийся медикаментозно. Если учесть и этих 16 больных, то данные примут такой вид:\n",
    "\n",
    "Лечение|Повторный инсульт или смерть|Долгосрочное выживание\n",
    "-|-|-\n",
    "Хирургическое|58|36\n",
    "Медикаментозное|54|19\n",
    "\n",
    "Что теперь можно сказать о предпочтительности одного из видов лечения? Какое сравнение более верно — с учетом этих 16 больных или без их учета (как в задаче 5.7)? Почему?"
   ]
  },
  {
   "cell_type": "code",
   "execution_count": 21,
   "metadata": {},
   "outputs": [
    {
     "data": {
      "text/html": [
       "<div>\n",
       "<style scoped>\n",
       "    .dataframe tbody tr th:only-of-type {\n",
       "        vertical-align: middle;\n",
       "    }\n",
       "\n",
       "    .dataframe tbody tr th {\n",
       "        vertical-align: top;\n",
       "    }\n",
       "\n",
       "    .dataframe thead th {\n",
       "        text-align: right;\n",
       "    }\n",
       "</style>\n",
       "<table border=\"1\" class=\"dataframe\">\n",
       "  <thead>\n",
       "    <tr style=\"text-align: right;\">\n",
       "      <th></th>\n",
       "      <th>Повторный инсульт или смерть</th>\n",
       "      <th>Долгосрочное выживание</th>\n",
       "    </tr>\n",
       "  </thead>\n",
       "  <tbody>\n",
       "    <tr>\n",
       "      <th>Хирургическое</th>\n",
       "      <td>58</td>\n",
       "      <td>36</td>\n",
       "    </tr>\n",
       "    <tr>\n",
       "      <th>Медикаментозное</th>\n",
       "      <td>54</td>\n",
       "      <td>19</td>\n",
       "    </tr>\n",
       "  </tbody>\n",
       "</table>\n",
       "</div>"
      ],
      "text/plain": [
       "                 Повторный инсульт или смерть  Долгосрочное выживание\n",
       "Хирургическое                              58                      36\n",
       "Медикаментозное                            54                      19"
      ]
     },
     "metadata": {},
     "output_type": "display_data"
    },
    {
     "data": {
      "image/png": "[encoded data removed]",
      "text/plain": [
       "<Figure size 432x288 with 2 Axes>"
      ]
     },
     "metadata": {
      "needs_background": "light"
     },
     "output_type": "display_data"
    },
    {
     "data": {
      "image/png": "[encoded data removed]",
      "text/plain": [
       "<Figure size 720x360 with 1 Axes>"
      ]
     },
     "metadata": {
      "needs_background": "light"
     },
     "output_type": "display_data"
    },
    {
     "name": "stdout",
     "output_type": "stream",
     "text": [
      "chi^2 = 2.273, v=1, P=0.132\n",
      "Отличия статистически не значимы.\n"
     ]
    }
   ],
   "source": [
    "df = pd.DataFrame(data=[[58, 36], [54, 19]],\n",
    "                  columns=[\"Повторный инсульт или смерть\", \"Долгосрочное выживание\"],\n",
    "                  index=[\"Хирургическое\", \"Медикаментозное\"])\n",
    "\n",
    "display(df)\n",
    "sns.heatmap(df, annot=True, cmap=\"YlOrBr\", fmt='g')\n",
    "barplot_ct(df)\n",
    "\n",
    "chi2_test(df, silent=False)"
   ]
  },
  {
   "cell_type": "markdown",
   "metadata": {},
   "source": [
    "Теперь статистически значимых различий нет."
   ]
  },
  {
   "cell_type": "markdown",
   "metadata": {},
   "source": [
    "**5.10.**\n",
    "Распространенность болезни X равна 10%. Болезнью Y страдает 1000 человек, болезнью Z — также 1000 человек. Болезнь X с равной вероятностью поражает страдающих болезнями Y и Z. Вероятность госпитализации при этих болезнях разная: для болезни X она составляет 40%, Y — 50%, Z — 20%. Посмотрим, сколько больных с разными сочетаниями болезней окажется в больнице.\n",
    "\n",
    "Из 1000 человек, страдающих болезнью Y, болезнь X имеют 10%, то есть 100 человек. Из них 50% (50 человек) будут госпитализированы в связи с болезнью Y, из оставшихся 50 человек в связи с болезнью X госпитализируют 40%, то есть 20 человек. Таким образом, в больнице окажется 70 больных с сочетанием болезней Y и X.\n",
    "\n",
    "Из 900 человек, страдающих болезнью Y, но не X, будут госпитализированы 50%, то есть 450 человек.\n",
    "\n",
    "Такой же расчет для болезни Z показывает, что в больницу попадет 52 человека с сочетанием болезней Z и X, а с болезнью Z, но не Х, — 180 человек.\n",
    "\n",
    "Исследователь, работающий в больнице в которую попали все госпитализированные, обнаружил следующую связь.\n",
    "\n",
    "_|С болезнью X|Без болезни X\n",
    "-|-|-\n",
    "Болезнь Y|70|450\n",
    "Болезнь Z|52|180\n",
    "\n",
    "Оцените статистическую значимость различий частоты болезни X среди страдающих болезнями Y и Z. Можно ли по этим данным судить о связи болезней Y и Z с болезнью X? (Приведенный пример заимствован из работы: D. Mainland. The risk of fallacious conclusions from autopsy data on the incidence of diseases with applications to heart disease. Am. Heart J., 45:644—654, 1953)."
   ]
  },
  {
   "cell_type": "code",
   "execution_count": 22,
   "metadata": {},
   "outputs": [
    {
     "data": {
      "text/html": [
       "<div>\n",
       "<style scoped>\n",
       "    .dataframe tbody tr th:only-of-type {\n",
       "        vertical-align: middle;\n",
       "    }\n",
       "\n",
       "    .dataframe tbody tr th {\n",
       "        vertical-align: top;\n",
       "    }\n",
       "\n",
       "    .dataframe thead th {\n",
       "        text-align: right;\n",
       "    }\n",
       "</style>\n",
       "<table border=\"1\" class=\"dataframe\">\n",
       "  <thead>\n",
       "    <tr style=\"text-align: right;\">\n",
       "      <th></th>\n",
       "      <th>С болезнью X</th>\n",
       "      <th>Без болезни X</th>\n",
       "    </tr>\n",
       "  </thead>\n",
       "  <tbody>\n",
       "    <tr>\n",
       "      <th>Болезнь Y</th>\n",
       "      <td>70</td>\n",
       "      <td>450</td>\n",
       "    </tr>\n",
       "    <tr>\n",
       "      <th>Болезнь Z</th>\n",
       "      <td>52</td>\n",
       "      <td>180</td>\n",
       "    </tr>\n",
       "  </tbody>\n",
       "</table>\n",
       "</div>"
      ],
      "text/plain": [
       "           С болезнью X  Без болезни X\n",
       "Болезнь Y            70            450\n",
       "Болезнь Z            52            180"
      ]
     },
     "metadata": {},
     "output_type": "display_data"
    },
    {
     "data": {
      "image/png": "[encoded data removed]",
      "text/plain": [
       "<Figure size 432x288 with 2 Axes>"
      ]
     },
     "metadata": {
      "needs_background": "light"
     },
     "output_type": "display_data"
    },
    {
     "data": {
      "image/png": "[encoded data removed]",
      "text/plain": [
       "<Figure size 720x360 with 1 Axes>"
      ]
     },
     "metadata": {
      "needs_background": "light"
     },
     "output_type": "display_data"
    },
    {
     "name": "stdout",
     "output_type": "stream",
     "text": [
      "chi^2 = 8.812, v=1, P=0.003\n",
      "Отличия статистически значимы.\n"
     ]
    }
   ],
   "source": [
    "df = pd.DataFrame(data=[[70, 450], [52, 180]],\n",
    "                  columns=[\"С болезнью X\", \"Без болезни X\"],\n",
    "                  index=[\"Болезнь Y\", \"Болезнь Z\"])\n",
    "\n",
    "display(df)\n",
    "sns.heatmap(df, annot=True, cmap=\"YlOrBr\", fmt='g')\n",
    "barplot_ct(df)\n",
    "\n",
    "chi2_test(df, silent=False)"
   ]
  },
  {
   "cell_type": "markdown",
   "metadata": {},
   "source": [
    "Различия статистически значимы: в больнице среди страдающих болезнью Z доля больных Х выше, чем среди страдающих болезнью Y. \n",
    "\n",
    "Эти различия обусловлены исключительно разной вероятностью госпитализации при этих болезнях."
   ]
  }
 ],
 "metadata": {
  "kernelspec": {
   "display_name": "Python 3.9.7 ('kaggle')",
   "language": "python",
   "name": "python3"
  },
  "language_info": {
   "codemirror_mode": {
    "name": "ipython",
    "version": 3
   },
   "file_extension": ".py",
   "mimetype": "text/x-python",
   "name": "python",
   "nbconvert_exporter": "python",
   "pygments_lexer": "ipython3",
   "version": "3.9.7"
  },
  "orig_nbformat": 4,
  "vscode": {
   "interpreter": {
    "hash": "c87114ee6b6cf384294f90c5f2b9fb4cb1520b5534c8c2c109b7c3f59f5d4f57"
   }
  }
 },
 "nbformat": 4,
 "nbformat_minor": 2
}
