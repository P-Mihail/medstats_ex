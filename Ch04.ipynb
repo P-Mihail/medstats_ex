{
 "cells": [
  {
   "cell_type": "code",
   "execution_count": 1,
   "metadata": {},
   "outputs": [],
   "source": [
    "from IPython.display import Markdown, display\n",
    "\n",
    "import os\n",
    "from itertools import product\n",
    "\n",
    "import numpy as np\n",
    "import pandas as pd\n",
    "\n",
    "import matplotlib.pyplot as plt\n",
    "plt.style.use('ggplot')"
   ]
  },
  {
   "cell_type": "code",
   "execution_count": 2,
   "metadata": {},
   "outputs": [],
   "source": [
    "if os.path.exists('src'):\n",
    "    %load_ext autoreload\n",
    "    %autoreload 2\n",
    "\n",
    "    from src.stattests import f_test, t_test, t_test_benf, t_test_nk, dunnetts_test\n",
    "else:\n",
    "    !git clone https://github.com/P-Mihail/medstats_ex.git\n",
    "    from medstats_ex.src.stattests import f_test, t_test, t_test_benf, t_test_nk, dunnetts_test  # type: ignore"
   ]
  },
  {
   "cell_type": "markdown",
   "metadata": {},
   "source": [
    "### Глава 4\n",
    "#### Сравнение двух групп: критерий Стьюдента\n",
    "\n",
    "Критерий Стьюдента, когда выборки содержат неодинаковое число членов:\n",
    "\n",
    "$t=\\cfrac{\\overline X_1 - \\overline X_2}{\\sqrt {S^2_{\\overline X_1} + S^2_{\\overline X_2}}}=\\cfrac{\\overline X_1 - \\overline X_2}{\\sqrt {\\cfrac{S^2_1}{n_1} + \\cfrac{S^2_2}{n_2}}}=\\cfrac{\\overline X_1 - \\overline X_2}{\\sqrt {\\cfrac{S^2}{n_1} + \\cfrac{S^2}{n_2}}}$\n",
    "\n",
    "\n",
    "$S^2=\\cfrac{(n_1-1)s^2_1+(n_2-1)s^2_2}{n_1+n_2-2}$\n",
    "\n",
    "$S_{\\overline X_1}$ и $S_{\\overline X_2}$ - стандартные ошибки средних для двух выборок.\n",
    "\n",
    "$S_1$ и $S_2$ - стандартные отклонения выборок.\n",
    "\n",
    "$S^2$ - объединенная оценка дисперсии для выборок объема $n_1$ и $n_2$\n",
    "\n",
    "\n",
    "$\\nu=n_1+n_2-2$ - число степеней свободы.\n",
    "\n",
    "#### Критерий Стьюдента для множественных сравнений\n",
    "\n",
    "! В первую очередь следует с помощью дисперсионного анализа проверить нулевую гипотезу о равенстве всех средних, а уже затем если нулевая гипотеза отвергнута выделить среди них отличные от остальных, используя для этого методы множественного сравнения.\n",
    "\n",
    "##### Поправки Бонферрони\n",
    "\n",
    "*хорошо работают если число сравнений не велико (до 8) иначе становится слишком строгим и даже весьма большие различия приходится признавать статистически незначимыми*\n",
    "\n",
    "Если мы хотим обеспечить вероятность ошибки $\\alpha\\prime$, то в каждом из сравнений мы должны принять уровень значимости $\\frac{\\alpha\\prime}{k}$, где $k$ - количество сравнений. При сравнении нескольких групп с одной контрольной $k=m-1$, где $m$ - количество групп.\n",
    "\n",
    "Способ смягчить строгость поправки Бонферрони состоит в том, чтобы увеличить число степеней свободы, воспользовавшись внутригрупповой оценкой дисперсии вместо объединенной оценки дисперсии.\n",
    "\n",
    "$t=\\cfrac{\\overline X_1 - \\overline X_2}{\\sqrt {\\cfrac{S_w^2}{n_1} + \\cfrac{S_w^2}{n_2}}}$, тогда $\\nu=\\displaystyle\\sum_{i=1}^{m}{n}-m$ - число степеней свободы.\n",
    "\n",
    "##### Критерий Ньюмена-Кейлса\n",
    "\n",
    "*для большого числа сравнений, когда поправки Бонферрони делает критерий Стьюдента излишне жестким.*\n",
    "\n",
    "Сначала нужно с помощью дисперсионного анализа проверить нулевую гипотезу о равенстве всех средних. Если она отвергается, все средние упорядочивают по возрастанию и сравнивают попарно, каждый раз вычисляя значение критерия Ньюмена–Кейлса:\n",
    "\n",
    "$q=\\cfrac{\\overline X_A - \\overline X_B}{\\sqrt {\\cfrac{S_w^2}{2}*(\\cfrac{1}{n_A} + \\cfrac{1}{n_B})}}$, где $\\overline X_A$ и $\\overline X_B$ — сравниваемые средние, $S_w^2$ — внутригрупповая дисперсияя, а $n_A$ и $n_B$ численность групп.\n",
    "\n",
    "$q$ сравнивается с критическим значением зависящем от $α\\prime$ (вероятность ошибочно обнаружить различия хотя бы в одной из всех сравниваемых пар, то есть истинный уровень значимости), числа степеней свободы $\\nu=\\displaystyle\\sum_{i=1}^{m}{n}-m$ и величины $l = j – i + 1$ - интервал сравнения (где $j$ и $i$ это места сравниваемых средних в упорядоченном ряду). \n",
    "\n",
    "##### Критерий Тьюки\n",
    "\n",
    "Критерии Тьюки совпадает с критерием Ньюмена-Кейлса во всем кроме способа определения критического значения.\n",
    "\n",
    "В критерии Тьюки при всех сравнениях вместо l берут число групп m, таким образом, критическое значение q все время одно и то же. Критерий Ньюмена-Кейлса был разработан как усовершенствование критерия Тьюки.\n",
    "\n",
    "### Множественные сравнения с контрольной группой\n",
    "\n",
    "задача заключается в том, чтобы сравнить несколько групп с единственной — контрольной.\n",
    "\n",
    "##### Поправка Бонферрони\n",
    "\n",
    "Ход вычислений такой же что и при применении поправки Бонферрони в общем случае.  Число сравнений в данном случае $k=m-1$ соответственно уровень значимости в каждом из сравнений $\\alpha=\\alpha\\prime/k$ \n",
    "\n",
    "##### Критерии Даннета\n",
    "\n",
    "Критерии Даннета — это вариант критерия Ньюмена–Кейлса для сравнения нескольких групп с одной контрольной.\n",
    "\n",
    "$q\\prime=\\cfrac{\\overline X_{контр} - \\overline X_A}{\\sqrt {S_w^2*(\\cfrac{1}{n_{контр}} + \\cfrac{1}{n_A})}}$\n",
    "\n",
    "Число сравнении равно числу групп не считая контрольной, и существенно меньше числа сравнений в исходном критерии Ньюмена–Кейлса. Критические значения берутся из соответствующей таблицы.  Параметр l постоянен и равен числу групп включая контрольную. Число степеней свободы вычисляют как в критерии Ньюмена–Кейлса: $\\nu=\\displaystyle\\sum_{i=1}^{m}{n}-m$"
   ]
  },
  {
   "cell_type": "markdown",
   "metadata": {},
   "source": [
    "**4.1.**\n",
    "\n",
    "Конахан и соавт. определили среднее артериальное давление и общее периферическое сосудистое сопротивление при операциях на открытом сердце с галотановой (9 больных) и морфиновой (16 больных) анестезией. Результаты приведены в табл.4.2. Можно ли утверждать, что в группах галотановой и морфиновой анестезии эти гемодинамические показатели различаются статистически значимо?\n",
    "\n",
    "\n",
    "Показатель|Галотан среднее|Галотан ст.откл.|Морфин среднее|Морфин ст.откл.\n",
    "-|-|-|-|-\n",
    "Среднее артериальное давление при наилучшем сердечном индексе, мм рт. ст.|76.8|13.8|91.4|19.6\n",
    "Общее периферическое сосудистое сопротивление при наилучшем сердечном индексе, дин с см-5|2210|1200|2830|1130 "
   ]
  },
  {
   "cell_type": "code",
   "execution_count": 3,
   "metadata": {},
   "outputs": [
    {
     "data": {
      "text/html": [
       "<div>\n",
       "<style scoped>\n",
       "    .dataframe tbody tr th:only-of-type {\n",
       "        vertical-align: middle;\n",
       "    }\n",
       "\n",
       "    .dataframe tbody tr th {\n",
       "        vertical-align: top;\n",
       "    }\n",
       "\n",
       "    .dataframe thead tr th {\n",
       "        text-align: left;\n",
       "    }\n",
       "</style>\n",
       "<table border=\"1\" class=\"dataframe\">\n",
       "  <thead>\n",
       "    <tr>\n",
       "      <th></th>\n",
       "      <th colspan=\"2\" halign=\"left\">Галотан</th>\n",
       "      <th colspan=\"2\" halign=\"left\">Морфин</th>\n",
       "    </tr>\n",
       "    <tr>\n",
       "      <th></th>\n",
       "      <th>mean</th>\n",
       "      <th>std</th>\n",
       "      <th>mean</th>\n",
       "      <th>std</th>\n",
       "    </tr>\n",
       "  </thead>\n",
       "  <tbody>\n",
       "    <tr>\n",
       "      <th>Среднее артериальное давление при наилучшем сердечном индексе, мм рт. ст.</th>\n",
       "      <td>76.8</td>\n",
       "      <td>13.8</td>\n",
       "      <td>91.4</td>\n",
       "      <td>19.6</td>\n",
       "    </tr>\n",
       "    <tr>\n",
       "      <th>Общее периферическое сосудистое сопротивление при наилучшем сердечном индексе, дин с см-5</th>\n",
       "      <td>2210.0</td>\n",
       "      <td>1200.0</td>\n",
       "      <td>2830.0</td>\n",
       "      <td>1130.0</td>\n",
       "    </tr>\n",
       "  </tbody>\n",
       "</table>\n",
       "</div>"
      ],
      "text/plain": [
       "                                                   Галотан          Морфин  \\\n",
       "                                                      mean     std    mean   \n",
       "Среднее артериальное давление при наилучшем сер...    76.8    13.8    91.4   \n",
       "Общее периферическое сосудистое сопротивление п...  2210.0  1200.0  2830.0   \n",
       "\n",
       "                                                            \n",
       "                                                       std  \n",
       "Среднее артериальное давление при наилучшем сер...    19.6  \n",
       "Общее периферическое сосудистое сопротивление п...  1130.0  "
      ]
     },
     "metadata": {},
     "output_type": "display_data"
    }
   ],
   "source": [
    "df = pd.DataFrame(\n",
    "    data=[[76.8, 13.8, 91.4, 19.6], [2210, 1200, 2830, 1130]],\n",
    "    index=[\n",
    "        \"Среднее артериальное давление при наилучшем сердечном индексе, мм рт. ст.\", \n",
    "        \"Общее периферическое сосудистое сопротивление при наилучшем сердечном индексе, дин с см-5\"],\n",
    "    columns=pd.MultiIndex.from_tuples(product([\"Галотан\", \"Морфин\"],[\"mean\", \"std\"]))\n",
    ")\n",
    "\n",
    "display(df)"
   ]
  },
  {
   "cell_type": "code",
   "execution_count": 4,
   "metadata": {},
   "outputs": [
    {
     "data": {
      "text/markdown": [
       "### 1. Среднее артериальное давление при наилучшем сердечном индексе, мм рт. ст."
      ],
      "text/plain": [
       "<IPython.core.display.Markdown object>"
      ]
     },
     "metadata": {},
     "output_type": "display_data"
    },
    {
     "data": {
      "text/html": [
       "<div>\n",
       "<style scoped>\n",
       "    .dataframe tbody tr th:only-of-type {\n",
       "        vertical-align: middle;\n",
       "    }\n",
       "\n",
       "    .dataframe tbody tr th {\n",
       "        vertical-align: top;\n",
       "    }\n",
       "\n",
       "    .dataframe thead th {\n",
       "        text-align: right;\n",
       "    }\n",
       "</style>\n",
       "<table border=\"1\" class=\"dataframe\">\n",
       "  <thead>\n",
       "    <tr style=\"text-align: right;\">\n",
       "      <th></th>\n",
       "      <th></th>\n",
       "      <th>mean</th>\n",
       "      <th>std</th>\n",
       "    </tr>\n",
       "  </thead>\n",
       "  <tbody>\n",
       "    <tr>\n",
       "      <th rowspan=\"2\" valign=\"top\">Среднее артериальное давление при наилучшем сердечном индексе, мм рт. ст.</th>\n",
       "      <th>Галотан</th>\n",
       "      <td>76.8</td>\n",
       "      <td>13.8</td>\n",
       "    </tr>\n",
       "    <tr>\n",
       "      <th>Морфин</th>\n",
       "      <td>91.4</td>\n",
       "      <td>19.6</td>\n",
       "    </tr>\n",
       "  </tbody>\n",
       "</table>\n",
       "</div>"
      ],
      "text/plain": [
       "                                                            mean   std\n",
       "Среднее артериальное давление при наилучшем сер... Галотан  76.8  13.8\n",
       "                                                   Морфин   91.4  19.6"
      ]
     },
     "metadata": {},
     "output_type": "display_data"
    },
    {
     "data": {
      "image/png": "[encoded data removed]",
      "text/plain": [
       "<Figure size 432x288 with 1 Axes>"
      ]
     },
     "metadata": {
      "needs_background": "light"
     },
     "output_type": "display_data"
    },
    {
     "name": "stdout",
     "output_type": "stream",
     "text": [
      "Объединенная оценка дисперсии: 316.779\n",
      "Число степеней свободы: 23\n",
      "\n",
      "t = -1.969\n",
      "p = 0.061\n",
      "Критический значение для заданного числа степеней сввободы и уровней значимости 0.01 и 0.05: t01 = 2.807, t05 = 2.069\n",
      "\n",
      "Различия статистически не значимы. P = 0.061 > 0.05 (|t = -1.969| < t05 = 2.069)\n"
     ]
    },
    {
     "data": {
      "text/markdown": [
       "---"
      ],
      "text/plain": [
       "<IPython.core.display.Markdown object>"
      ]
     },
     "metadata": {},
     "output_type": "display_data"
    },
    {
     "data": {
      "text/markdown": [
       "### 2. Общее периферическое сосудистое сопротивление при наилучшем сердечном индексе, дин с см-5"
      ],
      "text/plain": [
       "<IPython.core.display.Markdown object>"
      ]
     },
     "metadata": {},
     "output_type": "display_data"
    },
    {
     "data": {
      "text/html": [
       "<div>\n",
       "<style scoped>\n",
       "    .dataframe tbody tr th:only-of-type {\n",
       "        vertical-align: middle;\n",
       "    }\n",
       "\n",
       "    .dataframe tbody tr th {\n",
       "        vertical-align: top;\n",
       "    }\n",
       "\n",
       "    .dataframe thead th {\n",
       "        text-align: right;\n",
       "    }\n",
       "</style>\n",
       "<table border=\"1\" class=\"dataframe\">\n",
       "  <thead>\n",
       "    <tr style=\"text-align: right;\">\n",
       "      <th></th>\n",
       "      <th></th>\n",
       "      <th>mean</th>\n",
       "      <th>std</th>\n",
       "    </tr>\n",
       "  </thead>\n",
       "  <tbody>\n",
       "    <tr>\n",
       "      <th rowspan=\"2\" valign=\"top\">Общее периферическое сосудистое сопротивление при наилучшем сердечном индексе, дин с см-5</th>\n",
       "      <th>Галотан</th>\n",
       "      <td>2210.0</td>\n",
       "      <td>1200.0</td>\n",
       "    </tr>\n",
       "    <tr>\n",
       "      <th>Морфин</th>\n",
       "      <td>2830.0</td>\n",
       "      <td>1130.0</td>\n",
       "    </tr>\n",
       "  </tbody>\n",
       "</table>\n",
       "</div>"
      ],
      "text/plain": [
       "                                                              mean     std\n",
       "Общее периферическое сосудистое сопротивление п... Галотан  2210.0  1200.0\n",
       "                                                   Морфин   2830.0  1130.0"
      ]
     },
     "metadata": {},
     "output_type": "display_data"
    },
    {
     "data": {
      "image/png": "[encoded data removed]",
      "text/plain": [
       "<Figure size 432x288 with 1 Axes>"
      ]
     },
     "metadata": {
      "needs_background": "light"
     },
     "output_type": "display_data"
    },
    {
     "name": "stdout",
     "output_type": "stream",
     "text": [
      "Объединенная оценка дисперсии: 1333630.435\n",
      "Число степеней свободы: 23\n",
      "\n",
      "t = -1.289\n",
      "p = 0.210\n",
      "Критический значение для заданного числа степеней сввободы и уровней значимости 0.01 и 0.05: t01 = 2.807, t05 = 2.069\n",
      "\n",
      "Различия статистически не значимы. P = 0.210 > 0.05 (|t = -1.289| < t05 = 2.069)\n"
     ]
    },
    {
     "data": {
      "text/markdown": [
       "---"
      ],
      "text/plain": [
       "<IPython.core.display.Markdown object>"
      ]
     },
     "metadata": {},
     "output_type": "display_data"
    }
   ],
   "source": [
    "for i, name in enumerate(df.index):\n",
    "    display(Markdown(f\"### {i + 1}. {name}\"))\n",
    "    data = df.loc[[name]].stack(0)\n",
    "    display(data)\n",
    "    \n",
    "    fig, ax = plt.subplots()\n",
    "    ax.errorbar(x=data[\"mean\"], y=data.index.get_level_values(1), xerr=data[\"std\"], fmt='o', capsize=5);\n",
    "    ax.set_xlabel(data.index.get_level_values(0)[0]);\n",
    "    ax.set_ylim(-.5, 1.5);\n",
    "    ax.set_title(\"Среднее \\u00b1 стандартное отклонение\");\n",
    "    plt.show()\n",
    "    plt.close()\n",
    "    \n",
    "    t_test([9, 16], data[\"mean\"], data[\"std\"], silent=False)\n",
    "    display(Markdown(\"---\"))"
   ]
  },
  {
   "cell_type": "markdown",
   "metadata": {},
   "source": [
    "Различия обоих гемодинамическйх показателей статистически не значимы."
   ]
  },
  {
   "cell_type": "markdown",
   "metadata": {},
   "source": [
    "**4.2**\n",
    "\n",
    "Кокаин чрезвычайно вреден для сердца, он может вызвать инфаркт миокарда даже у молодых людей без атеросклероза. Кокаин сужает коронарные сосуды что приводит к уменьшению притока крови к миокарду кроме того, он ухудшает насосную функцию сердца. Нифедипин (препарат из группы антагонистов кальция) обладает способностью расширять сосуды, его применяют при ишемической болезни сердца. Ш. Хейл и соавт. (S. L. Hale, К. J. Alker, S. H. Rezkalla et al. Nifedipine protects the heart from the acute deleterious effects of cocaine if administered before but not after cocaine. Circulation, 83:1437—1443, 1991) предположили, что нифедипин можно использовать и при поражении сердца, вызванном кокаином. Собакам вводили кокаин, а затем нифедипин либо физиологический раствор. Показателем насосной функции сердца служило среднее артериальное давление. Были получены следующие данные.\n",
    "\n",
    "**Среднее артериальное давление после приема кокаина, мм рт. ст**\n",
    "Плацебо|Нифедипин\n",
    "-|-\n",
    "156|73\n",
    "171|81\n",
    "133|103\n",
    "102|88\n",
    "129|130\n",
    "150|106\n",
    "120|106\n",
    "110|111\n",
    "112|122\n",
    "130|108\n",
    "105|99\n",
    "\n",
    "Влияет ли нифедипин на среднее артериальное давление после приема кокаина?"
   ]
  },
  {
   "cell_type": "code",
   "execution_count": 5,
   "metadata": {},
   "outputs": [
    {
     "data": {
      "text/html": [
       "<div>\n",
       "<style scoped>\n",
       "    .dataframe tbody tr th:only-of-type {\n",
       "        vertical-align: middle;\n",
       "    }\n",
       "\n",
       "    .dataframe tbody tr th {\n",
       "        vertical-align: top;\n",
       "    }\n",
       "\n",
       "    .dataframe thead th {\n",
       "        text-align: right;\n",
       "    }\n",
       "</style>\n",
       "<table border=\"1\" class=\"dataframe\">\n",
       "  <thead>\n",
       "    <tr style=\"text-align: right;\">\n",
       "      <th></th>\n",
       "      <th>Плацебо</th>\n",
       "      <th>Нифедипин</th>\n",
       "    </tr>\n",
       "  </thead>\n",
       "  <tbody>\n",
       "    <tr>\n",
       "      <th>0</th>\n",
       "      <td>156</td>\n",
       "      <td>73</td>\n",
       "    </tr>\n",
       "    <tr>\n",
       "      <th>1</th>\n",
       "      <td>171</td>\n",
       "      <td>81</td>\n",
       "    </tr>\n",
       "    <tr>\n",
       "      <th>2</th>\n",
       "      <td>133</td>\n",
       "      <td>103</td>\n",
       "    </tr>\n",
       "    <tr>\n",
       "      <th>3</th>\n",
       "      <td>102</td>\n",
       "      <td>88</td>\n",
       "    </tr>\n",
       "    <tr>\n",
       "      <th>4</th>\n",
       "      <td>129</td>\n",
       "      <td>130</td>\n",
       "    </tr>\n",
       "    <tr>\n",
       "      <th>5</th>\n",
       "      <td>150</td>\n",
       "      <td>106</td>\n",
       "    </tr>\n",
       "    <tr>\n",
       "      <th>6</th>\n",
       "      <td>120</td>\n",
       "      <td>106</td>\n",
       "    </tr>\n",
       "    <tr>\n",
       "      <th>7</th>\n",
       "      <td>110</td>\n",
       "      <td>111</td>\n",
       "    </tr>\n",
       "    <tr>\n",
       "      <th>8</th>\n",
       "      <td>112</td>\n",
       "      <td>122</td>\n",
       "    </tr>\n",
       "    <tr>\n",
       "      <th>9</th>\n",
       "      <td>130</td>\n",
       "      <td>108</td>\n",
       "    </tr>\n",
       "    <tr>\n",
       "      <th>10</th>\n",
       "      <td>105</td>\n",
       "      <td>99</td>\n",
       "    </tr>\n",
       "  </tbody>\n",
       "</table>\n",
       "</div>"
      ],
      "text/plain": [
       "    Плацебо  Нифедипин\n",
       "0       156         73\n",
       "1       171         81\n",
       "2       133        103\n",
       "3       102         88\n",
       "4       129        130\n",
       "5       150        106\n",
       "6       120        106\n",
       "7       110        111\n",
       "8       112        122\n",
       "9       130        108\n",
       "10      105         99"
      ]
     },
     "metadata": {},
     "output_type": "display_data"
    },
    {
     "data": {
      "text/html": [
       "<div>\n",
       "<style scoped>\n",
       "    .dataframe tbody tr th:only-of-type {\n",
       "        vertical-align: middle;\n",
       "    }\n",
       "\n",
       "    .dataframe tbody tr th {\n",
       "        vertical-align: top;\n",
       "    }\n",
       "\n",
       "    .dataframe thead th {\n",
       "        text-align: right;\n",
       "    }\n",
       "</style>\n",
       "<table border=\"1\" class=\"dataframe\">\n",
       "  <thead>\n",
       "    <tr style=\"text-align: right;\">\n",
       "      <th></th>\n",
       "      <th>count</th>\n",
       "      <th>mean</th>\n",
       "      <th>std</th>\n",
       "    </tr>\n",
       "  </thead>\n",
       "  <tbody>\n",
       "    <tr>\n",
       "      <th>Плацебо</th>\n",
       "      <td>11.0</td>\n",
       "      <td>128.909091</td>\n",
       "      <td>22.331388</td>\n",
       "    </tr>\n",
       "    <tr>\n",
       "      <th>Нифедипин</th>\n",
       "      <td>11.0</td>\n",
       "      <td>102.454545</td>\n",
       "      <td>16.789066</td>\n",
       "    </tr>\n",
       "  </tbody>\n",
       "</table>\n",
       "</div>"
      ],
      "text/plain": [
       "           count        mean        std\n",
       "Плацебо     11.0  128.909091  22.331388\n",
       "Нифедипин   11.0  102.454545  16.789066"
      ]
     },
     "metadata": {},
     "output_type": "display_data"
    }
   ],
   "source": [
    "df = pd.DataFrame(\n",
    "    data=[[156, 73], [171, 81], [133, 103], [102, 88], [129, 130], [150, 106], [120, 106], [110, 111], [112, 122], [130, 108], [105, 99]],\n",
    "    columns=[\"Плацебо\", \"Нифедипин\"]\n",
    ")\n",
    "\n",
    "display(df)\n",
    "\n",
    "df = df.describe().loc[[\"count\", \"mean\", \"std\"]].T\n",
    "display(df)"
   ]
  },
  {
   "cell_type": "code",
   "execution_count": 6,
   "metadata": {},
   "outputs": [
    {
     "data": {
      "image/png": "[encoded data removed]",
      "text/plain": [
       "<Figure size 432x288 with 1 Axes>"
      ]
     },
     "metadata": {
      "needs_background": "light"
     },
     "output_type": "display_data"
    }
   ],
   "source": [
    "fig, ax = plt.subplots()\n",
    "\n",
    "plt.errorbar(x=df[\"mean\"], y=df.index, xerr=df[\"std\"], fmt='o', capsize=5);\n",
    "\n",
    "ax.set_title(\"Среднее \\u00b1 стандартное отклонение\");\n",
    "ax.set_xlabel(\"Среднее артериальное давление после приема кокаина, мм рт. ст\");"
   ]
  },
  {
   "cell_type": "code",
   "execution_count": 7,
   "metadata": {},
   "outputs": [
    {
     "name": "stdout",
     "output_type": "stream",
     "text": [
      "Объединенная оценка дисперсии: 390.282\n",
      "Число степеней свободы: 20.0\n",
      "\n",
      "t = 3.140\n",
      "p = 0.005\n",
      "Критический значение для заданного числа степеней сввободы и уровней значимости 0.01 и 0.05: t01 = 2.845, t05 = 2.086\n",
      "\n",
      "Различия статистически значимы. P = 0.005 < 0.01 (|t = 3.140| > t01 = 2.845)\n"
     ]
    }
   ],
   "source": [
    "t_test(df[\"count\"], df[\"mean\"], df[\"std\"], silent=False)"
   ]
  },
  {
   "cell_type": "markdown",
   "metadata": {},
   "source": [
    "Различия статистически значимы. Однако, вопреки первоначальным предположениям, нифедипин не повышает, а снижает артериальное давление."
   ]
  },
  {
   "cell_type": "markdown",
   "metadata": {},
   "source": [
    "**4.3**\n",
    "\n",
    "Ш. Хейл и соавт. измеряли также диаметр коронарных артерии после приема нифедипина и плацебо. Позволяют ли приводимые ниже данные утверждать, что нифедипин влияет на диаметр коронарных артерий?\n",
    "\n",
    "**Диаметр коронарной артерии, мм**\n",
    "\n",
    "Плацебо|Нифедипин\n",
    "-|-\n",
    "2.5|2.5\n",
    "2.2|1.7\n",
    "2.6|1.5\n",
    "2.0|2.5\n",
    "2.1|1.4\n",
    "1.8|1.9\n",
    "2.4|2.3\n",
    "2.3|2.0\n",
    "2.7|2.6\n",
    "2.7|2.3\n",
    "1.9|2.2"
   ]
  },
  {
   "cell_type": "code",
   "execution_count": 8,
   "metadata": {},
   "outputs": [
    {
     "data": {
      "text/html": [
       "<div>\n",
       "<style scoped>\n",
       "    .dataframe tbody tr th:only-of-type {\n",
       "        vertical-align: middle;\n",
       "    }\n",
       "\n",
       "    .dataframe tbody tr th {\n",
       "        vertical-align: top;\n",
       "    }\n",
       "\n",
       "    .dataframe thead th {\n",
       "        text-align: right;\n",
       "    }\n",
       "</style>\n",
       "<table border=\"1\" class=\"dataframe\">\n",
       "  <thead>\n",
       "    <tr style=\"text-align: right;\">\n",
       "      <th></th>\n",
       "      <th>Плацебо</th>\n",
       "      <th>Нифедипин</th>\n",
       "    </tr>\n",
       "  </thead>\n",
       "  <tbody>\n",
       "    <tr>\n",
       "      <th>0</th>\n",
       "      <td>2.5</td>\n",
       "      <td>2.5</td>\n",
       "    </tr>\n",
       "    <tr>\n",
       "      <th>1</th>\n",
       "      <td>2.2</td>\n",
       "      <td>1.7</td>\n",
       "    </tr>\n",
       "    <tr>\n",
       "      <th>2</th>\n",
       "      <td>2.6</td>\n",
       "      <td>1.5</td>\n",
       "    </tr>\n",
       "    <tr>\n",
       "      <th>3</th>\n",
       "      <td>2.0</td>\n",
       "      <td>2.5</td>\n",
       "    </tr>\n",
       "    <tr>\n",
       "      <th>4</th>\n",
       "      <td>2.1</td>\n",
       "      <td>1.4</td>\n",
       "    </tr>\n",
       "    <tr>\n",
       "      <th>5</th>\n",
       "      <td>1.8</td>\n",
       "      <td>1.9</td>\n",
       "    </tr>\n",
       "    <tr>\n",
       "      <th>6</th>\n",
       "      <td>2.4</td>\n",
       "      <td>2.3</td>\n",
       "    </tr>\n",
       "    <tr>\n",
       "      <th>7</th>\n",
       "      <td>2.3</td>\n",
       "      <td>2.0</td>\n",
       "    </tr>\n",
       "    <tr>\n",
       "      <th>8</th>\n",
       "      <td>2.7</td>\n",
       "      <td>2.6</td>\n",
       "    </tr>\n",
       "    <tr>\n",
       "      <th>9</th>\n",
       "      <td>2.7</td>\n",
       "      <td>2.3</td>\n",
       "    </tr>\n",
       "    <tr>\n",
       "      <th>10</th>\n",
       "      <td>1.9</td>\n",
       "      <td>2.2</td>\n",
       "    </tr>\n",
       "  </tbody>\n",
       "</table>\n",
       "</div>"
      ],
      "text/plain": [
       "    Плацебо  Нифедипин\n",
       "0       2.5        2.5\n",
       "1       2.2        1.7\n",
       "2       2.6        1.5\n",
       "3       2.0        2.5\n",
       "4       2.1        1.4\n",
       "5       1.8        1.9\n",
       "6       2.4        2.3\n",
       "7       2.3        2.0\n",
       "8       2.7        2.6\n",
       "9       2.7        2.3\n",
       "10      1.9        2.2"
      ]
     },
     "metadata": {},
     "output_type": "display_data"
    },
    {
     "data": {
      "text/html": [
       "<div>\n",
       "<style scoped>\n",
       "    .dataframe tbody tr th:only-of-type {\n",
       "        vertical-align: middle;\n",
       "    }\n",
       "\n",
       "    .dataframe tbody tr th {\n",
       "        vertical-align: top;\n",
       "    }\n",
       "\n",
       "    .dataframe thead th {\n",
       "        text-align: right;\n",
       "    }\n",
       "</style>\n",
       "<table border=\"1\" class=\"dataframe\">\n",
       "  <thead>\n",
       "    <tr style=\"text-align: right;\">\n",
       "      <th></th>\n",
       "      <th>count</th>\n",
       "      <th>mean</th>\n",
       "      <th>std</th>\n",
       "    </tr>\n",
       "  </thead>\n",
       "  <tbody>\n",
       "    <tr>\n",
       "      <th>Плацебо</th>\n",
       "      <td>11.0</td>\n",
       "      <td>2.290909</td>\n",
       "      <td>0.317662</td>\n",
       "    </tr>\n",
       "    <tr>\n",
       "      <th>Нифедипин</th>\n",
       "      <td>11.0</td>\n",
       "      <td>2.081818</td>\n",
       "      <td>0.414290</td>\n",
       "    </tr>\n",
       "  </tbody>\n",
       "</table>\n",
       "</div>"
      ],
      "text/plain": [
       "           count      mean       std\n",
       "Плацебо     11.0  2.290909  0.317662\n",
       "Нифедипин   11.0  2.081818  0.414290"
      ]
     },
     "metadata": {},
     "output_type": "display_data"
    }
   ],
   "source": [
    "df = pd.DataFrame(\n",
    "    data=[[2.5, 2.5], [2.2, 1.7], [2.6, 1.5], [2.0, 2.5], [2.1, 1.4], [1.8, 1.9], [2.4, 2.3], [2.3, 2.0], [2.7, 2.6], [2.7, 2.3], [1.9, 2.2]],\n",
    "    columns=[\"Плацебо\", \"Нифедипин\"]\n",
    ")\n",
    "\n",
    "display(df)\n",
    "\n",
    "df = df.describe().loc[[\"count\", \"mean\", \"std\"]].T\n",
    "display(df)"
   ]
  },
  {
   "cell_type": "code",
   "execution_count": 9,
   "metadata": {},
   "outputs": [
    {
     "data": {
      "image/png": "[encoded data removed]",
      "text/plain": [
       "<Figure size 432x288 with 1 Axes>"
      ]
     },
     "metadata": {
      "needs_background": "light"
     },
     "output_type": "display_data"
    }
   ],
   "source": [
    "fig, ax = plt.subplots()\n",
    "\n",
    "plt.errorbar(x=df[\"mean\"], y=df.index, xerr=df[\"std\"], fmt='o', capsize=5);\n",
    "\n",
    "ax.set_title(\"Среднее \\u00b1 стандартное отклонение\");\n",
    "ax.set_xlabel(\"Диаметр коронарной артерии, мм\");"
   ]
  },
  {
   "cell_type": "code",
   "execution_count": 10,
   "metadata": {},
   "outputs": [
    {
     "name": "stdout",
     "output_type": "stream",
     "text": [
      "Объединенная оценка дисперсии: 0.136\n",
      "Число степеней свободы: 20.0\n",
      "\n",
      "t = 1.328\n",
      "p = 0.199\n",
      "Критический значение для заданного числа степеней сввободы и уровней значимости 0.01 и 0.05: t01 = 2.845, t05 = 2.086\n",
      "\n",
      "Различия статистически не значимы. P = 0.199 > 0.05 (|t = 1.328| < t05 = 2.086)\n"
     ]
    }
   ],
   "source": [
    "t_test(df[\"count\"], df[\"mean\"], df[\"std\"], silent=False)"
   ]
  },
  {
   "cell_type": "markdown",
   "metadata": {},
   "source": [
    "Нифедипин не влияет на диаметр коронарных артерий"
   ]
  },
  {
   "cell_type": "markdown",
   "metadata": {},
   "source": [
    "**4.4.**\n",
    "Решите задачи 3.1 и 3.5 используя критерий Стьюдента.\n",
    "\n",
    "**4.4.1** \n",
    "> **3.1**\n",
    ">\n",
    "> Если  при  родах  шейка  матки  долго  не  раскрывается, то продолжительность родов увеличивается и может возникнуть необходимость кесарева сечения. Ч. О’Херлихи и Г. Мак-Дональд (С. O’Herlihy, H. MacDonaid. Influence of reproduction prostaglandin E2 vaginal gel on cervical ripening and labor. Obstet. Gynесоl., 54: 708—710, 1979) решили выяснить, ускоряет ли гель с простагландином Е2 раскрытие шейки матки. В исследование вошло 2 группы  рожениц.  Роженицам  первой  группы  вводили  в  шейку матки гель с простагландином Е2, роженицам второй группы вводили гель-плацебо. В обеих группах было по 21 роженице возраст, рост и сроки беременности были примерно одинаковы. Роды в группе, получавшей гель с простагландином Е2, длились в среднем 8,5 ч (стандартное отклонение 4,7 ч), в контрольной группе — 13,9 ч (стандартное отклонение — 4,1 ч). Можно ли утверждать, что гель с простагландином Е2 сокращал продолжительность родов?"
   ]
  },
  {
   "cell_type": "code",
   "execution_count": 11,
   "metadata": {},
   "outputs": [
    {
     "data": {
      "text/html": [
       "<div>\n",
       "<style scoped>\n",
       "    .dataframe tbody tr th:only-of-type {\n",
       "        vertical-align: middle;\n",
       "    }\n",
       "\n",
       "    .dataframe tbody tr th {\n",
       "        vertical-align: top;\n",
       "    }\n",
       "\n",
       "    .dataframe thead th {\n",
       "        text-align: right;\n",
       "    }\n",
       "</style>\n",
       "<table border=\"1\" class=\"dataframe\">\n",
       "  <thead>\n",
       "    <tr style=\"text-align: right;\">\n",
       "      <th></th>\n",
       "      <th>mean</th>\n",
       "      <th>std</th>\n",
       "    </tr>\n",
       "  </thead>\n",
       "  <tbody>\n",
       "    <tr>\n",
       "      <th>Treatment group</th>\n",
       "      <td>8.5</td>\n",
       "      <td>4.7</td>\n",
       "    </tr>\n",
       "    <tr>\n",
       "      <th>Control group</th>\n",
       "      <td>13.9</td>\n",
       "      <td>4.1</td>\n",
       "    </tr>\n",
       "  </tbody>\n",
       "</table>\n",
       "</div>"
      ],
      "text/plain": [
       "                 mean  std\n",
       "Treatment group   8.5  4.7\n",
       "Control group    13.9  4.1"
      ]
     },
     "metadata": {},
     "output_type": "display_data"
    }
   ],
   "source": [
    "N = 21\n",
    "\n",
    "df = pd.DataFrame(\n",
    "    data=[[8.5, 4.7], [13.9, 4.1]], \n",
    "    index=[\"Treatment group\", \"Control group\"], \n",
    "    columns=[\"mean\", \"std\"]\n",
    ")\n",
    "\n",
    "display(df)"
   ]
  },
  {
   "cell_type": "code",
   "execution_count": 12,
   "metadata": {},
   "outputs": [
    {
     "data": {
      "image/png": "[encoded data removed]",
      "text/plain": [
       "<Figure size 432x288 with 1 Axes>"
      ]
     },
     "metadata": {
      "needs_background": "light"
     },
     "output_type": "display_data"
    }
   ],
   "source": [
    "fig, ax = plt.subplots()\n",
    "\n",
    "plt.errorbar(x=df[\"mean\"], y=df.index, xerr=df[\"std\"], fmt='o', capsize=5);\n",
    "ax.set_xlim(0, 20);\n",
    "\n",
    "ax.set_title(\"Среднее \\u00b1 стандартное отклонение\");\n",
    "ax.set_xlabel(\"Продолжительности родов в часах\");"
   ]
  },
  {
   "cell_type": "code",
   "execution_count": 13,
   "metadata": {},
   "outputs": [
    {
     "name": "stdout",
     "output_type": "stream",
     "text": [
      "Объединенная оценка дисперсии: 19.450\n",
      "Число степеней свободы: 40\n",
      "\n",
      "t = -3.968\n",
      "p = 0.000\n",
      "Критический значение для заданного числа степеней сввободы и уровней значимости 0.01 и 0.05: t01 = 2.704, t05 = 2.021\n",
      "\n",
      "Различия статистически значимы. P = 0.000 < 0.01 (|t = -3.968| > t01 = 2.704)\n"
     ]
    }
   ],
   "source": [
    "t_test(N, df[\"mean\"], df[\"std\"], silent=False)"
   ]
  },
  {
   "cell_type": "markdown",
   "metadata": {},
   "source": [
    "**4.4.2**\n",
    "> **3.5**\n",
    ">\n",
    "> Стремясь отделить действие тетрагидроканнабинолов от действия дыма, Г. Хубер и соавт. изучили их действие при внутривенном введении. После ингаляционного введения бактерий крысам  вводили  спиртовой  раствор  тетрагидроканнабинолов, контрольной группе вводили этиловый спирт. В обеих группах было по 36 животных. После введения тетрагидроканнабинолов доля погибших бактерий составила в среднем 51,4%, в контрольной группе — 59,4%. Стандартные ошибки среднего составили соответственно 3,2% и 3,9%. Позволяют ли эти данныеутверждать, что тетрагидроканнабинолы ослабляют антибактериальную защиту?"
   ]
  },
  {
   "cell_type": "code",
   "execution_count": 14,
   "metadata": {},
   "outputs": [
    {
     "data": {
      "text/html": [
       "<div>\n",
       "<style scoped>\n",
       "    .dataframe tbody tr th:only-of-type {\n",
       "        vertical-align: middle;\n",
       "    }\n",
       "\n",
       "    .dataframe tbody tr th {\n",
       "        vertical-align: top;\n",
       "    }\n",
       "\n",
       "    .dataframe thead th {\n",
       "        text-align: right;\n",
       "    }\n",
       "</style>\n",
       "<table border=\"1\" class=\"dataframe\">\n",
       "  <thead>\n",
       "    <tr style=\"text-align: right;\">\n",
       "      <th></th>\n",
       "      <th>mean</th>\n",
       "      <th>SEM</th>\n",
       "      <th>std</th>\n",
       "    </tr>\n",
       "  </thead>\n",
       "  <tbody>\n",
       "    <tr>\n",
       "      <th>Treatment group</th>\n",
       "      <td>51.4</td>\n",
       "      <td>3.2</td>\n",
       "      <td>19.2</td>\n",
       "    </tr>\n",
       "    <tr>\n",
       "      <th>Control group</th>\n",
       "      <td>59.4</td>\n",
       "      <td>3.9</td>\n",
       "      <td>23.4</td>\n",
       "    </tr>\n",
       "  </tbody>\n",
       "</table>\n",
       "</div>"
      ],
      "text/plain": [
       "                 mean  SEM   std\n",
       "Treatment group  51.4  3.2  19.2\n",
       "Control group    59.4  3.9  23.4"
      ]
     },
     "metadata": {},
     "output_type": "display_data"
    }
   ],
   "source": [
    "N = 36\n",
    "\n",
    "df = pd.DataFrame(\n",
    "    data=[[51.4, 3.2], [59.4, 3.9]],\n",
    "    index=[\"Treatment group\",  \"Control group\"], \n",
    "    columns=[\"mean\", \"SEM\"]\n",
    ")\n",
    "\n",
    "df[\"std\"] = df[\"SEM\"] * 6 # sqrt(36)\n",
    "\n",
    "display(df)"
   ]
  },
  {
   "cell_type": "code",
   "execution_count": 15,
   "metadata": {},
   "outputs": [
    {
     "data": {
      "image/png": "[encoded data removed]",
      "text/plain": [
       "<Figure size 432x288 with 1 Axes>"
      ]
     },
     "metadata": {
      "needs_background": "light"
     },
     "output_type": "display_data"
    }
   ],
   "source": [
    "fig, ax = plt.subplots()\n",
    "\n",
    "plt.errorbar(x=df[\"mean\"], y=df.index, xerr=df[\"std\"], fmt='o', capsize=5);\n",
    "\n",
    "ax.set_title(\"Среднее \\u00b1 стандартное отклонение\");\n",
    "ax.set_xlabel(\"Доля погибших бактерий, %\");"
   ]
  },
  {
   "cell_type": "code",
   "execution_count": 16,
   "metadata": {},
   "outputs": [
    {
     "name": "stdout",
     "output_type": "stream",
     "text": [
      "Объединенная оценка дисперсии: 458.100\n",
      "Число степеней свободы: 70\n",
      "\n",
      "t = -1.586\n",
      "p = 0.117\n",
      "Критический значение для заданного числа степеней сввободы и уровней значимости 0.01 и 0.05: t01 = 2.648, t05 = 1.994\n",
      "\n",
      "Различия статистически не значимы. P = 0.117 > 0.05 (|t = -1.586| < t05 = 1.994)\n"
     ]
    }
   ],
   "source": [
    "t_test(N, df[\"mean\"], df[\"std\"], silent=False)"
   ]
  },
  {
   "cell_type": "markdown",
   "metadata": {},
   "source": [
    "**4.5**\n",
    "\n",
    "Взадаче 3.2 приведеныданные, собранные Уайтом и Фребом о проходимости дыхательных путей у некурящих работающих в помещении, где не курят у пассивных курильщиков и у курильщиков выкуривающих различное число сигарет. Дисперсионный анализ обнаружил, что приведенные данные не согласуются с гипотезой о том, что проходимость дыхательных путей во всех группах одинакова. Выделите группы с одинаковой функцией легких. Что означает полученный результат, с точки зрения первоначально поставленного вопроса влияет ли пассивное курение на функцию легких?\n",
    "\n",
    "**Максимальная объемная скорость средины выдоха, л/с**\n",
    "\n",
    "Группа|Среднее|Стандартное отклонение\n",
    "-|-|-\n",
    "Некурящие работающие в помещении, где не курят | 3,17 | 0,74\n",
    "Некурящие работающие в накуренном помещении | 2,72 | 0,71\n",
    "Курящие выкуривающие небольшое число сигарет | 2,63 | 0,73\n",
    "Курящие выкуривающие среднее число сигарет | 2,29 | 0,70\n",
    "Курящие выкуривающие большое число сигарет | 2,12 | 0,72"
   ]
  },
  {
   "cell_type": "code",
   "execution_count": 17,
   "metadata": {},
   "outputs": [
    {
     "data": {
      "text/html": [
       "<div>\n",
       "<style scoped>\n",
       "    .dataframe tbody tr th:only-of-type {\n",
       "        vertical-align: middle;\n",
       "    }\n",
       "\n",
       "    .dataframe tbody tr th {\n",
       "        vertical-align: top;\n",
       "    }\n",
       "\n",
       "    .dataframe thead th {\n",
       "        text-align: right;\n",
       "    }\n",
       "</style>\n",
       "<table border=\"1\" class=\"dataframe\">\n",
       "  <thead>\n",
       "    <tr style=\"text-align: right;\">\n",
       "      <th></th>\n",
       "      <th></th>\n",
       "      <th>mean</th>\n",
       "      <th>std</th>\n",
       "    </tr>\n",
       "  </thead>\n",
       "  <tbody>\n",
       "    <tr>\n",
       "      <th rowspan=\"2\" valign=\"top\">Некурящие</th>\n",
       "      <th>работающие в помещении, где не курят</th>\n",
       "      <td>3.17</td>\n",
       "      <td>0.74</td>\n",
       "    </tr>\n",
       "    <tr>\n",
       "      <th>работающие в накуренном помещении</th>\n",
       "      <td>2.72</td>\n",
       "      <td>0.71</td>\n",
       "    </tr>\n",
       "    <tr>\n",
       "      <th rowspan=\"3\" valign=\"top\">Курящие</th>\n",
       "      <th>выкуривающие небольшое число сигарет</th>\n",
       "      <td>2.63</td>\n",
       "      <td>0.73</td>\n",
       "    </tr>\n",
       "    <tr>\n",
       "      <th>выкуривающие среднее число сигарет</th>\n",
       "      <td>2.29</td>\n",
       "      <td>0.70</td>\n",
       "    </tr>\n",
       "    <tr>\n",
       "      <th>выкуривающие большое число сигарет</th>\n",
       "      <td>2.12</td>\n",
       "      <td>0.72</td>\n",
       "    </tr>\n",
       "  </tbody>\n",
       "</table>\n",
       "</div>"
      ],
      "text/plain": [
       "                                                mean   std\n",
       "Некурящие работающие в помещении, где не курят  3.17  0.74\n",
       "          работающие в накуренном помещении     2.72  0.71\n",
       "Курящие   выкуривающие небольшое число сигарет  2.63  0.73\n",
       "          выкуривающие среднее число сигарет    2.29  0.70\n",
       "          выкуривающие большое число сигарет    2.12  0.72"
      ]
     },
     "metadata": {},
     "output_type": "display_data"
    }
   ],
   "source": [
    "N = 200\n",
    "\n",
    "df = pd.DataFrame(\n",
    "    data=[[3.17, 0.74],[2.72, 0.71],[2.63, 0.73],[2.29, 0.70],[2.12, 0.72]], \n",
    "    index=pd.MultiIndex.from_tuples([\n",
    "        (\"Некурящие\", \"работающие в помещении, где не курят\"), \n",
    "        (\"Некурящие\", \"работающие в накуренном помещении\"), \n",
    "        (\"Курящие\", \"выкуривающие небольшое число сигарет\"), \n",
    "        (\"Курящие\", \"выкуривающие среднее число сигарет\"), \n",
    "        (\"Курящие\", \"выкуривающие большое число сигарет\")\n",
    "        ]), \n",
    "    columns=[\"mean\", \"std\"]\n",
    ")\n",
    "\n",
    "display(df)"
   ]
  },
  {
   "cell_type": "code",
   "execution_count": 18,
   "metadata": {},
   "outputs": [
    {
     "data": {
      "image/png": "[encoded data removed]",
      "text/plain": [
       "<Figure size 432x288 with 1 Axes>"
      ]
     },
     "metadata": {
      "needs_background": "light"
     },
     "output_type": "display_data"
    }
   ],
   "source": [
    "fig, ax = plt.subplots()\n",
    "\n",
    "plt.errorbar(x=df[\"mean\"], y=[' '.join(col) for col in df.index], xerr=df[\"std\"], fmt='o', capsize=5);\n",
    "ax.set_xlim(0, 5);\n",
    "\n",
    "ax.set_title(\"Среднее \\u00b1 стандартное отклонение\");\n",
    "ax.set_xlabel(\"Максимальная объемная скорость средины выдоха, л/с\");"
   ]
  },
  {
   "cell_type": "code",
   "execution_count": 19,
   "metadata": {},
   "outputs": [
    {
     "name": "stdout",
     "output_type": "stream",
     "text": [
      "Внутригрупповая оценка дисперсии: 0.519\n",
      "Число степеней свободы: 995\n",
      "Число сравнений: 10\n",
      "Критический значение для заданного числа степеней сввободы и уровней значимости 0.01 и 0.05 с учетом поправки Бонферрони: t01 = 3.300, t05 = 2.813\n",
      "\n",
      "\n",
      "Различия статистически не значимы 0.00500 < p:\n",
      "\tt('Некурящие работающие в накуренном помещении', 'Курящие выкуривающие небольшое число сигарет') = -1.250 (p-value = 0.212)\n",
      "\tt('Курящие выкуривающие среднее число сигарет', 'Курящие выкуривающие большое число сигарет') = -2.361 (p-value = 0.018)\n",
      "\n",
      "Пограничный случай, есть основания задуматься над наличием различий 0.00100 < p < 0.00500:\n",
      "\t--------------------------------------------\n",
      "\n",
      "Различия статистически значимы p < 0.00100.\n",
      "\tt('Курящие выкуривающие небольшое число сигарет', 'Курящие выкуривающие среднее число сигарет') = -4.721 (p-value = 0.000)\n",
      "\tt('Некурящие работающие в накуренном помещении', 'Курящие выкуривающие среднее число сигарет') = -5.971 (p-value = 0.000)\n",
      "\tt('Некурящие работающие в помещении, где не курят', 'Некурящие работающие в накуренном помещении') = -6.249 (p-value = 0.000)\n",
      "\tt('Курящие выкуривающие небольшое число сигарет', 'Курящие выкуривающие большое число сигарет') = -7.082 (p-value = 0.000)\n",
      "\tt('Некурящие работающие в помещении, где не курят', 'Курящие выкуривающие небольшое число сигарет') = -7.499 (p-value = 0.000)\n",
      "\tt('Некурящие работающие в накуренном помещении', 'Курящие выкуривающие большое число сигарет') = -8.332 (p-value = 0.000)\n",
      "\tt('Некурящие работающие в помещении, где не курят', 'Курящие выкуривающие среднее число сигарет') = -12.220 (p-value = 0.000)\n",
      "\tt('Некурящие работающие в помещении, где не курят', 'Курящие выкуривающие большое число сигарет') = -14.581 (p-value = 0.000)\n"
     ]
    }
   ],
   "source": [
    "t_test_benf(N, df[\"mean\"], df[\"std\"], names=[' '.join(col) for col in df.index], silent=False)"
   ]
  },
  {
   "cell_type": "code",
   "execution_count": 20,
   "metadata": {},
   "outputs": [
    {
     "name": "stdout",
     "output_type": "stream",
     "text": [
      "Внутригрупповая оценка дисперсии: 0.519\n",
      "Число степеней свободы: 995\n",
      "\n",
      "Различия статистически не значимы:\n",
      "\tt('Некурящие работающие в накуренном помещении', 'Курящие выкуривающие небольшое число сигарет') = 1.767, l = 2, p-value = 0.212\n",
      "\n",
      "Пограничный случай, есть основания задуматься над наличием различий:\n",
      "\tt('Курящие выкуривающие среднее число сигарет', 'Курящие выкуривающие большое число сигарет') = 3.338, l = 2, p-value = 0.018\n",
      "\n",
      "Различия статистически значимы.\n",
      "\tt('Курящие выкуривающие небольшое число сигарет', 'Курящие выкуривающие среднее число сигарет') = 6.677, l = 2, p-value = 0.001\n",
      "\tt('Некурящие работающие в накуренном помещении', 'Курящие выкуривающие среднее число сигарет') = 8.444, l = 3, p-value = 0.001\n",
      "\tt('Некурящие работающие в помещении, где не курят', 'Некурящие работающие в накуренном помещении') = 8.837, l = 2, p-value = 0.001\n",
      "\tt('Курящие выкуривающие небольшое число сигарет', 'Курящие выкуривающие большое число сигарет') = 10.015, l = 3, p-value = 0.001\n",
      "\tt('Некурящие работающие в помещении, где не курят', 'Курящие выкуривающие небольшое число сигарет') = 10.605, l = 3, p-value = 0.001\n",
      "\tt('Некурящие работающие в накуренном помещении', 'Курящие выкуривающие большое число сигарет') = 11.783, l = 4, p-value = 0.001\n",
      "\tt('Некурящие работающие в помещении, где не курят', 'Курящие выкуривающие среднее число сигарет') = 17.281, l = 4, p-value = 0.001\n",
      "\tt('Некурящие работающие в помещении, где не курят', 'Курящие выкуривающие большое число сигарет') = 20.620, l = 5, p-value = 0.001\n"
     ]
    }
   ],
   "source": [
    "#  Критерий Ньюмена-Кейлса, дает схожий результат\n",
    "t_test_nk(N, df[\"mean\"], df[\"std\"], names=[' '.join(col) for col in df.index], silent=False)"
   ]
  },
  {
   "cell_type": "code",
   "execution_count": 21,
   "metadata": {},
   "outputs": [
    {
     "name": "stdout",
     "output_type": "stream",
     "text": [
      "Внутригрупповая оценка дисперсии: 0.519\n",
      "Число степеней свободы: 995\n",
      "\n",
      "Различия статистически не значимы:\n",
      "\tt('Некурящие работающие в накуренном помещении', 'Курящие выкуривающие небольшое число сигарет') = 1.767,  p-value = 0.696\n",
      "\tt('Курящие выкуривающие среднее число сигарет', 'Курящие выкуривающие большое число сигарет') = 3.338,  p-value = 0.127\n",
      "\n",
      "Пограничный случай, есть основания задуматься над наличием различий:\n",
      "\t--------------------------------------------\n",
      "\n",
      "Различия статистически значимы.\n",
      "\tt('Курящие выкуривающие небольшое число сигарет', 'Курящие выкуривающие среднее число сигарет') = 6.677,  p-value = 0.001\n",
      "\tt('Некурящие работающие в накуренном помещении', 'Курящие выкуривающие среднее число сигарет') = 8.444,  p-value = 0.001\n",
      "\tt('Некурящие работающие в помещении, где не курят', 'Некурящие работающие в накуренном помещении') = 8.837,  p-value = 0.001\n",
      "\tt('Курящие выкуривающие небольшое число сигарет', 'Курящие выкуривающие большое число сигарет') = 10.015,  p-value = 0.001\n",
      "\tt('Некурящие работающие в помещении, где не курят', 'Курящие выкуривающие небольшое число сигарет') = 10.605,  p-value = 0.001\n",
      "\tt('Некурящие работающие в накуренном помещении', 'Курящие выкуривающие большое число сигарет') = 11.783,  p-value = 0.001\n",
      "\tt('Некурящие работающие в помещении, где не курят', 'Курящие выкуривающие среднее число сигарет') = 17.281,  p-value = 0.001\n",
      "\tt('Некурящие работающие в помещении, где не курят', 'Курящие выкуривающие большое число сигарет') = 20.620,  p-value = 0.001\n"
     ]
    }
   ],
   "source": [
    "#  Критерий Ньюмена-Кейлса, дает схожий результат\n",
    "t_test_nk(N, df[\"mean\"], df[\"std\"], names=[' '.join(col) for col in df.index], tukey=True, silent=False)"
   ]
  },
  {
   "cell_type": "markdown",
   "metadata": {},
   "source": [
    "Статистически не значимые различия обнаруживаются в группах:\n",
    "* 'Некурящие работающие в накуренном помещении' и 'Курящие выкуривающие небольшое число сигарет'\n",
    "* 'Курящие выкуривающие среднее число сигарет' и 'Курящие выкуривающие большое число сигарет'\n",
    "\n",
    "Отличия проходимости дыхательных путей у некурящих, работающих в помещении, где не курят, и пассивных курильщиков статистически значимы."
   ]
  },
  {
   "cell_type": "markdown",
   "metadata": {},
   "source": [
    "**4.6**\n",
    "\n",
    "Используя данные задачи 3.2, оцените статистическую значимость различий некурящих работающих в помещении, где не курят со всеми остальными группами. Воспользуйтесь критерием Даннета."
   ]
  },
  {
   "cell_type": "code",
   "execution_count": 22,
   "metadata": {},
   "outputs": [
    {
     "name": "stdout",
     "output_type": "stream",
     "text": [
      "Внутригрупповая оценка дисперсии: 0.519\n",
      "Число степеней свободы: 995\n",
      "\n",
      "Различия статистически не значимы, |q| < q05 = 2.470:\n",
      "\t--------------------------------------------\n",
      "\n",
      "Пограничный случай, есть основания задуматься над наличием различий, q01 = 3.060 < |q| < q05 = 2.470:\n",
      "\t--------------------------------------------\n",
      "\n",
      "Различия статистически значимы, q01 = 3.060 < |q|:\n",
      "\tq('Некурящие работающие в помещении, где не курят', 'Некурящие работающие в накуренном помещении') = 6.249\n",
      "\tq('Некурящие работающие в помещении, где не курят', 'Курящие выкуривающие небольшое число сигарет') = 7.499\n",
      "\tq('Некурящие работающие в помещении, где не курят', 'Курящие выкуривающие среднее число сигарет') = 12.220\n",
      "\tq('Некурящие работающие в помещении, где не курят', 'Курящие выкуривающие большое число сигарет') = 14.581\n"
     ]
    }
   ],
   "source": [
    "dunnetts_test(N, df[\"mean\"], df[\"std\"], names=[' '.join(col) for col in df.index], ctrl_group=0, silent=False)"
   ]
  },
  {
   "cell_type": "markdown",
   "metadata": {},
   "source": [
    "Отличия всех групп с контрольной статистически значимы."
   ]
  },
  {
   "cell_type": "markdown",
   "metadata": {},
   "source": [
    "**4.7**\n",
    "\n",
    "Решив задачу 3.3, мы пришли к заключению, что уровень холестерина липопротеидов высокой плотности (ХЛПВП)\n",
    "у бегунов марафонцев бегунов трусцой и лиц, не занимающихся спортом неодинаков. Пользуясь критерием Стьюдента с поправкой Бонферрони, сравните эти группы попарно.\n",
    "> **3.3.**\n",
    ">\n",
    "> Низкий  уровень  холестерина  липопротеидов  высокой плотности  ( ХЛПВП)    —  фактор  риска  ишемической  болезни сердца. Некоторые исследования свидетельствуют, что физическая нагрузка может повысить уровень ХЛПВП. Дж. Хартунг и соавт. (G. Н. Hartung et al. Relation of diet to hidh-density liрoprotein cholesterol in middle-aged marathon runners, joggles, and inactive men. N. Engl. J. Med., 302:357—361, 1980) исследовали уровень ХЛПВП у бегунов-марафонцев, бегунов трусцой и лиц, не занимающихся спортом. Средний уровень ХЛПВП у лиц, не занимающихся спортом, составил 43,3 мг% (стандартное отклонение 14,2 мг%), у бегунов трусцой — 58,0 мг% (стандартное отклонение 17,7 мг%) и у марафонцев — 64,8 мг% (стандартное отклонение 14,3 мг%). Будем считать, что в каждой группе было по 70 человек. Оцените статистическую значимость различий между группами."
   ]
  },
  {
   "cell_type": "code",
   "execution_count": 23,
   "metadata": {},
   "outputs": [
    {
     "data": {
      "text/html": [
       "<div>\n",
       "<style scoped>\n",
       "    .dataframe tbody tr th:only-of-type {\n",
       "        vertical-align: middle;\n",
       "    }\n",
       "\n",
       "    .dataframe tbody tr th {\n",
       "        vertical-align: top;\n",
       "    }\n",
       "\n",
       "    .dataframe thead th {\n",
       "        text-align: right;\n",
       "    }\n",
       "</style>\n",
       "<table border=\"1\" class=\"dataframe\">\n",
       "  <thead>\n",
       "    <tr style=\"text-align: right;\">\n",
       "      <th></th>\n",
       "      <th>mean</th>\n",
       "      <th>std</th>\n",
       "    </tr>\n",
       "  </thead>\n",
       "  <tbody>\n",
       "    <tr>\n",
       "      <th>Не занимаются спортом</th>\n",
       "      <td>43.3</td>\n",
       "      <td>14.2</td>\n",
       "    </tr>\n",
       "    <tr>\n",
       "      <th>Бегуны трусцой</th>\n",
       "      <td>58.0</td>\n",
       "      <td>17.7</td>\n",
       "    </tr>\n",
       "    <tr>\n",
       "      <th>Марафонцы</th>\n",
       "      <td>64.8</td>\n",
       "      <td>14.3</td>\n",
       "    </tr>\n",
       "  </tbody>\n",
       "</table>\n",
       "</div>"
      ],
      "text/plain": [
       "                       mean   std\n",
       "Не занимаются спортом  43.3  14.2\n",
       "Бегуны трусцой         58.0  17.7\n",
       "Марафонцы              64.8  14.3"
      ]
     },
     "metadata": {},
     "output_type": "display_data"
    }
   ],
   "source": [
    "N = 70\n",
    "\n",
    "df = pd.DataFrame(\n",
    "    data=[[43.3, 14.2], [58.0, 17.7], [64.8, 14.3]], \n",
    "    index=[\"Не занимаются спортом\", \"Бегуны трусцой\", \"Марафонцы\"], \n",
    "    columns=[\"mean\", \"std\"]\n",
    ")\n",
    "\n",
    "display(df)"
   ]
  },
  {
   "cell_type": "code",
   "execution_count": 24,
   "metadata": {},
   "outputs": [
    {
     "data": {
      "image/png": "[encoded data removed]",
      "text/plain": [
       "<Figure size 432x288 with 1 Axes>"
      ]
     },
     "metadata": {
      "needs_background": "light"
     },
     "output_type": "display_data"
    }
   ],
   "source": [
    "fig, ax = plt.subplots()\n",
    "\n",
    "plt.errorbar(x=df[\"mean\"], y=df.index, xerr=df[\"std\"], fmt='o', capsize=5);\n",
    "\n",
    "ax.set_title(\"Среднее \\u00b1 стандартное отклонение\");\n",
    "ax.set_xlabel(\"Уровень холестерина  липопротеидов  высокой плотности в мг%\");"
   ]
  },
  {
   "cell_type": "code",
   "execution_count": 25,
   "metadata": {},
   "outputs": [
    {
     "name": "stdout",
     "output_type": "stream",
     "text": [
      "Внутригрупповая оценка дисперсии: 239.807\n",
      "Число степеней свободы: 207\n",
      "Число сравнений: 3\n",
      "Критический значение для заданного числа степеней сввободы и уровней значимости 0.01 и 0.05 с учетом поправки Бонферрони: t01 = 2.970, t05 = 2.414\n",
      "\n",
      "\n",
      "Различия статистически не значимы 0.01667 < p:\n",
      "\t--------------------------------------------\n",
      "\n",
      "Пограничный случай, есть основания задуматься над наличием различий 0.00333 < p < 0.01667:\n",
      "\tt('Бегуны трусцой', 'Марафонцы') = 2.598 (p-value = 0.010)\n",
      "\n",
      "Различия статистически значимы p < 0.00333.\n",
      "\tt('Не занимаются спортом', 'Бегуны трусцой') = 5.616 (p-value = 0.000)\n",
      "\tt('Не занимаются спортом', 'Марафонцы') = 8.214 (p-value = 0.000)\n"
     ]
    }
   ],
   "source": [
    "t_test_benf(N, df[\"mean\"], df[\"std\"], names=df.index, silent=False)"
   ]
  },
  {
   "cell_type": "markdown",
   "metadata": {},
   "source": [
    "**4.8**\n",
    "\n",
    "Используя данные задачи 3.3 и рассматривая группу не занимающихся спортом как контрольную сравните ее с остальными двумя группами. Используйте поправку Бонферрони."
   ]
  },
  {
   "cell_type": "code",
   "execution_count": 26,
   "metadata": {},
   "outputs": [
    {
     "name": "stdout",
     "output_type": "stream",
     "text": [
      "Внутригрупповая оценка дисперсии: 239.807\n",
      "Число степеней свободы: 207\n",
      "Число сравнений: 2\n",
      "Критический значение для заданного числа степеней сввободы и уровней значимости 0.01 и 0.05 с учетом поправки Бонферрони: t01 = 2.837, t05 = 2.258\n",
      "\n",
      "\n",
      "Различия статистически не значимы 0.02500 < p:\n",
      "\t--------------------------------------------\n",
      "\n",
      "Пограничный случай, есть основания задуматься над наличием различий 0.00500 < p < 0.02500:\n",
      "\t--------------------------------------------\n",
      "\n",
      "Различия статистически значимы p < 0.00500.\n",
      "\tt('Не занимаются спортом', 'Бегуны трусцой') = 5.616 (p-value = 0.000)\n",
      "\tt('Не занимаются спортом', 'Марафонцы') = 8.214 (p-value = 0.000)\n"
     ]
    }
   ],
   "source": [
    "t_test_benf(N, df[\"mean\"], df[\"std\"], names=df.index, ctrl_group=0, silent=False)"
   ]
  },
  {
   "cell_type": "markdown",
   "metadata": {},
   "source": [
    "Не занимающиеся спортом статистически значимо отличаются как от бегунов трусцой, так и от марафонцев."
   ]
  },
  {
   "cell_type": "markdown",
   "metadata": {},
   "source": [
    "**4.9**\n",
    "\n",
    "Пользуясь данными задачи 3.4, найдите группы с близкими показателями антибактериальной защиты.\n",
    "\n",
    "> **3.4**\n",
    ">\n",
    "> Марихуана  —  наркотик,  поэтому  исследовать  курение марихуаны на добровольцах невозможно. Исследования такого рода проводят на лабораторных животных. Г. Хубер и соавт. (G. Huber et al. Marijuana, tetrahydrocannabinol, and pulmonary arterial antibacterial  defenses.  Chest,  77:403—410,  1980)  изучали  влияние  марихуаны  на  антибактериальную  защиту  у  крыс.  После ингаляционного  введения  бактерий  крыс  помещали  в  камеру, где специальная машина окуривала их сигаретами с марихуа ной. Забив крыс, исследователи извлекали легкие и подсчитывали процент погибших бактерий, который и служил показателем состояния антибактериальной защиты. Чтобы установить, что именно влияет на антибактериальную защиту — тетрагидроканнабинолы (вещества, которые обусловливают наркотическое действие марихуаны) или просто дым одну из групп окуривали сигаретами, из которых тетрагидроканнабинолы были удалены. В каждой группе было по 36 крыс. Являются ли различия статистически значимыми?\n",
    "\n",
    "Число сигарет | Среднее | Стандартная ошибка среднего\n",
    "-|-|-\n",
    "0 (контроль) | 85,1 | 0,3\n",
    "15 | 83,5 | 1,0\n",
    "30 | 80,9 | 0,6\n",
    "50 | 72,6 | 0,7\n",
    "75 | 60 | 1,3\n",
    "75  (тетрагидроканнабинота  удалены) | 73,5 | 0,7\n",
    "150 | 63,8 | 2,6"
   ]
  },
  {
   "cell_type": "code",
   "execution_count": 27,
   "metadata": {},
   "outputs": [
    {
     "data": {
      "text/html": [
       "<div>\n",
       "<style scoped>\n",
       "    .dataframe tbody tr th:only-of-type {\n",
       "        vertical-align: middle;\n",
       "    }\n",
       "\n",
       "    .dataframe tbody tr th {\n",
       "        vertical-align: top;\n",
       "    }\n",
       "\n",
       "    .dataframe thead th {\n",
       "        text-align: right;\n",
       "    }\n",
       "</style>\n",
       "<table border=\"1\" class=\"dataframe\">\n",
       "  <thead>\n",
       "    <tr style=\"text-align: right;\">\n",
       "      <th></th>\n",
       "      <th>mean</th>\n",
       "      <th>SEM</th>\n",
       "      <th>std</th>\n",
       "    </tr>\n",
       "  </thead>\n",
       "  <tbody>\n",
       "    <tr>\n",
       "      <th>0 (контроль)</th>\n",
       "      <td>85.1</td>\n",
       "      <td>0.3</td>\n",
       "      <td>1.8</td>\n",
       "    </tr>\n",
       "    <tr>\n",
       "      <th>15</th>\n",
       "      <td>83.5</td>\n",
       "      <td>1.0</td>\n",
       "      <td>6.0</td>\n",
       "    </tr>\n",
       "    <tr>\n",
       "      <th>30</th>\n",
       "      <td>80.9</td>\n",
       "      <td>0.6</td>\n",
       "      <td>3.6</td>\n",
       "    </tr>\n",
       "    <tr>\n",
       "      <th>50</th>\n",
       "      <td>72.6</td>\n",
       "      <td>0.7</td>\n",
       "      <td>4.2</td>\n",
       "    </tr>\n",
       "    <tr>\n",
       "      <th>75</th>\n",
       "      <td>60.0</td>\n",
       "      <td>1.3</td>\n",
       "      <td>7.8</td>\n",
       "    </tr>\n",
       "    <tr>\n",
       "      <th>75 (тетрагидроканнабинота  удалены)</th>\n",
       "      <td>73.5</td>\n",
       "      <td>0.7</td>\n",
       "      <td>4.2</td>\n",
       "    </tr>\n",
       "    <tr>\n",
       "      <th>150</th>\n",
       "      <td>63.8</td>\n",
       "      <td>2.6</td>\n",
       "      <td>15.6</td>\n",
       "    </tr>\n",
       "  </tbody>\n",
       "</table>\n",
       "</div>"
      ],
      "text/plain": [
       "                                     mean  SEM   std\n",
       "0 (контроль)                         85.1  0.3   1.8\n",
       "15                                   83.5  1.0   6.0\n",
       "30                                   80.9  0.6   3.6\n",
       "50                                   72.6  0.7   4.2\n",
       "75                                   60.0  1.3   7.8\n",
       "75 (тетрагидроканнабинота  удалены)  73.5  0.7   4.2\n",
       "150                                  63.8  2.6  15.6"
      ]
     },
     "metadata": {},
     "output_type": "display_data"
    }
   ],
   "source": [
    "N = 36\n",
    "\n",
    "df = pd.DataFrame(\n",
    "    data=[[85.1, 0.3], [83.5, 1.0], [80.9, 0.6], [72.6, 0.7], [60.0, 1.3], [73.5, 0.7], [63.8, 2.6]],\n",
    "    index=[\"0 (контроль)\", \"15\", \"30\", \"50\", \"75\", \"75 (тетрагидроканнабинота  удалены)\", \"150\"], \n",
    "    columns=[\"mean\", \"SEM\"]\n",
    ")\n",
    "\n",
    "df[\"std\"] = df[\"SEM\"] * 6 # sqrt(36)\n",
    "\n",
    "display(df)"
   ]
  },
  {
   "cell_type": "code",
   "execution_count": 28,
   "metadata": {},
   "outputs": [
    {
     "data": {
      "image/png": "[encoded data removed]",
      "text/plain": [
       "<Figure size 432x288 with 1 Axes>"
      ]
     },
     "metadata": {
      "needs_background": "light"
     },
     "output_type": "display_data"
    }
   ],
   "source": [
    "fig, ax = plt.subplots()\n",
    "\n",
    "plt.errorbar(x=df[\"mean\"], y=df.index, xerr=df[\"std\"], fmt='o', capsize=5);\n",
    "\n",
    "ax.set_title(\"Среднее \\u00b1 стандартное отклонение\");\n",
    "ax.set_xlabel(\"Доля погибших бактерий, %\");"
   ]
  },
  {
   "cell_type": "code",
   "execution_count": 29,
   "metadata": {},
   "outputs": [
    {
     "name": "stdout",
     "output_type": "stream",
     "text": [
      "Внутригрупповая оценка дисперсии: 55.954\n",
      "Число степеней свободы: 245\n",
      "Число сравнений: 21\n",
      "Критический значение для заданного числа степеней сввободы и уровней значимости 0.01 и 0.05 с учетом поправки Бонферрони: t01 = 3.541, t05 = 3.070\n",
      "\n",
      "\n",
      "Различия статистически не значимы 0.00238 < p:\n",
      "\tt('50', '75 (тетрагидроканнабинота  удалены)') = 0.510 (p-value = 0.610)\n",
      "\tt('0 (контроль)', '15') = -0.907 (p-value = 0.365)\n",
      "\tt('15', '30') = -1.475 (p-value = 0.142)\n",
      "\tt('75', '150') = 2.155 (p-value = 0.032)\n",
      "\tt('0 (контроль)', '30') = -2.382 (p-value = 0.018)\n",
      "\n",
      "Пограничный случай, есть основания задуматься над наличием различий 0.00048 < p < 0.00238:\n",
      "\t--------------------------------------------\n",
      "\n",
      "Различия статистически значимы p < 0.00048.\n",
      "\tt('30', '75 (тетрагидроканнабинота  удалены)') = -4.197 (p-value = 0.000)\n",
      "\tt('30', '50') = -4.708 (p-value = 0.000)\n",
      "\tt('50', '150') = -4.991 (p-value = 0.000)\n",
      "\tt('75 (тетрагидроканнабинота  удалены)', '150') = -5.502 (p-value = 0.000)\n",
      "\tt('15', '75 (тетрагидроканнабинота  удалены)') = -5.672 (p-value = 0.000)\n",
      "\tt('15', '50') = -6.182 (p-value = 0.000)\n",
      "\tt('0 (контроль)', '75 (тетрагидроканнабинота  удалены)') = -6.579 (p-value = 0.000)\n",
      "\tt('0 (контроль)', '50') = -7.090 (p-value = 0.000)\n",
      "\tt('50', '75') = -7.146 (p-value = 0.000)\n",
      "\tt('75', '75 (тетрагидроканнабинота  удалены)') = 7.657 (p-value = 0.000)\n",
      "\tt('30', '150') = -9.699 (p-value = 0.000)\n",
      "\tt('15', '150') = -11.173 (p-value = 0.000)\n",
      "\tt('30', '75') = -11.854 (p-value = 0.000)\n",
      "\tt('0 (контроль)', '150') = -12.081 (p-value = 0.000)\n",
      "\tt('15', '75') = -13.329 (p-value = 0.000)\n",
      "\tt('0 (контроль)', '75') = -14.236 (p-value = 0.000)\n"
     ]
    }
   ],
   "source": [
    "t_test_benf(N, df[\"mean\"], df[\"std\"], names=df.index, silent=False)"
   ]
  },
  {
   "cell_type": "code",
   "execution_count": 30,
   "metadata": {},
   "outputs": [
    {
     "name": "stdout",
     "output_type": "stream",
     "text": [
      "Внутригрупповая оценка дисперсии: 55.954\n",
      "Число степеней свободы: 245\n",
      "\n",
      "Различия статистически не значимы:\n",
      "\tt('75 (тетрагидроканнабинота  удалены)', '50') = 0.722, l = 2, p-value = 0.620\n",
      "\tt('0 (контроль)', '15') = 1.283, l = 2, p-value = 0.365\n",
      "\tt('15', '30') = 2.085, l = 2, p-value = 0.142\n",
      "\n",
      "Пограничный случай, есть основания задуматься над наличием различий:\n",
      "\tt('150', '75') = 3.048, l = 2, p-value = 0.032\n",
      "\tt('0 (контроль)', '30') = 3.369, l = 3, p-value = 0.047\n",
      "\n",
      "Различия статистически значимы.\n",
      "\tt('30', '75 (тетрагидроканнабинота  удалены)') = 5.936, l = 2, p-value = 0.001\n",
      "\tt('30', '50') = 6.658, l = 3, p-value = 0.001\n",
      "\tt('50', '150') = 7.059, l = 2, p-value = 0.001\n",
      "\tt('75 (тетрагидроканнабинота  удалены)', '150') = 7.780, l = 3, p-value = 0.001\n",
      "\tt('15', '75 (тетрагидроканнабинота  удалены)') = 8.021, l = 3, p-value = 0.001\n",
      "\tt('15', '50') = 8.743, l = 4, p-value = 0.001\n",
      "\tt('0 (контроль)', '75 (тетрагидроканнабинота  удалены)') = 9.304, l = 4, p-value = 0.001\n",
      "\tt('0 (контроль)', '50') = 10.026, l = 5, p-value = 0.001\n",
      "\tt('50', '75') = 10.107, l = 3, p-value = 0.001\n",
      "\tt('75 (тетрагидроканнабинота  удалены)', '75') = 10.829, l = 4, p-value = 0.001\n",
      "\tt('30', '150') = 13.716, l = 4, p-value = 0.001\n",
      "\tt('15', '150') = 15.802, l = 5, p-value = 0.001\n",
      "\tt('30', '75') = 16.764, l = 5, p-value = 0.001\n",
      "\tt('0 (контроль)', '150') = 17.085, l = 6, p-value = 0.001\n",
      "\tt('15', '75') = 18.850, l = 6, p-value = 0.001\n",
      "\tt('0 (контроль)', '75') = 20.133, l = 7, p-value = 0.001\n"
     ]
    }
   ],
   "source": [
    "t_test_nk(N, df[\"mean\"], df[\"std\"], names=df.index, silent=False)"
   ]
  },
  {
   "cell_type": "markdown",
   "metadata": {},
   "source": [
    "В обоих подходах выделяются пять пар со статистически не значимыми различиями, которые разделяются на три группы:\n",
    "* Контрольная группа, 15 и 30 сигарет\n",
    "* 75 сигарет без тетрагидроканнабинолов и 50 сигарет\n",
    "* 75 и 150 сигарет"
   ]
  },
  {
   "cell_type": "markdown",
   "metadata": {},
   "source": [
    "**4.10**\n",
    "\n",
    "По данным задачи 3.7 опишите различия групп. Используйте поправку Бонферрони.\n",
    "\n",
    "> **3.7**\n",
    ">\n",
    "> Нитропруссид натрия и дофамин — препараты, которые широко  используют  при  инфаркте  миокарда  (Инфаркт миокарда развивается вследствие закупорки одной из коронарных артерий. Кровь перестает поступать к тому или иному участку миокарда, который в результате отмирает от недостатка кислорода). Считается, что нитропруссид натрия облегчает работу сердца и тем самым снижает потребность миокарда в кислороде; в результате устойчивость миокарда к недостаточному кровоснабжению повышается. Дофамин препятствует падению артериального давления и увеличивает поступление крови к пораженному участку через дополнительные сосуды (так называемые коллатерали). К. Шатни и соавт. (C. Shatney et al. Effects of infusion of dopamine and nitroprusside on size of experimental myocardial infarction. Chest., 73:850—856, 1978) сравнили эффективность этих  препаратов  в  опытах  на  собаках  с  инфарктом  миокарда. Инфаркт миокарда вызывали перевязкой коронарной артерии, после чего вводили препарат (собакам контрольной группы вводили физиологический раствор). Через 6 часов собак забивалии взвешивали пораженный участок миокарда, результат выражали в процентах от веса левого желудочка. Препарат для каждой собаки выбирали случайным образом. Исследователь, взвешивавший  миокард,  не  знал,  какой  препарат  вводили  собаке. Полученные данные приведены в таблице (Вес пораженного участка миокарда (в процентах от веса левого желудочка)):\n",
    "\n",
    "Группа|Число животных|Среднее|Стандартная ошибка среднего\n",
    "-|-|-|-\n",
    "Контроль|30|15|1\n",
    "Дофамин низкая доза|13|15|2\n",
    "Дофамин высокая доза|20|9|2\n",
    "Нитропруссид|20|7|1\n",
    "\n",
    "> Можно ли считать различия между группами статистически значимыми?"
   ]
  },
  {
   "cell_type": "code",
   "execution_count": 31,
   "metadata": {},
   "outputs": [
    {
     "data": {
      "text/html": [
       "<div>\n",
       "<style scoped>\n",
       "    .dataframe tbody tr th:only-of-type {\n",
       "        vertical-align: middle;\n",
       "    }\n",
       "\n",
       "    .dataframe tbody tr th {\n",
       "        vertical-align: top;\n",
       "    }\n",
       "\n",
       "    .dataframe thead th {\n",
       "        text-align: right;\n",
       "    }\n",
       "</style>\n",
       "<table border=\"1\" class=\"dataframe\">\n",
       "  <thead>\n",
       "    <tr style=\"text-align: right;\">\n",
       "      <th></th>\n",
       "      <th>n</th>\n",
       "      <th>mean</th>\n",
       "      <th>SME</th>\n",
       "      <th>std</th>\n",
       "    </tr>\n",
       "  </thead>\n",
       "  <tbody>\n",
       "    <tr>\n",
       "      <th>Контроль</th>\n",
       "      <td>30</td>\n",
       "      <td>15</td>\n",
       "      <td>1</td>\n",
       "      <td>5.477226</td>\n",
       "    </tr>\n",
       "    <tr>\n",
       "      <th>Дофамин низкая доза</th>\n",
       "      <td>13</td>\n",
       "      <td>15</td>\n",
       "      <td>2</td>\n",
       "      <td>7.211103</td>\n",
       "    </tr>\n",
       "    <tr>\n",
       "      <th>Дофамин высокая доза</th>\n",
       "      <td>20</td>\n",
       "      <td>9</td>\n",
       "      <td>2</td>\n",
       "      <td>8.944272</td>\n",
       "    </tr>\n",
       "    <tr>\n",
       "      <th>Нитропруссид</th>\n",
       "      <td>20</td>\n",
       "      <td>7</td>\n",
       "      <td>1</td>\n",
       "      <td>4.472136</td>\n",
       "    </tr>\n",
       "  </tbody>\n",
       "</table>\n",
       "</div>"
      ],
      "text/plain": [
       "                       n  mean  SME       std\n",
       "Контроль              30    15    1  5.477226\n",
       "Дофамин низкая доза   13    15    2  7.211103\n",
       "Дофамин высокая доза  20     9    2  8.944272\n",
       "Нитропруссид          20     7    1  4.472136"
      ]
     },
     "metadata": {},
     "output_type": "display_data"
    }
   ],
   "source": [
    "df = pd.DataFrame(\n",
    "    data=[[30, 15, 1], [13, 15, 2], [20, 9, 2], [20, 7, 1]],\n",
    "    index=[\"Контроль\", \"Дофамин низкая доза\", \"Дофамин высокая доза\", \"Нитропруссид\"],\n",
    "    columns=[\"n\", \"mean\", \"SME\"]\n",
    ")\n",
    "\n",
    "df[\"std\"] = df[\"SME\"] * df[\"n\"]**.5\n",
    "\n",
    "display(df)"
   ]
  },
  {
   "cell_type": "code",
   "execution_count": 32,
   "metadata": {},
   "outputs": [
    {
     "data": {
      "image/png": "[encoded data removed]",
      "text/plain": [
       "<Figure size 432x288 with 1 Axes>"
      ]
     },
     "metadata": {
      "needs_background": "light"
     },
     "output_type": "display_data"
    }
   ],
   "source": [
    "fig, ax = plt.subplots()\n",
    "\n",
    "plt.errorbar(x=df[\"mean\"], y=df.index, xerr=df[\"std\"], fmt='o', capsize=5);\n",
    "\n",
    "ax.set_title(\"Среднее \\u00b1 стандартное отклонение\");\n",
    "ax.set_xlabel(\"Вес пораженного участка миокарда (в процентах от веса левого желудочка)\");"
   ]
  },
  {
   "cell_type": "code",
   "execution_count": 33,
   "metadata": {},
   "outputs": [
    {
     "name": "stdout",
     "output_type": "stream",
     "text": [
      "Внутригрупповая оценка дисперсии: 43.084\n",
      "Число степеней свободы: 79\n",
      "Число сравнений: 6\n",
      "Критический значение для заданного числа степеней сввободы и уровней значимости 0.01 и 0.05 с учетом поправки Бонферрони: t01 = 3.256, t05 = 2.706\n",
      "\n",
      "\n",
      "Различия статистически не значимы 0.00833 < p:\n",
      "\tt('Контроль', 'Дофамин низкая доза') = 0.000 (p-value = 1.000)\n",
      "\tt('Дофамин высокая доза', 'Нитропруссид') = -0.964 (p-value = 0.338)\n",
      "\tt('Дофамин низкая доза', 'Дофамин высокая доза') = -2.566 (p-value = 0.012)\n",
      "\n",
      "Пограничный случай, есть основания задуматься над наличием различий 0.00167 < p < 0.00833:\n",
      "\tt('Контроль', 'Дофамин высокая доза') = -3.167 (p-value = 0.002)\n",
      "\n",
      "Различия статистически значимы p < 0.00167.\n",
      "\tt('Дофамин низкая доза', 'Нитропруссид') = -3.421 (p-value = 0.001)\n",
      "\tt('Контроль', 'Нитропруссид') = -4.222 (p-value = 0.000)\n"
     ]
    }
   ],
   "source": [
    "t_test_benf(df[\"n\"], df[\"mean\"], df[\"std\"], names=df.index, silent=False)"
   ]
  },
  {
   "cell_type": "markdown",
   "metadata": {},
   "source": [
    "Выделяеются две группы со статистически не значимыми различиями:\n",
    "* 'Контроль' и 'Дофамин низкая доза'\n",
    "* 'Дофамин высокая доза' и 'Нитропруссид'\n",
    "\n",
    "Сравнение 'Дофамин низкая доза' и 'Дофамин высокая доза' имеет очень близкое к криитическому значению t (при этом p-value = 0.012) и учитывая «жесткость» поправки Бонферрони и результаты других сравнений, можно предположить, что различия все же статистически значимы. "
   ]
  },
  {
   "cell_type": "markdown",
   "metadata": {},
   "source": [
    "**4.11**\n",
    "\n",
    "Решите снова задачу 4.10, пользуясь критерием Ньюмена—Кейлса. Сравните результат с решением задачи 4.10 и объясните различия, если они есть."
   ]
  },
  {
   "cell_type": "code",
   "execution_count": 34,
   "metadata": {},
   "outputs": [
    {
     "name": "stdout",
     "output_type": "stream",
     "text": [
      "Внутригрупповая оценка дисперсии: 43.084\n",
      "Число степеней свободы: 79\n",
      "\n",
      "Различия статистически не значимы:\n",
      "\tt('Дофамин низкая доза', 'Контроль') = 0.000, l = 2, p-value = 0.900\n",
      "\tt('Дофамин высокая доза', 'Нитропруссид') = 1.363, l = 2, p-value = 0.338\n",
      "\n",
      "Пограничный случай, есть основания задуматься над наличием различий:\n",
      "\tt('Дофамин низкая доза', 'Дофамин высокая доза') = 3.629, l = 3, p-value = 0.032\n",
      "\n",
      "Различия статистически значимы.\n",
      "\tt('Контроль', 'Дофамин высокая доза') = 4.478, l = 2, p-value = 0.002\n",
      "\tt('Дофамин низкая доза', 'Нитропруссид') = 4.838, l = 4, p-value = 0.005\n",
      "\tt('Контроль', 'Нитропруссид') = 5.971, l = 3, p-value = 0.001\n"
     ]
    }
   ],
   "source": [
    "t_test_nk(df[\"n\"], df[\"mean\"], df[\"std\"], names=df.index, silent=False)"
   ]
  },
  {
   "cell_type": "markdown",
   "metadata": {},
   "source": [
    "Общий вывод тот же, что и в предыдущей задаче, при этом различие дофамина в низкой и высокой дозе теперь статистически значимо."
   ]
  },
  {
   "cell_type": "markdown",
   "metadata": {},
   "source": [
    "**4.12**\n",
    "В задаче 3.6 мы установили, что существуют различия в степени опустошенности у медицинских сестер работающих с больными разной тяжести. В чем заключаются эти различия?\n",
    "> **3.6**\n",
    ">\n",
    "> Работа медицинской сестры сопряжена с постоянным напряжением и тяжелыми переживаниями. Груз ответственности, не уравновешенной правом принимать решения, рождает чувство усталости, раздражения и безысходности, интересная некогда работа становится ненавистным бременем. Этот синдром не совсем точно называют опустошенностью. Считается, что его развитию особенно подвержены медицинские сестры, которые работают с наиболее тяжелыми больными. Чтобы проверить это предположение, Э. Кин и соавт. (A. Keane et al. Stress in ICU and non-ICU  nurses.  Nurs.  Res.,  34:231—236,  1985)  провели  опрос медицинских сестер с помощью специально разработанного опросника, позволяющего оценить опустошенность в баллах. Медицинских  сестер  разделили  на  три  группы  в  зависимости  от тяжести состояния больных, с которыми они работали (1-я группа — наиболее тяжелые больные, 3-я — самые легкие). Далее каждую  группу  разделили  на  две  —  медицинские  сестры  хирургических и терапевтических отделений, таким образом, получилось 6 групп по 16 медицинских сестер в каждой. Являются ли различия между 6 группами статистически значимыми?\n",
    "\n",
    "_|Гр.1 Хир.|Гр.1 Тер.|Гр.2 Хир.|Гр.2 Тер.|Гр.3 Хир.|Гр.3 Тер.\n",
    "-|-|-|-|-|-|-\n",
    "Среднее|49.9|51.2|57.3|46.4|43.9|65.2\n",
    "Стандартное отклонение|14.3|13.4|14.9|14.7|16.5|20.5"
   ]
  },
  {
   "cell_type": "code",
   "execution_count": 35,
   "metadata": {},
   "outputs": [
    {
     "data": {
      "text/html": [
       "<div>\n",
       "<style scoped>\n",
       "    .dataframe tbody tr th:only-of-type {\n",
       "        vertical-align: middle;\n",
       "    }\n",
       "\n",
       "    .dataframe tbody tr th {\n",
       "        vertical-align: top;\n",
       "    }\n",
       "\n",
       "    .dataframe thead tr th {\n",
       "        text-align: left;\n",
       "    }\n",
       "</style>\n",
       "<table border=\"1\" class=\"dataframe\">\n",
       "  <thead>\n",
       "    <tr>\n",
       "      <th></th>\n",
       "      <th colspan=\"2\" halign=\"left\">Группа 1</th>\n",
       "      <th colspan=\"2\" halign=\"left\">Группа 2</th>\n",
       "      <th colspan=\"2\" halign=\"left\">Группа 3</th>\n",
       "    </tr>\n",
       "    <tr>\n",
       "      <th></th>\n",
       "      <th>Хир.</th>\n",
       "      <th>Тер.</th>\n",
       "      <th>Хир.</th>\n",
       "      <th>Тер.</th>\n",
       "      <th>Хир.</th>\n",
       "      <th>Тер.</th>\n",
       "    </tr>\n",
       "  </thead>\n",
       "  <tbody>\n",
       "    <tr>\n",
       "      <th>mean</th>\n",
       "      <td>49.9</td>\n",
       "      <td>51.2</td>\n",
       "      <td>57.3</td>\n",
       "      <td>46.4</td>\n",
       "      <td>43.9</td>\n",
       "      <td>65.2</td>\n",
       "    </tr>\n",
       "    <tr>\n",
       "      <th>std</th>\n",
       "      <td>14.3</td>\n",
       "      <td>13.4</td>\n",
       "      <td>14.9</td>\n",
       "      <td>14.7</td>\n",
       "      <td>16.5</td>\n",
       "      <td>20.5</td>\n",
       "    </tr>\n",
       "  </tbody>\n",
       "</table>\n",
       "</div>"
      ],
      "text/plain": [
       "     Группа 1       Группа 2       Группа 3      \n",
       "         Хир.  Тер.     Хир.  Тер.     Хир.  Тер.\n",
       "mean     49.9  51.2     57.3  46.4     43.9  65.2\n",
       "std      14.3  13.4     14.9  14.7     16.5  20.5"
      ]
     },
     "metadata": {},
     "output_type": "display_data"
    }
   ],
   "source": [
    "N = 16\n",
    "\n",
    "df = pd.DataFrame(\n",
    "    data=[[49.9, 51.2, 57.3, 46.4, 43.9, 65.2], [14.3, 13.4, 14.9, 14.7, 16.5, 20.5]],\n",
    "    index=[\"mean\", \"std\"], \n",
    "    columns=pd.MultiIndex.from_tuples(product([f\"Группа {n}\" for n in \"123\"], [\"Хир.\", \"Тер.\"]))\n",
    ")\n",
    "\n",
    "display(df)"
   ]
  },
  {
   "cell_type": "code",
   "execution_count": 36,
   "metadata": {},
   "outputs": [
    {
     "data": {
      "image/png": "[encoded data removed]",
      "text/plain": [
       "<Figure size 432x288 with 1 Axes>"
      ]
     },
     "metadata": {
      "needs_background": "light"
     },
     "output_type": "display_data"
    }
   ],
   "source": [
    "fig, ax = plt.subplots()\n",
    "\n",
    "plt.errorbar(x=df.loc[\"mean\"], y=[\" \".join(x) for x in df.columns], xerr=df.loc[\"std\"], fmt='o', capsize=5);\n",
    "\n",
    "ax.set_title(\"Среднее \\u00b1 стандартное отклонение\");\n",
    "ax.set_xlabel(\"Уровень опустошенности в баллах\");"
   ]
  },
  {
   "cell_type": "markdown",
   "metadata": {},
   "source": [
    "Групп слишком много, чтобы применить поправку Бонферрони: она окажется слишком «строгой». Применим поэтому критерий Ньюмена—Кейлса."
   ]
  },
  {
   "cell_type": "code",
   "execution_count": 37,
   "metadata": {},
   "outputs": [
    {
     "name": "stdout",
     "output_type": "stream",
     "text": [
      "Внутригрупповая оценка дисперсии: 252.442\n",
      "Число степеней свободы: 90\n",
      "\n",
      "Различия статистически не значимы:\n",
      "\tt('Группа 1 Тер.', 'Группа 1 Хир.') = 0.327, l = 2, p-value = 0.824\n",
      "\tt('Группа 2 Тер.', 'Группа 3 Хир.') = 0.629, l = 2, p-value = 0.668\n",
      "\tt('Группа 1 Хир.', 'Группа 2 Тер.') = 0.881, l = 2, p-value = 0.539\n",
      "\tt('Группа 1 Тер.', 'Группа 2 Тер.') = 1.208, l = 3, p-value = 0.656\n",
      "\tt('Группа 1 Хир.', 'Группа 3 Хир.') = 1.511, l = 3, p-value = 0.535\n",
      "\tt('Группа 2 Хир.', 'Группа 1 Тер.') = 1.536, l = 2, p-value = 0.280\n",
      "\tt('Группа 1 Тер.', 'Группа 3 Хир.') = 1.838, l = 4, p-value = 0.558\n",
      "\tt('Группа 2 Хир.', 'Группа 1 Хир.') = 1.863, l = 3, p-value = 0.391\n",
      "\tt('Группа 3 Тер.', 'Группа 2 Хир.') = 1.989, l = 2, p-value = 0.163\n",
      "\tt('Группа 2 Хир.', 'Группа 2 Тер.') = 2.744, l = 4, p-value = 0.219\n",
      "\tt('Группа 2 Хир.', 'Группа 3 Хир.') = 3.374, l = 5, p-value = 0.129\n",
      "\n",
      "Пограничный случай, есть основания задуматься над наличием различий:\n",
      "\tt('Группа 3 Тер.', 'Группа 1 Тер.') = 3.525, l = 3, p-value = 0.038\n",
      "\tt('Группа 3 Тер.', 'Группа 1 Хир.') = 3.852, l = 4, p-value = 0.038\n",
      "\tt('Группа 3 Тер.', 'Группа 2 Тер.') = 4.733, l = 5, p-value = 0.010\n",
      "\n",
      "Различия статистически значимы.\n",
      "\tt('Группа 3 Тер.', 'Группа 3 Хир.') = 5.362, l = 6, p-value = 0.004\n"
     ]
    }
   ],
   "source": [
    "t_test_nk(N, df.loc[\"mean\"], df.loc[\"std\"], names=[\" \".join(x) for x in df.columns], silent=False)  #type: ignore (не понимает что это pd.Series)"
   ]
  },
  {
   "cell_type": "markdown",
   "metadata": {},
   "source": [
    "Явно выделяется 3-я группа медсестер из терапевтических отделений и их можно отнести к категории высокой опутошенности.\n",
    "\n",
    "Другая группа представляет собой всех остальных за исключением медсестер 2-й группы хирургических отделений, назовем их категорией умеренной опусошенности.\n",
    "\n",
    "Медсестры 2-й группы хирургических отделений стоят особняком и могут быть отнесены либо к первой, либо ко второй группе. Однако в данном случае решить эту неоднозначность наверное стоит в пользу категории высокой опустошенности."
   ]
  }
 ],
 "metadata": {
  "kernelspec": {
   "display_name": "Python 3.9.7 ('kaggle')",
   "language": "python",
   "name": "python3"
  },
  "language_info": {
   "codemirror_mode": {
    "name": "ipython",
    "version": 3
   },
   "file_extension": ".py",
   "mimetype": "text/x-python",
   "name": "python",
   "nbconvert_exporter": "python",
   "pygments_lexer": "ipython3",
   "version": "3.9.7"
  },
  "orig_nbformat": 4,
  "vscode": {
   "interpreter": {
    "hash": "c87114ee6b6cf384294f90c5f2b9fb4cb1520b5534c8c2c109b7c3f59f5d4f57"
   }
  }
 },
 "nbformat": 4,
 "nbformat_minor": 2
}
